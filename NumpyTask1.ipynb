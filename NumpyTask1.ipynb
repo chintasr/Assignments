{
 "cells": [
  {
   "cell_type": "markdown",
   "id": "ac529e03",
   "metadata": {},
   "source": [
    "### 1.write python code to create array in different ways"
   ]
  },
  {
   "cell_type": "code",
   "execution_count": 2,
   "id": "d740c95f",
   "metadata": {},
   "outputs": [],
   "source": [
    "import numpy as np"
   ]
  },
  {
   "cell_type": "code",
   "execution_count": 3,
   "id": "0d3e87fe",
   "metadata": {},
   "outputs": [
    {
     "data": {
      "text/plain": [
       "array([20, 30, 40, 50, 60])"
      ]
     },
     "execution_count": 3,
     "metadata": {},
     "output_type": "execute_result"
    }
   ],
   "source": [
    "# method 1\n",
    "\n",
    "arr = np.array([20,30,40,50,60])\n",
    "arr"
   ]
  },
  {
   "cell_type": "code",
   "execution_count": 8,
   "id": "c72be768",
   "metadata": {},
   "outputs": [
    {
     "data": {
      "text/plain": [
       "array([1, 2, 3, 4, 5])"
      ]
     },
     "execution_count": 8,
     "metadata": {},
     "output_type": "execute_result"
    }
   ],
   "source": [
    "# method 2 using tuple\n",
    "\n",
    "arr = np.array((1,2,3,4,5))\n",
    "arr"
   ]
  },
  {
   "cell_type": "code",
   "execution_count": 4,
   "id": "0960be5c",
   "metadata": {},
   "outputs": [
    {
     "data": {
      "text/plain": [
       "array([0., 0., 0., 0., 0.])"
      ]
     },
     "execution_count": 4,
     "metadata": {},
     "output_type": "execute_result"
    }
   ],
   "source": [
    "# method -  np.zeros()-array filled with all zeros\n",
    "\n",
    "arr = np.zeros(5)\n",
    "arr"
   ]
  },
  {
   "cell_type": "code",
   "execution_count": 5,
   "id": "03b7bf92",
   "metadata": {},
   "outputs": [
    {
     "data": {
      "text/plain": [
       "array([1., 1., 1., 1., 1.])"
      ]
     },
     "execution_count": 5,
     "metadata": {},
     "output_type": "execute_result"
    }
   ],
   "source": [
    "# method - np.ones()-array filled with all ones\n",
    "\n",
    "arr = np.ones(5)\n",
    "arr"
   ]
  },
  {
   "cell_type": "code",
   "execution_count": 6,
   "id": "fcf90fd0",
   "metadata": {},
   "outputs": [
    {
     "data": {
      "text/plain": [
       "array([1, 2, 3, 4, 5, 6, 7, 8, 9])"
      ]
     },
     "execution_count": 6,
     "metadata": {},
     "output_type": "execute_result"
    }
   ],
   "source": [
    "# method - np.arange()-array filled with regularly spaced values\n",
    "\n",
    "\n",
    "arr = np.arange(1,10)\n",
    "arr"
   ]
  },
  {
   "cell_type": "code",
   "execution_count": 7,
   "id": "b06d9579",
   "metadata": {},
   "outputs": [
    {
     "data": {
      "text/plain": [
       "array([ 1.,  4.,  7., 10.])"
      ]
     },
     "execution_count": 7,
     "metadata": {},
     "output_type": "execute_result"
    }
   ],
   "source": [
    "# method - np.linspace()-array filled with evenly spaced values\n",
    "\n",
    "arr = np.linspace(1,10,4)\n",
    "arr"
   ]
  },
  {
   "cell_type": "markdown",
   "id": "3ae1dee1",
   "metadata": {},
   "source": [
    "### 2.array creation"
   ]
  },
  {
   "cell_type": "markdown",
   "id": "f6a837cd",
   "metadata": {},
   "source": [
    "#### a.create a 1D Numpy array containing the first 12 positive integer as arr1"
   ]
  },
  {
   "cell_type": "code",
   "execution_count": 96,
   "id": "df546c2b",
   "metadata": {},
   "outputs": [
    {
     "data": {
      "text/plain": [
       "array([ 1,  2,  3,  4,  5,  6,  7,  8,  9, 10, 11, 12])"
      ]
     },
     "execution_count": 96,
     "metadata": {},
     "output_type": "execute_result"
    }
   ],
   "source": [
    "arr1 = np.arange(1,13)\n",
    "arr1"
   ]
  },
  {
   "cell_type": "code",
   "execution_count": 97,
   "id": "18ed6821",
   "metadata": {},
   "outputs": [
    {
     "data": {
      "text/plain": [
       "12"
      ]
     },
     "execution_count": 97,
     "metadata": {},
     "output_type": "execute_result"
    }
   ],
   "source": [
    "len(arr1)"
   ]
  },
  {
   "cell_type": "code",
   "execution_count": 98,
   "id": "a1865523",
   "metadata": {},
   "outputs": [
    {
     "data": {
      "text/plain": [
       "2213534919792"
      ]
     },
     "execution_count": 98,
     "metadata": {},
     "output_type": "execute_result"
    }
   ],
   "source": [
    "id(arr1)"
   ]
  },
  {
   "cell_type": "code",
   "execution_count": 99,
   "id": "ebcff32b",
   "metadata": {},
   "outputs": [
    {
     "data": {
      "text/plain": [
       "numpy.ndarray"
      ]
     },
     "execution_count": 99,
     "metadata": {},
     "output_type": "execute_result"
    }
   ],
   "source": [
    "type(arr1)"
   ]
  },
  {
   "cell_type": "markdown",
   "id": "0efb2652",
   "metadata": {},
   "source": [
    "#### b.create a 1D Numpy array1 with 20 elements containing  integer between 0 and 12 using linspace"
   ]
  },
  {
   "cell_type": "code",
   "execution_count": 100,
   "id": "babec229",
   "metadata": {},
   "outputs": [
    {
     "data": {
      "text/plain": [
       "array([ 1.        ,  1.57894737,  2.15789474,  2.73684211,  3.31578947,\n",
       "        3.89473684,  4.47368421,  5.05263158,  5.63157895,  6.21052632,\n",
       "        6.78947368,  7.36842105,  7.94736842,  8.52631579,  9.10526316,\n",
       "        9.68421053, 10.26315789, 10.84210526, 11.42105263, 12.        ])"
      ]
     },
     "execution_count": 100,
     "metadata": {},
     "output_type": "execute_result"
    }
   ],
   "source": [
    "arr2 = np.linspace(1,12,20)\n",
    "arr2"
   ]
  },
  {
   "cell_type": "code",
   "execution_count": 101,
   "id": "3c1aebf3",
   "metadata": {},
   "outputs": [
    {
     "data": {
      "text/plain": [
       "20"
      ]
     },
     "execution_count": 101,
     "metadata": {},
     "output_type": "execute_result"
    }
   ],
   "source": [
    "len(arr2)"
   ]
  },
  {
   "cell_type": "code",
   "execution_count": 102,
   "id": "af8cce7e",
   "metadata": {},
   "outputs": [
    {
     "data": {
      "text/plain": [
       "numpy.ndarray"
      ]
     },
     "execution_count": 102,
     "metadata": {},
     "output_type": "execute_result"
    }
   ],
   "source": [
    "type(arr2)"
   ]
  },
  {
   "cell_type": "code",
   "execution_count": 103,
   "id": "95318d32",
   "metadata": {},
   "outputs": [
    {
     "data": {
      "text/plain": [
       "2213534920752"
      ]
     },
     "execution_count": 103,
     "metadata": {},
     "output_type": "execute_result"
    }
   ],
   "source": [
    "id(arr2)"
   ]
  },
  {
   "cell_type": "markdown",
   "id": "99843988",
   "metadata": {},
   "source": [
    "### 3.find all attributes of arr1 and arr2"
   ]
  },
  {
   "cell_type": "markdown",
   "id": "39b61a49",
   "metadata": {},
   "source": [
    "#### arr1"
   ]
  },
  {
   "cell_type": "code",
   "execution_count": 11,
   "id": "ab5238a8",
   "metadata": {},
   "outputs": [
    {
     "data": {
      "text/plain": [
       "dtype('int32')"
      ]
     },
     "execution_count": 11,
     "metadata": {},
     "output_type": "execute_result"
    }
   ],
   "source": [
    "arr1.dtype  # dtype-data type of array"
   ]
  },
  {
   "cell_type": "code",
   "execution_count": 14,
   "id": "5a39dc07",
   "metadata": {},
   "outputs": [
    {
     "data": {
      "text/plain": [
       "12"
      ]
     },
     "execution_count": 14,
     "metadata": {},
     "output_type": "execute_result"
    }
   ],
   "source": [
    "arr1.size  # size-no.of elements"
   ]
  },
  {
   "cell_type": "code",
   "execution_count": 15,
   "id": "735ce0b9",
   "metadata": {},
   "outputs": [
    {
     "data": {
      "text/plain": [
       "48"
      ]
     },
     "execution_count": 15,
     "metadata": {},
     "output_type": "execute_result"
    }
   ],
   "source": [
    "arr1.nbytes  #nbytes-memory occupied by array"
   ]
  },
  {
   "cell_type": "code",
   "execution_count": 16,
   "id": "3272dbdb",
   "metadata": {},
   "outputs": [
    {
     "data": {
      "text/plain": [
       "4"
      ]
     },
     "execution_count": 16,
     "metadata": {},
     "output_type": "execute_result"
    }
   ],
   "source": [
    "arr1.itemsize #itemsize-memory occupied by each item"
   ]
  },
  {
   "cell_type": "markdown",
   "id": "f7e30439",
   "metadata": {},
   "source": [
    "#### arr2"
   ]
  },
  {
   "cell_type": "code",
   "execution_count": 17,
   "id": "97a09163",
   "metadata": {},
   "outputs": [
    {
     "data": {
      "text/plain": [
       "dtype('float64')"
      ]
     },
     "execution_count": 17,
     "metadata": {},
     "output_type": "execute_result"
    }
   ],
   "source": [
    "arr2.dtype  # dtype-data type of array"
   ]
  },
  {
   "cell_type": "code",
   "execution_count": 18,
   "id": "779c6d86",
   "metadata": {},
   "outputs": [
    {
     "data": {
      "text/plain": [
       "20"
      ]
     },
     "execution_count": 18,
     "metadata": {},
     "output_type": "execute_result"
    }
   ],
   "source": [
    "arr2.size  # size-no.of elements"
   ]
  },
  {
   "cell_type": "code",
   "execution_count": 19,
   "id": "8c163ccd",
   "metadata": {},
   "outputs": [
    {
     "data": {
      "text/plain": [
       "160"
      ]
     },
     "execution_count": 19,
     "metadata": {},
     "output_type": "execute_result"
    }
   ],
   "source": [
    "arr2.nbytes #nbytes-memory occupied by array"
   ]
  },
  {
   "cell_type": "code",
   "execution_count": 20,
   "id": "c79fb99b",
   "metadata": {},
   "outputs": [
    {
     "data": {
      "text/plain": [
       "8"
      ]
     },
     "execution_count": 20,
     "metadata": {},
     "output_type": "execute_result"
    }
   ],
   "source": [
    "arr2.itemsize #itemsize-memory occupied by each item"
   ]
  },
  {
   "cell_type": "markdown",
   "id": "3bc6812a",
   "metadata": {},
   "source": [
    "### 4.apply measure and describe the data(attribue and statistics) to above arrays using Numpy"
   ]
  },
  {
   "cell_type": "markdown",
   "id": "9383b656",
   "metadata": {},
   "source": [
    "### arr1"
   ]
  },
  {
   "cell_type": "code",
   "execution_count": 59,
   "id": "2d5ccff4",
   "metadata": {},
   "outputs": [
    {
     "data": {
      "text/plain": [
       "array([ 1,  2,  3,  4,  5,  6,  7,  8,  9, 10, 11, 12])"
      ]
     },
     "execution_count": 59,
     "metadata": {},
     "output_type": "execute_result"
    }
   ],
   "source": [
    "arr1"
   ]
  },
  {
   "cell_type": "code",
   "execution_count": 67,
   "id": "1f81d8da",
   "metadata": {},
   "outputs": [
    {
     "data": {
      "text/plain": [
       "6.5"
      ]
     },
     "execution_count": 67,
     "metadata": {},
     "output_type": "execute_result"
    }
   ],
   "source": [
    "np.mean(arr1) # mean-avg"
   ]
  },
  {
   "cell_type": "code",
   "execution_count": 24,
   "id": "2aab3cce",
   "metadata": {},
   "outputs": [
    {
     "data": {
      "text/plain": [
       "6.5"
      ]
     },
     "execution_count": 24,
     "metadata": {},
     "output_type": "execute_result"
    }
   ],
   "source": [
    "np.median(arr1) # median-middle value"
   ]
  },
  {
   "cell_type": "code",
   "execution_count": 81,
   "id": "266ebad4",
   "metadata": {},
   "outputs": [
    {
     "data": {
      "text/plain": [
       "11"
      ]
     },
     "execution_count": 81,
     "metadata": {},
     "output_type": "execute_result"
    }
   ],
   "source": [
    "Range =  max(arr1) - min(arr1) # range-max-min\n",
    "Range"
   ]
  },
  {
   "cell_type": "code",
   "execution_count": 82,
   "id": "839cff5c",
   "metadata": {},
   "outputs": [
    {
     "data": {
      "text/plain": [
       "11.916666666666666"
      ]
     },
     "execution_count": 82,
     "metadata": {},
     "output_type": "execute_result"
    }
   ],
   "source": [
    "np.var(arr1)  # variance-how data values spread from mean"
   ]
  },
  {
   "cell_type": "code",
   "execution_count": 83,
   "id": "6973c43c",
   "metadata": {},
   "outputs": [
    {
     "data": {
      "text/plain": [
       "3.452052529534663"
      ]
     },
     "execution_count": 83,
     "metadata": {},
     "output_type": "execute_result"
    }
   ],
   "source": [
    "np.std(arr1)  # standard deviation-deviating from mean"
   ]
  },
  {
   "cell_type": "code",
   "execution_count": 84,
   "id": "d503b93a",
   "metadata": {},
   "outputs": [
    {
     "data": {
      "text/plain": [
       "5.5"
      ]
     },
     "execution_count": 84,
     "metadata": {},
     "output_type": "execute_result"
    }
   ],
   "source": [
    "Q1 = np.percentile(arr1,25)  # IQR = Q3-Q1\n",
    "Q3 = np.percentile(arr1,75)\n",
    "IQR = Q3 - Q1\n",
    "IQR"
   ]
  },
  {
   "cell_type": "code",
   "execution_count": 85,
   "id": "6bbbe01b",
   "metadata": {},
   "outputs": [
    {
     "name": "stdout",
     "output_type": "stream",
     "text": [
      "lower_limit: -4.5\n",
      "upper_limit: 17.5\n"
     ]
    }
   ],
   "source": [
    "lower_limit = Q1 - (1.5)*(IQR)\n",
    "print(\"lower_limit:\",lower_limit)\n",
    "upper_limit = Q3 + (1.5)*(IQR)\n",
    "print(\"upper_limit:\",upper_limit)"
   ]
  },
  {
   "cell_type": "code",
   "execution_count": 86,
   "id": "609d7b5d",
   "metadata": {},
   "outputs": [
    {
     "name": "stdout",
     "output_type": "stream",
     "text": [
      "[]\n",
      "[]\n"
     ]
    }
   ],
   "source": [
    "print(arr1[arr1>upper_limit])  # outlier-there is no outliers in arr1\n",
    "print(arr1[arr1<lower_limit])"
   ]
  },
  {
   "cell_type": "markdown",
   "id": "ee2adc0b",
   "metadata": {},
   "source": [
    "### arr2"
   ]
  },
  {
   "cell_type": "code",
   "execution_count": 87,
   "id": "78f6db25",
   "metadata": {},
   "outputs": [
    {
     "data": {
      "text/plain": [
       "array([ 1.        ,  1.57894737,  2.15789474,  2.73684211,  3.31578947,\n",
       "        3.89473684,  4.47368421,  5.05263158,  5.63157895,  6.21052632,\n",
       "        6.78947368,  7.36842105,  7.94736842,  8.52631579,  9.10526316,\n",
       "        9.68421053, 10.26315789, 10.84210526, 11.42105263, 12.        ])"
      ]
     },
     "execution_count": 87,
     "metadata": {},
     "output_type": "execute_result"
    }
   ],
   "source": [
    "arr2"
   ]
  },
  {
   "cell_type": "code",
   "execution_count": 88,
   "id": "45564267",
   "metadata": {},
   "outputs": [
    {
     "data": {
      "text/plain": [
       "6.5"
      ]
     },
     "execution_count": 88,
     "metadata": {},
     "output_type": "execute_result"
    }
   ],
   "source": [
    "np.mean(arr2)  # mean-avg"
   ]
  },
  {
   "cell_type": "code",
   "execution_count": 89,
   "id": "43765579",
   "metadata": {},
   "outputs": [
    {
     "data": {
      "text/plain": [
       "6.5"
      ]
     },
     "execution_count": 89,
     "metadata": {},
     "output_type": "execute_result"
    }
   ],
   "source": [
    "np.median(arr2) # median-middle value"
   ]
  },
  {
   "cell_type": "code",
   "execution_count": 90,
   "id": "0bc49925",
   "metadata": {},
   "outputs": [
    {
     "data": {
      "text/plain": [
       "11.144736842105264"
      ]
     },
     "execution_count": 90,
     "metadata": {},
     "output_type": "execute_result"
    }
   ],
   "source": [
    "np.var(arr2)  # var- how data values spread from mean"
   ]
  },
  {
   "cell_type": "code",
   "execution_count": 91,
   "id": "a58cb160",
   "metadata": {},
   "outputs": [
    {
     "data": {
      "text/plain": [
       "3.338373382667862"
      ]
     },
     "execution_count": 91,
     "metadata": {},
     "output_type": "execute_result"
    }
   ],
   "source": [
    "np.std(arr2) # std-deviating from mean"
   ]
  },
  {
   "cell_type": "code",
   "execution_count": 92,
   "id": "a4186a00",
   "metadata": {},
   "outputs": [
    {
     "data": {
      "text/plain": [
       "11.0"
      ]
     },
     "execution_count": 92,
     "metadata": {},
     "output_type": "execute_result"
    }
   ],
   "source": [
    "Range = max(arr2) - min(arr2) # Range-max-min\n",
    "Range"
   ]
  },
  {
   "cell_type": "code",
   "execution_count": 93,
   "id": "75674fdd",
   "metadata": {},
   "outputs": [
    {
     "data": {
      "text/plain": [
       "5.5"
      ]
     },
     "execution_count": 93,
     "metadata": {},
     "output_type": "execute_result"
    }
   ],
   "source": [
    "Q3 = np.percentile(arr2,75) \n",
    "Q1 = np.percentile(arr2,25)  # Range = max-min\n",
    "IQR =Q3 - Q1\n",
    "IQR"
   ]
  },
  {
   "cell_type": "code",
   "execution_count": 94,
   "id": "a7a767bb",
   "metadata": {},
   "outputs": [
    {
     "name": "stdout",
     "output_type": "stream",
     "text": [
      "lower_limit: -4.5\n",
      "upper_limit: 17.5\n"
     ]
    }
   ],
   "source": [
    "lower_limit = Q1 - (1.5)*(IQR)\n",
    "print(\"lower_limit:\",lower_limit)\n",
    "upper_limit = Q3 + (1.5)*(IQR)\n",
    "print(\"upper_limit:\",upper_limit)"
   ]
  },
  {
   "cell_type": "code",
   "execution_count": 95,
   "id": "bad87a60",
   "metadata": {},
   "outputs": [
    {
     "name": "stdout",
     "output_type": "stream",
     "text": [
      "[]\n",
      "[]\n"
     ]
    }
   ],
   "source": [
    "print(arr1[arr1>upper_limit])  # outlier-there is no outliers in arr2\n",
    "print(arr1[arr1<lower_limit])"
   ]
  }
 ],
 "metadata": {
  "kernelspec": {
   "display_name": "Python 3 (ipykernel)",
   "language": "python",
   "name": "python3"
  },
  "language_info": {
   "codemirror_mode": {
    "name": "ipython",
    "version": 3
   },
   "file_extension": ".py",
   "mimetype": "text/x-python",
   "name": "python",
   "nbconvert_exporter": "python",
   "pygments_lexer": "ipython3",
   "version": "3.11.4"
  }
 },
 "nbformat": 4,
 "nbformat_minor": 5
}
