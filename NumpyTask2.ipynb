{
 "cells": [
  {
   "cell_type": "markdown",
   "id": "032a694b",
   "metadata": {},
   "source": [
    "### Creation of ndarray"
   ]
  },
  {
   "cell_type": "markdown",
   "id": "d653ac0e",
   "metadata": {},
   "source": [
    "#### 1.Write python code to create 3d array in different ways with 15 elements."
   ]
  },
  {
   "cell_type": "code",
   "execution_count": 1,
   "id": "cb20b5fb",
   "metadata": {},
   "outputs": [],
   "source": [
    "import numpy as np"
   ]
  },
  {
   "cell_type": "code",
   "execution_count": 4,
   "id": "f2510bbe",
   "metadata": {},
   "outputs": [
    {
     "data": {
      "text/plain": [
       "array([[[10, 15, 20, 25, 30, 35, 40, 45, 50, 55, 60, 65, 70, 75, 80]]])"
      ]
     },
     "execution_count": 4,
     "metadata": {},
     "output_type": "execute_result"
    }
   ],
   "source": [
    "arr = np.array([10,15,20,25,30,35,40,45,50,55,60,65,70,75,80],ndmin = 3) #method-1\n",
    "arr"
   ]
  },
  {
   "cell_type": "code",
   "execution_count": 9,
   "id": "cfdf7592",
   "metadata": {},
   "outputs": [
    {
     "data": {
      "text/plain": [
       "array([[[10, 15, 20]],\n",
       "\n",
       "       [[25, 30, 35]],\n",
       "\n",
       "       [[40, 45, 50]],\n",
       "\n",
       "       [[55, 60, 65]],\n",
       "\n",
       "       [[70, 75, 80]]])"
      ]
     },
     "execution_count": 9,
     "metadata": {},
     "output_type": "execute_result"
    }
   ],
   "source": [
    "arr = np.array([10,15,20,25,30,35,40,45,50,55,60,65,70,75,80]).reshape(5,1,3) #method-2\n",
    "arr"
   ]
  },
  {
   "cell_type": "code",
   "execution_count": 10,
   "id": "c7746ac2",
   "metadata": {},
   "outputs": [
    {
     "data": {
      "text/plain": [
       "array([[[10, 15, 20, 25, 30, 35, 40, 45, 50, 55, 60, 65, 70, 75, 80]]])"
      ]
     },
     "execution_count": 10,
     "metadata": {},
     "output_type": "execute_result"
    }
   ],
   "source": [
    "arr = np.array([[[10,15,20,25,30,35,40,45,50,55,60,65,70,75,80]]]) #method-3\n",
    "arr"
   ]
  },
  {
   "cell_type": "markdown",
   "id": "e645bb32",
   "metadata": {},
   "source": [
    "#### 2.Array Creation:"
   ]
  },
  {
   "cell_type": "markdown",
   "id": "6dae5599",
   "metadata": {},
   "source": [
    "##### a. Create a 4D NumPy array containing the first 12 positive integers as arr1"
   ]
  },
  {
   "cell_type": "code",
   "execution_count": 23,
   "id": "8eecf407",
   "metadata": {},
   "outputs": [
    {
     "data": {
      "text/plain": [
       "array([[[[ 1,  2,  3,  4,  5,  6,  7,  8,  9, 10, 11, 12]]]])"
      ]
     },
     "execution_count": 23,
     "metadata": {},
     "output_type": "execute_result"
    }
   ],
   "source": [
    "arr1 = np.array([1,2,3,4,5,6,7,8,9,10,11,12],ndmin = 4)\n",
    "arr1"
   ]
  },
  {
   "cell_type": "markdown",
   "id": "cb1171a7",
   "metadata": {},
   "source": [
    "#### b. Create a 3D NumPy array1 with 20 random elements containing integers between 0 and 1"
   ]
  },
  {
   "cell_type": "code",
   "execution_count": 34,
   "id": "f1aa1329",
   "metadata": {},
   "outputs": [
    {
     "data": {
      "text/plain": [
       "array([[[1, 1, 0, 0]],\n",
       "\n",
       "       [[1, 1, 1, 1]],\n",
       "\n",
       "       [[1, 0, 0, 0]],\n",
       "\n",
       "       [[1, 1, 0, 0]],\n",
       "\n",
       "       [[0, 0, 1, 1]]])"
      ]
     },
     "execution_count": 34,
     "metadata": {},
     "output_type": "execute_result"
    }
   ],
   "source": [
    "arr2 = np.random.randint(0,2,20).reshape(5,1,4)\n",
    "arr2"
   ]
  },
  {
   "cell_type": "markdown",
   "id": "05efb918",
   "metadata": {},
   "source": [
    "####  3. Find all attributes of array1 and array2"
   ]
  },
  {
   "cell_type": "markdown",
   "id": "0c3fb067",
   "metadata": {},
   "source": [
    "##### attributes of arr1"
   ]
  },
  {
   "cell_type": "code",
   "execution_count": 35,
   "id": "3cdb0e36",
   "metadata": {},
   "outputs": [
    {
     "data": {
      "text/plain": [
       "array([[[[ 1,  2,  3,  4,  5,  6,  7,  8,  9, 10, 11, 12]]]])"
      ]
     },
     "execution_count": 35,
     "metadata": {},
     "output_type": "execute_result"
    }
   ],
   "source": [
    "arr1"
   ]
  },
  {
   "cell_type": "code",
   "execution_count": 37,
   "id": "3c36860c",
   "metadata": {},
   "outputs": [
    {
     "data": {
      "text/plain": [
       "dtype('int32')"
      ]
     },
     "execution_count": 37,
     "metadata": {},
     "output_type": "execute_result"
    }
   ],
   "source": [
    "arr1.dtype  # data type"
   ]
  },
  {
   "cell_type": "code",
   "execution_count": 38,
   "id": "4f5dba06",
   "metadata": {},
   "outputs": [
    {
     "data": {
      "text/plain": [
       "12"
      ]
     },
     "execution_count": 38,
     "metadata": {},
     "output_type": "execute_result"
    }
   ],
   "source": [
    "arr1.size # no.of elements in array"
   ]
  },
  {
   "cell_type": "code",
   "execution_count": 39,
   "id": "e7ed1e4c",
   "metadata": {},
   "outputs": [
    {
     "data": {
      "text/plain": [
       "48"
      ]
     },
     "execution_count": 39,
     "metadata": {},
     "output_type": "execute_result"
    }
   ],
   "source": [
    "arr1.nbytes # memory size of array"
   ]
  },
  {
   "cell_type": "code",
   "execution_count": 40,
   "id": "41884c48",
   "metadata": {},
   "outputs": [
    {
     "data": {
      "text/plain": [
       "4"
      ]
     },
     "execution_count": 40,
     "metadata": {},
     "output_type": "execute_result"
    }
   ],
   "source": [
    "arr1.itemsize #memory occupied by each item"
   ]
  },
  {
   "cell_type": "code",
   "execution_count": 42,
   "id": "437cfc0d",
   "metadata": {},
   "outputs": [
    {
     "data": {
      "text/plain": [
       "4"
      ]
     },
     "execution_count": 42,
     "metadata": {},
     "output_type": "execute_result"
    }
   ],
   "source": [
    "arr1.ndim # dimension"
   ]
  },
  {
   "cell_type": "markdown",
   "id": "079f1002",
   "metadata": {},
   "source": [
    "##### attributes of arr2"
   ]
  },
  {
   "cell_type": "code",
   "execution_count": 43,
   "id": "81a75b65",
   "metadata": {},
   "outputs": [
    {
     "data": {
      "text/plain": [
       "array([[[1, 1, 0, 0]],\n",
       "\n",
       "       [[1, 1, 1, 1]],\n",
       "\n",
       "       [[1, 0, 0, 0]],\n",
       "\n",
       "       [[1, 1, 0, 0]],\n",
       "\n",
       "       [[0, 0, 1, 1]]])"
      ]
     },
     "execution_count": 43,
     "metadata": {},
     "output_type": "execute_result"
    }
   ],
   "source": [
    "arr2"
   ]
  },
  {
   "cell_type": "code",
   "execution_count": 44,
   "id": "789a20b3",
   "metadata": {},
   "outputs": [
    {
     "data": {
      "text/plain": [
       "dtype('int32')"
      ]
     },
     "execution_count": 44,
     "metadata": {},
     "output_type": "execute_result"
    }
   ],
   "source": [
    "arr2.dtype # data type"
   ]
  },
  {
   "cell_type": "code",
   "execution_count": 45,
   "id": "dd223a17",
   "metadata": {},
   "outputs": [
    {
     "data": {
      "text/plain": [
       "20"
      ]
     },
     "execution_count": 45,
     "metadata": {},
     "output_type": "execute_result"
    }
   ],
   "source": [
    "arr2.size # no.of elements"
   ]
  },
  {
   "cell_type": "code",
   "execution_count": 46,
   "id": "005a10b2",
   "metadata": {},
   "outputs": [
    {
     "data": {
      "text/plain": [
       "80"
      ]
     },
     "execution_count": 46,
     "metadata": {},
     "output_type": "execute_result"
    }
   ],
   "source": [
    "arr2.nbytes # memory occupied by array"
   ]
  },
  {
   "cell_type": "code",
   "execution_count": 47,
   "id": "712eaec2",
   "metadata": {},
   "outputs": [
    {
     "data": {
      "text/plain": [
       "4"
      ]
     },
     "execution_count": 47,
     "metadata": {},
     "output_type": "execute_result"
    }
   ],
   "source": [
    "arr2.itemsize # memory occupied by each item"
   ]
  },
  {
   "cell_type": "code",
   "execution_count": 49,
   "id": "2344ea9f",
   "metadata": {},
   "outputs": [
    {
     "data": {
      "text/plain": [
       "3"
      ]
     },
     "execution_count": 49,
     "metadata": {},
     "output_type": "execute_result"
    }
   ],
   "source": [
    "arr2.ndim # dimension"
   ]
  },
  {
   "cell_type": "markdown",
   "id": "80e5b898",
   "metadata": {},
   "source": [
    "#### 4.Apply measure and describe the data (attributes and descriptive statistics) to above arrays using NumPy."
   ]
  },
  {
   "cell_type": "markdown",
   "id": "f41cc7dd",
   "metadata": {},
   "source": [
    "##### descriptive statistics of arr1"
   ]
  },
  {
   "cell_type": "code",
   "execution_count": 50,
   "id": "7721a01e",
   "metadata": {},
   "outputs": [
    {
     "data": {
      "text/plain": [
       "array([[[[ 1,  2,  3,  4,  5,  6,  7,  8,  9, 10, 11, 12]]]])"
      ]
     },
     "execution_count": 50,
     "metadata": {},
     "output_type": "execute_result"
    }
   ],
   "source": [
    "arr1"
   ]
  },
  {
   "cell_type": "code",
   "execution_count": 51,
   "id": "d6a150fd",
   "metadata": {},
   "outputs": [
    {
     "data": {
      "text/plain": [
       "6.5"
      ]
     },
     "execution_count": 51,
     "metadata": {},
     "output_type": "execute_result"
    }
   ],
   "source": [
    "np.mean(arr1) # mean"
   ]
  },
  {
   "cell_type": "code",
   "execution_count": 52,
   "id": "a60f257b",
   "metadata": {},
   "outputs": [
    {
     "data": {
      "text/plain": [
       "6.5"
      ]
     },
     "execution_count": 52,
     "metadata": {},
     "output_type": "execute_result"
    }
   ],
   "source": [
    "np.median(arr1) # middle most value"
   ]
  },
  {
   "cell_type": "code",
   "execution_count": 53,
   "id": "fe8deac4",
   "metadata": {},
   "outputs": [
    {
     "data": {
      "text/plain": [
       "11.916666666666666"
      ]
     },
     "execution_count": 53,
     "metadata": {},
     "output_type": "execute_result"
    }
   ],
   "source": [
    "np.var(arr1) # variance"
   ]
  },
  {
   "cell_type": "code",
   "execution_count": 54,
   "id": "d26f6f39",
   "metadata": {},
   "outputs": [
    {
     "data": {
      "text/plain": [
       "3.452052529534663"
      ]
     },
     "execution_count": 54,
     "metadata": {},
     "output_type": "execute_result"
    }
   ],
   "source": [
    "np.std(arr1) # standard deviation"
   ]
  },
  {
   "cell_type": "code",
   "execution_count": 55,
   "id": "5158f3fb",
   "metadata": {},
   "outputs": [
    {
     "data": {
      "text/plain": [
       "11"
      ]
     },
     "execution_count": 55,
     "metadata": {},
     "output_type": "execute_result"
    }
   ],
   "source": [
    "Range = np.max(arr1) - np.min(arr1) # Range\n",
    "Range"
   ]
  },
  {
   "cell_type": "code",
   "execution_count": 61,
   "id": "0a4c80b0",
   "metadata": {},
   "outputs": [
    {
     "data": {
      "text/plain": [
       "5.5"
      ]
     },
     "execution_count": 61,
     "metadata": {},
     "output_type": "execute_result"
    }
   ],
   "source": [
    "Q3 = np.percentile(arr1,75) #IQR\n",
    "Q1 = np.percentile(arr1,25)\n",
    "IQR = Q3 - Q1\n",
    "IQR"
   ]
  },
  {
   "cell_type": "code",
   "execution_count": 64,
   "id": "6fd2d906",
   "metadata": {},
   "outputs": [
    {
     "name": "stdout",
     "output_type": "stream",
     "text": [
      "-4.5\n",
      "17.5\n"
     ]
    }
   ],
   "source": [
    "lower_limit = Q1-1.5*IQR\n",
    "print(lower_limit)\n",
    "upper_limit = Q3+1.5*IQR\n",
    "print(upper_limit)"
   ]
  },
  {
   "cell_type": "code",
   "execution_count": 67,
   "id": "f9992010",
   "metadata": {},
   "outputs": [
    {
     "name": "stdout",
     "output_type": "stream",
     "text": [
      "[]\n",
      "[]\n"
     ]
    }
   ],
   "source": [
    "print(arr1[arr1 < lower_limit]) # outlier-no outlier in arr1\n",
    "print(arr1[arr1 > upper_limit])"
   ]
  },
  {
   "cell_type": "markdown",
   "id": "d366bf24",
   "metadata": {},
   "source": [
    "##### descriptive statistics of arr2"
   ]
  },
  {
   "cell_type": "code",
   "execution_count": 68,
   "id": "ebe9417d",
   "metadata": {},
   "outputs": [
    {
     "data": {
      "text/plain": [
       "array([[[1, 1, 0, 0]],\n",
       "\n",
       "       [[1, 1, 1, 1]],\n",
       "\n",
       "       [[1, 0, 0, 0]],\n",
       "\n",
       "       [[1, 1, 0, 0]],\n",
       "\n",
       "       [[0, 0, 1, 1]]])"
      ]
     },
     "execution_count": 68,
     "metadata": {},
     "output_type": "execute_result"
    }
   ],
   "source": [
    "arr2"
   ]
  },
  {
   "cell_type": "code",
   "execution_count": 71,
   "id": "16725434",
   "metadata": {},
   "outputs": [
    {
     "data": {
      "text/plain": [
       "0.55"
      ]
     },
     "execution_count": 71,
     "metadata": {},
     "output_type": "execute_result"
    }
   ],
   "source": [
    "np.mean(arr2) # mean"
   ]
  },
  {
   "cell_type": "code",
   "execution_count": 72,
   "id": "ea4b57c6",
   "metadata": {},
   "outputs": [
    {
     "data": {
      "text/plain": [
       "1.0"
      ]
     },
     "execution_count": 72,
     "metadata": {},
     "output_type": "execute_result"
    }
   ],
   "source": [
    "np.median(arr2) # median"
   ]
  },
  {
   "cell_type": "code",
   "execution_count": 73,
   "id": "22ba7a52",
   "metadata": {},
   "outputs": [
    {
     "data": {
      "text/plain": [
       "0.24749999999999997"
      ]
     },
     "execution_count": 73,
     "metadata": {},
     "output_type": "execute_result"
    }
   ],
   "source": [
    "np.var(arr2) # variance"
   ]
  },
  {
   "cell_type": "code",
   "execution_count": 74,
   "id": "39767f1b",
   "metadata": {},
   "outputs": [
    {
     "data": {
      "text/plain": [
       "0.4974937185533099"
      ]
     },
     "execution_count": 74,
     "metadata": {},
     "output_type": "execute_result"
    }
   ],
   "source": [
    "np.std(arr2) # standard deviation"
   ]
  },
  {
   "cell_type": "code",
   "execution_count": 75,
   "id": "5f1fe920",
   "metadata": {},
   "outputs": [
    {
     "data": {
      "text/plain": [
       "1"
      ]
     },
     "execution_count": 75,
     "metadata": {},
     "output_type": "execute_result"
    }
   ],
   "source": [
    "Range = np.max(arr2) - np.min(arr2)  # Range = max-min\n",
    "Range"
   ]
  },
  {
   "cell_type": "code",
   "execution_count": 76,
   "id": "64fd5c11",
   "metadata": {},
   "outputs": [
    {
     "data": {
      "text/plain": [
       "1.0"
      ]
     },
     "execution_count": 76,
     "metadata": {},
     "output_type": "execute_result"
    }
   ],
   "source": [
    "Q3 = np.percentile(arr2,75) #IQR\n",
    "Q1 = np.percentile(arr2,25)\n",
    "IQR = Q3 - Q1\n",
    "IQR"
   ]
  },
  {
   "cell_type": "code",
   "execution_count": 78,
   "id": "a94aa51c",
   "metadata": {},
   "outputs": [
    {
     "name": "stdout",
     "output_type": "stream",
     "text": [
      "-1.5\n",
      "2.5\n",
      "[]\n",
      "[]\n"
     ]
    }
   ],
   "source": [
    "lower_limit = Q1-1.5*IQR\n",
    "print(lower_limit)\n",
    "upper_limit = Q3+1.5*IQR\n",
    "print(upper_limit)\n",
    "print(arr2[arr2 < lower_limit]) # outlier-no outlier in arr1\n",
    "print(arr2[arr2 > upper_limit])"
   ]
  },
  {
   "cell_type": "markdown",
   "id": "1820015d",
   "metadata": {},
   "source": [
    "### Array Slicing and Indexing:"
   ]
  },
  {
   "cell_type": "markdown",
   "id": "a2994d8f",
   "metadata": {},
   "source": [
    "#### a. Creating Arrays: - Create a 1-dimensional NumPy array arr1 with the values [0, 11, 26, 73, 42, 51, 6,77, 8,29]. "
   ]
  },
  {
   "cell_type": "code",
   "execution_count": 81,
   "id": "c17592e8",
   "metadata": {},
   "outputs": [
    {
     "data": {
      "text/plain": [
       "array([ 0, 11, 26, 73, 42, 51,  6, 77,  8, 29])"
      ]
     },
     "execution_count": 81,
     "metadata": {},
     "output_type": "execute_result"
    }
   ],
   "source": [
    "arr1 = np.array([0, 11, 26, 73, 42, 51, 6,77, 8,29]) # 1-d\n",
    "arr1"
   ]
  },
  {
   "cell_type": "markdown",
   "id": "d8b203dc",
   "metadata": {},
   "source": [
    "####  - Create a 2-dimensional NumPy array arr2 with the values [[0, 1, 2], [3, 4, 5], [6, 7, 8]].¶"
   ]
  },
  {
   "cell_type": "code",
   "execution_count": 82,
   "id": "28847870",
   "metadata": {},
   "outputs": [
    {
     "data": {
      "text/plain": [
       "array([[0, 1, 2],\n",
       "       [3, 4, 5],\n",
       "       [6, 7, 8]])"
      ]
     },
     "execution_count": 82,
     "metadata": {},
     "output_type": "execute_result"
    }
   ],
   "source": [
    "arr2 = np.array([[0, 1, 2], [3, 4, 5], [6, 7, 8]]) # 2-d\n",
    "arr2"
   ]
  },
  {
   "cell_type": "markdown",
   "id": "afabf858",
   "metadata": {},
   "source": [
    "#### b.Basic Indexing: - Print the element at index 3 of arr1. "
   ]
  },
  {
   "cell_type": "code",
   "execution_count": 83,
   "id": "56406faf",
   "metadata": {},
   "outputs": [
    {
     "data": {
      "text/plain": [
       "73"
      ]
     },
     "execution_count": 83,
     "metadata": {},
     "output_type": "execute_result"
    }
   ],
   "source": [
    "arr1[3] # arr1"
   ]
  },
  {
   "cell_type": "markdown",
   "id": "89d4af09",
   "metadata": {},
   "source": [
    "#### - Print the element at row 2, column 1 of arr2"
   ]
  },
  {
   "cell_type": "code",
   "execution_count": 85,
   "id": "f8e92d7a",
   "metadata": {},
   "outputs": [
    {
     "name": "stdout",
     "output_type": "stream",
     "text": [
      "7\n",
      "7\n"
     ]
    }
   ],
   "source": [
    "print(arr2[2,1])  # arr2\n",
    "print(arr2[2][1])"
   ]
  },
  {
   "cell_type": "markdown",
   "id": "93376db7",
   "metadata": {},
   "source": [
    "#### c. Array Slicing: - Print the first five elements of arr1. "
   ]
  },
  {
   "cell_type": "code",
   "execution_count": 87,
   "id": "50cbe7fa",
   "metadata": {},
   "outputs": [
    {
     "data": {
      "text/plain": [
       "array([ 0, 11, 26, 73, 42])"
      ]
     },
     "execution_count": 87,
     "metadata": {},
     "output_type": "execute_result"
    }
   ],
   "source": [
    "arr1[0:5]  # arr1"
   ]
  },
  {
   "cell_type": "markdown",
   "id": "fa59bd71",
   "metadata": {},
   "source": [
    "#### - Print the subarray of arr2 consisting of the last two rows and the first two columns"
   ]
  },
  {
   "cell_type": "code",
   "execution_count": 93,
   "id": "658c2e7e",
   "metadata": {},
   "outputs": [
    {
     "data": {
      "text/plain": [
       "array([[3, 4],\n",
       "       [6, 7]])"
      ]
     },
     "execution_count": 93,
     "metadata": {},
     "output_type": "execute_result"
    }
   ],
   "source": [
    "arr2[1:3,0:2] # sub array of arr2"
   ]
  },
  {
   "cell_type": "markdown",
   "id": "24440ab9",
   "metadata": {},
   "source": [
    "#### print every second element starting from index 1 up to index 7 of arr1"
   ]
  },
  {
   "cell_type": "code",
   "execution_count": 95,
   "id": "aeb15b46",
   "metadata": {},
   "outputs": [
    {
     "data": {
      "text/plain": [
       "array([11, 73, 51])"
      ]
     },
     "execution_count": 95,
     "metadata": {},
     "output_type": "execute_result"
    }
   ],
   "source": [
    "arr1[1:7:2]  "
   ]
  },
  {
   "cell_type": "markdown",
   "id": "a4015a15",
   "metadata": {},
   "source": [
    "### Data Type Manipulation"
   ]
  },
  {
   "cell_type": "markdown",
   "id": "6d6767ef",
   "metadata": {},
   "source": [
    "#### a. Creating Arrays with Specific Data Types:4"
   ]
  },
  {
   "cell_type": "markdown",
   "id": "9233dcf1",
   "metadata": {},
   "source": [
    "#### - Create a 1-dimensional NumPy array int_array with the values [1, 2, 3, 4, 5] and the data type int16. "
   ]
  },
  {
   "cell_type": "code",
   "execution_count": 101,
   "id": "70153ea4",
   "metadata": {},
   "outputs": [
    {
     "data": {
      "text/plain": [
       "array([1, 2, 3, 4, 5], dtype=int16)"
      ]
     },
     "execution_count": 101,
     "metadata": {},
     "output_type": "execute_result"
    }
   ],
   "source": [
    "arr1 = np.array([1, 2, 3, 4, 5],dtype = 'int16')\n",
    "arr1"
   ]
  },
  {
   "cell_type": "markdown",
   "id": "70e3d391",
   "metadata": {},
   "source": [
    "#### Create a 1-dimensional NumPy array float_array with the values [0.1, 0.2, 0.3, 0.4, 0.5] and the data type float64.\n"
   ]
  },
  {
   "cell_type": "code",
   "execution_count": 102,
   "id": "04d42987",
   "metadata": {},
   "outputs": [
    {
     "data": {
      "text/plain": [
       "array([0.1, 0.2, 0.3, 0.4, 0.5])"
      ]
     },
     "execution_count": 102,
     "metadata": {},
     "output_type": "execute_result"
    }
   ],
   "source": [
    "arr2 = np.array([0.1, 0.2, 0.3, 0.4, 0.5],dtype = \"float64\")\n",
    "arr2"
   ]
  },
  {
   "cell_type": "markdown",
   "id": "89c3f111",
   "metadata": {},
   "source": [
    "#### b. Data Type Conversion:"
   ]
  },
  {
   "cell_type": "markdown",
   "id": "8a91a459",
   "metadata": {},
   "source": [
    "#### : - Convert the float_array to an array with data type int32."
   ]
  },
  {
   "cell_type": "code",
   "execution_count": 105,
   "id": "c1b48547",
   "metadata": {},
   "outputs": [
    {
     "data": {
      "text/plain": [
       "array([0, 0, 0, 0, 0])"
      ]
     },
     "execution_count": 105,
     "metadata": {},
     "output_type": "execute_result"
    }
   ],
   "source": [
    "arr2 = np.array([0.1, 0.2, 0.3, 0.4, 0.5],dtype = \"int32\")\n",
    "arr2"
   ]
  },
  {
   "cell_type": "markdown",
   "id": "b53e048e",
   "metadata": {},
   "source": [
    "####  Print the result. - Convert the int_array to an array with data type float32. Print the result¶"
   ]
  },
  {
   "cell_type": "code",
   "execution_count": 106,
   "id": "3ee3c87a",
   "metadata": {},
   "outputs": [
    {
     "data": {
      "text/plain": [
       "array([1., 2., 3., 4., 5.], dtype=float32)"
      ]
     },
     "execution_count": 106,
     "metadata": {},
     "output_type": "execute_result"
    }
   ],
   "source": [
    "arr1 = np.array([1, 2, 3, 4, 5],dtype = 'float32')\n",
    "arr1"
   ]
  },
  {
   "cell_type": "markdown",
   "id": "ef15608d",
   "metadata": {},
   "source": [
    "### Generating Random Numbers:"
   ]
  },
  {
   "cell_type": "markdown",
   "id": "1438f49f",
   "metadata": {},
   "source": [
    "#### 1.Use numpy.random.randint() to create an array rand_integers containing 10 random integers between 0 and 100 (inclusive)."
   ]
  },
  {
   "cell_type": "code",
   "execution_count": 109,
   "id": "a0cc0b2b",
   "metadata": {},
   "outputs": [
    {
     "data": {
      "text/plain": [
       "array([26, 15,  7, 78, 47, 81, 11, 45, 12, 17])"
      ]
     },
     "execution_count": 109,
     "metadata": {},
     "output_type": "execute_result"
    }
   ],
   "source": [
    "import numpy\n",
    "arr = numpy.random.randint(0,101,10)\n",
    "arr"
   ]
  },
  {
   "cell_type": "markdown",
   "id": "3b93a00f",
   "metadata": {},
   "source": [
    "#### 2.Use numpy.random.uniform() to create an array rand_uniform containing 5 random numbers sampled from a uniform distribution between -1 and 1."
   ]
  },
  {
   "cell_type": "code",
   "execution_count": 111,
   "id": "65ef369e",
   "metadata": {},
   "outputs": [
    {
     "data": {
      "text/plain": [
       "array([ 0.51272506,  0.40189395, -0.69103009,  0.19032041, -0.20815777])"
      ]
     },
     "execution_count": 111,
     "metadata": {},
     "output_type": "execute_result"
    }
   ],
   "source": [
    "arr = numpy.random.uniform(-1,1,5)\n",
    "arr"
   ]
  },
  {
   "cell_type": "markdown",
   "id": "56022e6d",
   "metadata": {},
   "source": [
    "#### 3.Create an array rand_matrix with random integers between 50 and 100 (inclusive).and reshape it to 2-dimensional (4 x 4) matrix"
   ]
  },
  {
   "cell_type": "code",
   "execution_count": 122,
   "id": "87340728",
   "metadata": {},
   "outputs": [
    {
     "data": {
      "text/plain": [
       "array([[57, 55, 86, 66],\n",
       "       [81, 57, 73, 71],\n",
       "       [93, 84, 88, 92],\n",
       "       [81, 93, 57, 98]])"
      ]
     },
     "execution_count": 122,
     "metadata": {},
     "output_type": "execute_result"
    }
   ],
   "source": [
    "arr = numpy.random.randint(50,100,16).reshape(4,4)\n",
    "arr"
   ]
  },
  {
   "cell_type": "markdown",
   "id": "95d3a8bf",
   "metadata": {},
   "source": [
    "#### 4.Apply descriptive statistics for rand_matrix."
   ]
  },
  {
   "cell_type": "code",
   "execution_count": 124,
   "id": "8c9b412a",
   "metadata": {},
   "outputs": [
    {
     "data": {
      "text/plain": [
       "77.0"
      ]
     },
     "execution_count": 124,
     "metadata": {},
     "output_type": "execute_result"
    }
   ],
   "source": [
    "np.mean(arr)  # mean"
   ]
  },
  {
   "cell_type": "code",
   "execution_count": 126,
   "id": "3d4bd9f5",
   "metadata": {},
   "outputs": [
    {
     "data": {
      "text/plain": [
       "81.0"
      ]
     },
     "execution_count": 126,
     "metadata": {},
     "output_type": "execute_result"
    }
   ],
   "source": [
    "np.median(arr) # median"
   ]
  },
  {
   "cell_type": "code",
   "execution_count": 127,
   "id": "7869273d",
   "metadata": {},
   "outputs": [
    {
     "data": {
      "text/plain": [
       "207.375"
      ]
     },
     "execution_count": 127,
     "metadata": {},
     "output_type": "execute_result"
    }
   ],
   "source": [
    "np.var(arr)  # variance"
   ]
  },
  {
   "cell_type": "code",
   "execution_count": 128,
   "id": "f70bb33d",
   "metadata": {},
   "outputs": [
    {
     "data": {
      "text/plain": [
       "14.400520823914668"
      ]
     },
     "execution_count": 128,
     "metadata": {},
     "output_type": "execute_result"
    }
   ],
   "source": [
    "np.std(arr)  # standard deviation"
   ]
  },
  {
   "cell_type": "code",
   "execution_count": 130,
   "id": "b141463c",
   "metadata": {},
   "outputs": [
    {
     "data": {
      "text/plain": [
       "43"
      ]
     },
     "execution_count": 130,
     "metadata": {},
     "output_type": "execute_result"
    }
   ],
   "source": [
    "Range = np.max(arr) - np.min(arr) # range\n",
    "Range"
   ]
  },
  {
   "cell_type": "code",
   "execution_count": 131,
   "id": "0d9a5c9e",
   "metadata": {},
   "outputs": [
    {
     "data": {
      "text/plain": [
       "25.25"
      ]
     },
     "execution_count": 131,
     "metadata": {},
     "output_type": "execute_result"
    }
   ],
   "source": [
    "Q3 = np.percentile(arr,75) #IQR\n",
    "Q1 = np.percentile(arr,25)\n",
    "IQR = Q3 - Q1\n",
    "IQR"
   ]
  },
  {
   "cell_type": "code",
   "execution_count": 132,
   "id": "bd443a3b",
   "metadata": {},
   "outputs": [
    {
     "name": "stdout",
     "output_type": "stream",
     "text": [
      "25.875\n",
      "126.875\n",
      "[]\n",
      "[]\n"
     ]
    }
   ],
   "source": [
    "lower_limit = Q1-1.5*IQR\n",
    "print(lower_limit)\n",
    "upper_limit = Q3+1.5*IQR\n",
    "print(upper_limit)\n",
    "print(arr[arr < lower_limit]) # outlier-no outlier in arr1\n",
    "print(arr[arr > upper_limit])"
   ]
  },
  {
   "cell_type": "markdown",
   "id": "1a0e4e4f",
   "metadata": {},
   "source": [
    "### Analyze the Data:"
   ]
  },
  {
   "cell_type": "markdown",
   "id": "2a18de28",
   "metadata": {},
   "source": [
    "#### Salaries = [87877, 54494, 54804, 85051, 52453, 31250, 94868, 66349, 39828, 60501, 58570, 74906, 41671, 51428, 56414, 98446, 56819, 82833, 50477, 62898, 99658, 89224, 34225, 79172, 32199, 63795, 90947, 55723, 64557, 3113638]\n",
    "\n"
   ]
  },
  {
   "cell_type": "code",
   "execution_count": 133,
   "id": "ea47bfd8",
   "metadata": {},
   "outputs": [],
   "source": [
    "Salaries = [87877, 54494, 54804, 85051, 52453, 31250, 94868, 66349, 39828, 60501, 58570, 74906, 41671, 51428, 56414, 98446, 56819, 82833, 50477, 62898, 99658, 89224, 34225, 79172, 32199, 63795, 90947, 55723, 64557, 3113638]"
   ]
  },
  {
   "cell_type": "code",
   "execution_count": 141,
   "id": "a9ff7132",
   "metadata": {},
   "outputs": [
    {
     "data": {
      "text/plain": [
       "array([  87877,   54494,   54804,   85051,   52453,   31250,   94868,\n",
       "         66349,   39828,   60501,   58570,   74906,   41671,   51428,\n",
       "         56414,   98446,   56819,   82833,   50477,   62898,   99658,\n",
       "         89224,   34225,   79172,   32199,   63795,   90947,   55723,\n",
       "         64557, 3113638])"
      ]
     },
     "execution_count": 141,
     "metadata": {},
     "output_type": "execute_result"
    }
   ],
   "source": [
    "arr = np.array(Salaries)\n",
    "arr"
   ]
  },
  {
   "cell_type": "markdown",
   "id": "3ff5e2fd",
   "metadata": {},
   "source": [
    "#### Describe the data using numpy array. Measure the following:"
   ]
  },
  {
   "cell_type": "markdown",
   "id": "7b66251d",
   "metadata": {},
   "source": [
    "#### 1.How many employees are getting more less than 50000"
   ]
  },
  {
   "cell_type": "code",
   "execution_count": 147,
   "id": "ca2d1e52",
   "metadata": {},
   "outputs": [
    {
     "data": {
      "text/plain": [
       "5"
      ]
     },
     "execution_count": 147,
     "metadata": {},
     "output_type": "execute_result"
    }
   ],
   "source": [
    "len(arr[arr < 50000])"
   ]
  },
  {
   "cell_type": "markdown",
   "id": "781419e6",
   "metadata": {},
   "source": [
    "#### 2.Is it following Normal Distribution?"
   ]
  },
  {
   "cell_type": "code",
   "execution_count": null,
   "id": "4f6b753a",
   "metadata": {},
   "outputs": [],
   "source": [
    "No  # because data is not normally distributed it has extreme high value 3113638(outlier)"
   ]
  },
  {
   "cell_type": "markdown",
   "id": "76c63066",
   "metadata": {},
   "source": [
    "#### 3.What is the median salary?"
   ]
  },
  {
   "cell_type": "code",
   "execution_count": 148,
   "id": "98d7c38b",
   "metadata": {},
   "outputs": [
    {
     "data": {
      "text/plain": [
       "61699.5"
      ]
     },
     "execution_count": 148,
     "metadata": {},
     "output_type": "execute_result"
    }
   ],
   "source": [
    "np.median(arr)"
   ]
  },
  {
   "cell_type": "markdown",
   "id": "6fa621e9",
   "metadata": {},
   "source": [
    "#### 4.What is the range of salaries for this company?"
   ]
  },
  {
   "cell_type": "code",
   "execution_count": 149,
   "id": "cdefeeb4",
   "metadata": {},
   "outputs": [
    {
     "data": {
      "text/plain": [
       "3082388"
      ]
     },
     "execution_count": 149,
     "metadata": {},
     "output_type": "execute_result"
    }
   ],
   "source": [
    "Range = np.max(arr) - np.min(arr)\n",
    "Range"
   ]
  },
  {
   "cell_type": "markdown",
   "id": "9cca96cf",
   "metadata": {},
   "source": [
    "#### 5.Find the salaries between average salary and 75% of salaries?"
   ]
  },
  {
   "cell_type": "code",
   "execution_count": 166,
   "id": "25c11af6",
   "metadata": {},
   "outputs": [
    {
     "name": "stdout",
     "output_type": "stream",
     "text": [
      "166169.16666666666\n",
      "84496.5\n",
      "[87877 85051 94868 98446 99658 89224 90947]\n"
     ]
    }
   ],
   "source": [
    "a = np.mean(arr)\n",
    "print(a)\n",
    "\n",
    "Q3 = np.percentile(arr,75)\n",
    "print(Q3)\n",
    "\n",
    "print(arr[(arr > Q3) & (arr < a)])"
   ]
  },
  {
   "cell_type": "markdown",
   "id": "a5f3f904",
   "metadata": {},
   "source": [
    "#### 6.How many employees are getting less than 25 % of salaries ?"
   ]
  },
  {
   "cell_type": "code",
   "execution_count": 171,
   "id": "c1e403a2",
   "metadata": {},
   "outputs": [
    {
     "name": "stdout",
     "output_type": "stream",
     "text": [
      "52963.25\n",
      "[52453 31250 39828 41671 51428 50477 34225 32199]\n",
      "8\n"
     ]
    }
   ],
   "source": [
    "Q1 = np.percentile(arr,25)\n",
    "print(Q1)\n",
    "\n",
    "print(arr[arr < Q1])\n",
    "\n",
    "print(len(arr[arr < Q1]))"
   ]
  },
  {
   "cell_type": "code",
   "execution_count": null,
   "id": "b96a36a5",
   "metadata": {},
   "outputs": [],
   "source": []
  }
 ],
 "metadata": {
  "kernelspec": {
   "display_name": "Python 3 (ipykernel)",
   "language": "python",
   "name": "python3"
  },
  "language_info": {
   "codemirror_mode": {
    "name": "ipython",
    "version": 3
   },
   "file_extension": ".py",
   "mimetype": "text/x-python",
   "name": "python",
   "nbconvert_exporter": "python",
   "pygments_lexer": "ipython3",
   "version": "3.11.4"
  }
 },
 "nbformat": 4,
 "nbformat_minor": 5
}
