{
 "cells": [
  {
   "cell_type": "markdown",
   "id": "9ba8c933",
   "metadata": {},
   "source": [
    "### Data Cleaning using numpy"
   ]
  },
  {
   "cell_type": "markdown",
   "id": "0aa22ddc",
   "metadata": {},
   "source": [
    "#### The following are the student marks of a class"
   ]
  },
  {
   "cell_type": "markdown",
   "id": "b4632f5a",
   "metadata": {},
   "source": [
    "[44,24,np.nan,59,32,96,188,52,62,58,52,120,np.nan,np.nan,3,56,81,59,,122,92,np.nan,87,96,97,1,19,2,53, 44]"
   ]
  },
  {
   "cell_type": "code",
   "execution_count": 100,
   "id": "952b5308",
   "metadata": {},
   "outputs": [],
   "source": [
    "import numpy as np"
   ]
  },
  {
   "cell_type": "code",
   "execution_count": 101,
   "id": "b6df283d",
   "metadata": {},
   "outputs": [
    {
     "data": {
      "text/plain": [
       "array([ 44.,  24.,  nan,  59.,  32.,  96., 188.,  52.,  62.,  58.,  52.,\n",
       "       120.,  nan,  nan,   3.,  56.,  81.,  59., 122.,  92.,  nan,  87.,\n",
       "        96.,  97.,   1.,  19.,   2.,  53.,  44.])"
      ]
     },
     "execution_count": 101,
     "metadata": {},
     "output_type": "execute_result"
    }
   ],
   "source": [
    "marks = np.array([44,24,np.nan,59,32,96,188,52,62,58,52,120,np.nan,np.nan,3,56,81,59,122,92,np.nan,87,96,97,1,19,2,53, 44])\n",
    "marks"
   ]
  },
  {
   "cell_type": "code",
   "execution_count": 102,
   "id": "922d6bf8",
   "metadata": {},
   "outputs": [
    {
     "data": {
      "text/plain": [
       "array([False, False,  True, False, False, False, False, False, False,\n",
       "       False, False, False,  True,  True, False, False, False, False,\n",
       "       False, False,  True, False, False, False, False, False, False,\n",
       "       False, False])"
      ]
     },
     "execution_count": 102,
     "metadata": {},
     "output_type": "execute_result"
    }
   ],
   "source": [
    "np.isnan(marks)"
   ]
  },
  {
   "cell_type": "markdown",
   "id": "cef7086b",
   "metadata": {},
   "source": [
    "#### 1.Find the no of outliers and missing values?"
   ]
  },
  {
   "cell_type": "code",
   "execution_count": 103,
   "id": "be4f6dc0",
   "metadata": {},
   "outputs": [
    {
     "data": {
      "text/plain": [
       "4"
      ]
     },
     "execution_count": 103,
     "metadata": {},
     "output_type": "execute_result"
    }
   ],
   "source": [
    "len(marks[np.isnan(marks)])  # missing values"
   ]
  },
  {
   "cell_type": "code",
   "execution_count": 104,
   "id": "5359e737",
   "metadata": {},
   "outputs": [
    {
     "data": {
      "text/plain": [
       "array([False, False, False, False, False, False,  True, False, False,\n",
       "       False, False,  True, False, False, False, False, False, False,\n",
       "        True, False, False, False, False, False, False, False, False,\n",
       "       False, False])"
      ]
     },
     "execution_count": 104,
     "metadata": {},
     "output_type": "execute_result"
    }
   ],
   "source": [
    "cond = (marks>100) | (marks < 0) # outliers\n",
    "condi"
   ]
  },
  {
   "cell_type": "code",
   "execution_count": 105,
   "id": "733940bd",
   "metadata": {},
   "outputs": [
    {
     "data": {
      "text/plain": [
       "3"
      ]
     },
     "execution_count": 105,
     "metadata": {},
     "output_type": "execute_result"
    }
   ],
   "source": [
    "len(marks[cond])  "
   ]
  },
  {
   "cell_type": "markdown",
   "id": "9cb7fc49",
   "metadata": {},
   "source": [
    "#### 2.replace the outliers with 45 and missing value with 87."
   ]
  },
  {
   "cell_type": "code",
   "execution_count": 112,
   "id": "4cfe9c63",
   "metadata": {},
   "outputs": [
    {
     "data": {
      "text/plain": [
       "array([[ 44,  24,  87,  59,  32,  96, 188,  52,  62,  58,  52, 120,  87,\n",
       "         87,   3,  56,  81,  59, 122,  92,  87,  87,  96,  97,   1,  19,\n",
       "          2,  53,  44]], dtype=int16)"
      ]
     },
     "execution_count": 112,
     "metadata": {},
     "output_type": "execute_result"
    }
   ],
   "source": [
    "m = np.array([np.where(np.isnan(marks),87,marks)],dtype = \"int16\") # missing value\n",
    "m"
   ]
  },
  {
   "cell_type": "code",
   "execution_count": 113,
   "id": "c28d50f0",
   "metadata": {},
   "outputs": [
    {
     "data": {
      "text/plain": [
       "array([[44, 24, 87, 59, 32, 96, 45, 52, 62, 58, 52, 45, 87, 87,  3, 56,\n",
       "        81, 59, 45, 92, 87, 87, 96, 97,  1, 19,  2, 53, 44]], dtype=int16)"
      ]
     },
     "execution_count": 113,
     "metadata": {},
     "output_type": "execute_result"
    }
   ],
   "source": [
    "marks1 = np.where(cond,45,m)\n",
    "marks1"
   ]
  },
  {
   "cell_type": "markdown",
   "id": "348fc85f",
   "metadata": {},
   "source": [
    "#### 3.what is the average marks of students after 2nd step?"
   ]
  },
  {
   "cell_type": "code",
   "execution_count": 114,
   "id": "9394ae95",
   "metadata": {},
   "outputs": [
    {
     "data": {
      "text/plain": [
       "56.96551724137931"
      ]
     },
     "execution_count": 114,
     "metadata": {},
     "output_type": "execute_result"
    }
   ],
   "source": [
    "np.mean(marks1)"
   ]
  },
  {
   "cell_type": "markdown",
   "id": "02ac6e91",
   "metadata": {},
   "source": [
    "#### 4.How many students got less than 60 marks?."
   ]
  },
  {
   "cell_type": "code",
   "execution_count": 116,
   "id": "bdd6ee08",
   "metadata": {},
   "outputs": [
    {
     "data": {
      "text/plain": [
       "18"
      ]
     },
     "execution_count": 116,
     "metadata": {},
     "output_type": "execute_result"
    }
   ],
   "source": [
    "len(marks1[marks1 < 60])"
   ]
  },
  {
   "cell_type": "markdown",
   "id": "ad609916",
   "metadata": {},
   "source": [
    "#### 5.what is the maximum marks?"
   ]
  },
  {
   "cell_type": "code",
   "execution_count": 118,
   "id": "905d626c",
   "metadata": {},
   "outputs": [
    {
     "data": {
      "text/plain": [
       "97"
      ]
     },
     "execution_count": 118,
     "metadata": {},
     "output_type": "execute_result"
    }
   ],
   "source": [
    "np.max(marks1)"
   ]
  },
  {
   "cell_type": "markdown",
   "id": "9ddc34e2",
   "metadata": {},
   "source": [
    "#### 6.Convert the marks to float32."
   ]
  },
  {
   "cell_type": "code",
   "execution_count": 119,
   "id": "d0d8d763",
   "metadata": {},
   "outputs": [
    {
     "data": {
      "text/plain": [
       "array([[44., 24., 87., 59., 32., 96., 45., 52., 62., 58., 52., 45., 87.,\n",
       "        87.,  3., 56., 81., 59., 45., 92., 87., 87., 96., 97.,  1., 19.,\n",
       "         2., 53., 44.]])"
      ]
     },
     "execution_count": 119,
     "metadata": {},
     "output_type": "execute_result"
    }
   ],
   "source": [
    "np.array(marks1,dtype = \"float64\")"
   ]
  },
  {
   "cell_type": "markdown",
   "id": "9880f15a",
   "metadata": {},
   "source": [
    "### Solving Linear Equations"
   ]
  },
  {
   "cell_type": "raw",
   "id": "11c24553",
   "metadata": {},
   "source": [
    "1. 2x + 3y - z = 10\n",
    "\n",
    "   x - y + 2z = 5\n",
    "\n",
    "   3x + 2y + z = 12\n",
    "   \n",
    "\n",
    "2.  2x + y - z + 3w = 8\n",
    "\n",
    "   3x - 2y + 2z + 2w = 1\n",
    "\n",
    "   x + 3y - 2z + w = 7\n",
    "\n",
    "   4x - y + z - 2w = 3\n",
    "   \n",
    "\n",
    "3.  4x + 2y - 3z = 10\n",
    "\n",
    "   -2x + 3y + z = -3\n",
    "\n",
    "    x - y + 2z = 4\n",
    "    \n",
    " Solve the system of equations using NumPy's linalg.solve function.   "
   ]
  },
  {
   "cell_type": "raw",
   "id": "5ddea989",
   "metadata": {},
   "source": [
    "1. 2x + 3y - z = 10\n",
    "\n",
    "   x - y + 2z = 5\n",
    "\n",
    "   3x + 2y + z = 12"
   ]
  },
  {
   "cell_type": "code",
   "execution_count": 13,
   "id": "81d57bb8",
   "metadata": {},
   "outputs": [
    {
     "data": {
      "text/plain": [
       "array([[ 2,  3, -1],\n",
       "       [ 1, -1,  2],\n",
       "       [ 3,  2,  1]])"
      ]
     },
     "execution_count": 13,
     "metadata": {},
     "output_type": "execute_result"
    }
   ],
   "source": [
    "a = np.array([[2,3,-1],[1,-1,2],[3,2,1]])\n",
    "a"
   ]
  },
  {
   "cell_type": "code",
   "execution_count": 14,
   "id": "6bbf3847",
   "metadata": {},
   "outputs": [
    {
     "data": {
      "text/plain": [
       "array([10,  5, 12])"
      ]
     },
     "execution_count": 14,
     "metadata": {},
     "output_type": "execute_result"
    }
   ],
   "source": [
    "b = np.array([10,5,12])\n",
    "b"
   ]
  },
  {
   "cell_type": "code",
   "execution_count": 15,
   "id": "9433c49a",
   "metadata": {},
   "outputs": [
    {
     "data": {
      "text/plain": [
       "array([-7.36952666e+15,  7.36952666e+15,  7.36952666e+15])"
      ]
     },
     "execution_count": 15,
     "metadata": {},
     "output_type": "execute_result"
    }
   ],
   "source": [
    "np.linalg.solve(a,b)"
   ]
  },
  {
   "cell_type": "raw",
   "id": "80a43397",
   "metadata": {},
   "source": [
    "2.  2x + y - z + 3w = 8\n",
    "\n",
    "   3x - 2y + 2z + 2w = 1\n",
    "\n",
    "   x + 3y - 2z + w = 7\n",
    "\n",
    "   4x - y + z - 2w = 3"
   ]
  },
  {
   "cell_type": "code",
   "execution_count": 17,
   "id": "3bf9d288",
   "metadata": {},
   "outputs": [
    {
     "data": {
      "text/plain": [
       "array([[ 2,  1, -1,  3],\n",
       "       [ 3, -2,  2,  2],\n",
       "       [ 1,  3, -2,  1],\n",
       "       [ 4, -1,  1, -2]])"
      ]
     },
     "execution_count": 17,
     "metadata": {},
     "output_type": "execute_result"
    }
   ],
   "source": [
    "a = np.array([[2,1,-1,3],[3,-2,2,2],[1,3,-2,1],[4,-1,1,-2]])\n",
    "a"
   ]
  },
  {
   "cell_type": "code",
   "execution_count": 19,
   "id": "5d9f413d",
   "metadata": {},
   "outputs": [
    {
     "data": {
      "text/plain": [
       "array([8, 1, 7, 3])"
      ]
     },
     "execution_count": 19,
     "metadata": {},
     "output_type": "execute_result"
    }
   ],
   "source": [
    "b = np.array([8,1,7,3])\n",
    "b"
   ]
  },
  {
   "cell_type": "code",
   "execution_count": 20,
   "id": "e99767a8",
   "metadata": {},
   "outputs": [
    {
     "data": {
      "text/plain": [
       "array([ 1.73170732, -0.75609756, -3.46341463,  0.6097561 ])"
      ]
     },
     "execution_count": 20,
     "metadata": {},
     "output_type": "execute_result"
    }
   ],
   "source": [
    "np.linalg.solve(a,b)"
   ]
  },
  {
   "cell_type": "raw",
   "id": "38634e3d",
   "metadata": {},
   "source": [
    "3.  4x + 2y - 3z = 10\n",
    "\n",
    "   -2x + 3y + z = -3\n",
    "\n",
    "    x - y + 2z = 4"
   ]
  },
  {
   "cell_type": "code",
   "execution_count": 22,
   "id": "b4363ea8",
   "metadata": {},
   "outputs": [
    {
     "data": {
      "text/plain": [
       "array([[ 4,  2, -3],\n",
       "       [-2,  3,  1],\n",
       "       [ 1, -1,  2]])"
      ]
     },
     "execution_count": 22,
     "metadata": {},
     "output_type": "execute_result"
    }
   ],
   "source": [
    "a = np.array([[4,2,-3],[-2,3,1],[1,-1,2]])\n",
    "a"
   ]
  },
  {
   "cell_type": "code",
   "execution_count": 24,
   "id": "a1e7d3c8",
   "metadata": {},
   "outputs": [
    {
     "data": {
      "text/plain": [
       "array([10, -3,  4])"
      ]
     },
     "execution_count": 24,
     "metadata": {},
     "output_type": "execute_result"
    }
   ],
   "source": [
    "b = np.array([10,-3,4])\n",
    "b"
   ]
  },
  {
   "cell_type": "code",
   "execution_count": 25,
   "id": "15fbe78f",
   "metadata": {},
   "outputs": [
    {
     "data": {
      "text/plain": [
       "array([2.85365854, 0.6097561 , 0.87804878])"
      ]
     },
     "execution_count": 25,
     "metadata": {},
     "output_type": "execute_result"
    }
   ],
   "source": [
    "np.linalg.solve(a,b)"
   ]
  },
  {
   "cell_type": "markdown",
   "id": "c59a2b22",
   "metadata": {},
   "source": [
    "### Conditional Selection with np.where()"
   ]
  },
  {
   "cell_type": "markdown",
   "id": "e25d72ef",
   "metadata": {},
   "source": [
    "#### 1.Generate a random 1D array A of 10 integers between 1 and 100."
   ]
  },
  {
   "cell_type": "code",
   "execution_count": 30,
   "id": "cd9335e5",
   "metadata": {},
   "outputs": [
    {
     "data": {
      "text/plain": [
       "array([35, 95, 31, 93, 80, 65, 56, 35, 92, 52])"
      ]
     },
     "execution_count": 30,
     "metadata": {},
     "output_type": "execute_result"
    }
   ],
   "source": [
    "arr1 = np.random.randint(1,100,10)\n",
    "A = np.array(arr1)\n",
    "A"
   ]
  },
  {
   "cell_type": "markdown",
   "id": "90fd9ae7",
   "metadata": {},
   "source": [
    "#### 2.Use np.where() to find the indices where the elements of A are greater than 50."
   ]
  },
  {
   "cell_type": "code",
   "execution_count": 38,
   "id": "cb7a6a2d",
   "metadata": {},
   "outputs": [
    {
     "name": "stdout",
     "output_type": "stream",
     "text": [
      "[95 93 80 65 56 92 52]\n"
     ]
    },
    {
     "data": {
      "text/plain": [
       "(array([1, 3, 4, 5, 6, 8, 9], dtype=int64),)"
      ]
     },
     "execution_count": 38,
     "metadata": {},
     "output_type": "execute_result"
    }
   ],
   "source": [
    "cond = A>50\n",
    "print(A[cond])\n",
    "np.where(cond)"
   ]
  },
  {
   "cell_type": "markdown",
   "id": "c9bf4d41",
   "metadata": {},
   "source": [
    "#### 3.Create a new array B that contains elements from A where the condition is met."
   ]
  },
  {
   "cell_type": "code",
   "execution_count": 45,
   "id": "aa833a7f",
   "metadata": {},
   "outputs": [
    {
     "data": {
      "text/plain": [
       "array([95, 93, 80, 65, 56, 92, 52])"
      ]
     },
     "execution_count": 45,
     "metadata": {},
     "output_type": "execute_result"
    }
   ],
   "source": [
    "B = np.array(A[A>50])\n",
    "B"
   ]
  },
  {
   "cell_type": "markdown",
   "id": "4fbf7ddd",
   "metadata": {},
   "source": [
    "#### 4.Calculate the mean of array B and print it along with arrays A and B."
   ]
  },
  {
   "cell_type": "code",
   "execution_count": 46,
   "id": "380de9ad",
   "metadata": {},
   "outputs": [
    {
     "data": {
      "text/plain": [
       "76.14285714285714"
      ]
     },
     "execution_count": 46,
     "metadata": {},
     "output_type": "execute_result"
    }
   ],
   "source": [
    "np.mean(B)  # mean"
   ]
  },
  {
   "cell_type": "code",
   "execution_count": 47,
   "id": "d1e50107",
   "metadata": {},
   "outputs": [
    {
     "data": {
      "text/plain": [
       "63.4"
      ]
     },
     "execution_count": 47,
     "metadata": {},
     "output_type": "execute_result"
    }
   ],
   "source": [
    "np.mean(A)  # mean"
   ]
  },
  {
   "cell_type": "markdown",
   "id": "fadbcb7b",
   "metadata": {},
   "source": [
    "### Replace Values with np.where()"
   ]
  },
  {
   "cell_type": "markdown",
   "id": "4e526232",
   "metadata": {},
   "source": [
    "#### 1.Create a 4x4 random integer matrix C with values between -10 and 10"
   ]
  },
  {
   "cell_type": "code",
   "execution_count": 52,
   "id": "efa65389",
   "metadata": {},
   "outputs": [
    {
     "data": {
      "text/plain": [
       "array([[  5, -10,   1,   1],\n",
       "       [  6,   6,   9,  -5],\n",
       "       [  5, -10,   5,  -9],\n",
       "       [  2,  -1,   0,   4]])"
      ]
     },
     "execution_count": 52,
     "metadata": {},
     "output_type": "execute_result"
    }
   ],
   "source": [
    "c = np.random.randint(-10,10,16).reshape(4,4)\n",
    "c"
   ]
  },
  {
   "cell_type": "markdown",
   "id": "625a89cc",
   "metadata": {},
   "source": [
    "#### 2.Use np.where() to replace all negative values in matrix C with 0"
   ]
  },
  {
   "cell_type": "code",
   "execution_count": 56,
   "id": "5dba0396",
   "metadata": {},
   "outputs": [
    {
     "data": {
      "text/plain": [
       "array([[5, 0, 1, 1],\n",
       "       [6, 6, 9, 0],\n",
       "       [5, 0, 5, 0],\n",
       "       [2, 0, 0, 4]])"
      ]
     },
     "execution_count": 56,
     "metadata": {},
     "output_type": "execute_result"
    }
   ],
   "source": [
    "modified = np.where(c < 0,0,c)\n",
    "modified"
   ]
  },
  {
   "cell_type": "markdown",
   "id": "93657ec1",
   "metadata": {},
   "source": [
    "#### 3.Print the original matrix C and the modified matrix."
   ]
  },
  {
   "cell_type": "code",
   "execution_count": 55,
   "id": "12a40902",
   "metadata": {},
   "outputs": [
    {
     "data": {
      "text/plain": [
       "array([[  5, -10,   1,   1],\n",
       "       [  6,   6,   9,  -5],\n",
       "       [  5, -10,   5,  -9],\n",
       "       [  2,  -1,   0,   4]])"
      ]
     },
     "execution_count": 55,
     "metadata": {},
     "output_type": "execute_result"
    }
   ],
   "source": [
    "c"
   ]
  },
  {
   "cell_type": "code",
   "execution_count": 57,
   "id": "53ae78db",
   "metadata": {},
   "outputs": [
    {
     "data": {
      "text/plain": [
       "array([[5, 0, 1, 1],\n",
       "       [6, 6, 9, 0],\n",
       "       [5, 0, 5, 0],\n",
       "       [2, 0, 0, 4]])"
      ]
     },
     "execution_count": 57,
     "metadata": {},
     "output_type": "execute_result"
    }
   ],
   "source": [
    "modified"
   ]
  },
  {
   "cell_type": "code",
   "execution_count": null,
   "id": "150da75a",
   "metadata": {},
   "outputs": [],
   "source": []
  }
 ],
 "metadata": {
  "kernelspec": {
   "display_name": "Python 3 (ipykernel)",
   "language": "python",
   "name": "python3"
  },
  "language_info": {
   "codemirror_mode": {
    "name": "ipython",
    "version": 3
   },
   "file_extension": ".py",
   "mimetype": "text/x-python",
   "name": "python",
   "nbconvert_exporter": "python",
   "pygments_lexer": "ipython3",
   "version": "3.11.4"
  }
 },
 "nbformat": 4,
 "nbformat_minor": 5
}
