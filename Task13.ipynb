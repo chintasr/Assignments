{
 "cells": [
  {
   "cell_type": "markdown",
   "id": "09ea0efd",
   "metadata": {},
   "source": [
    "### Write a function called \"add_numbers\" that takes two integers as input and returns their sum.\n",
    "\n"
   ]
  },
  {
   "cell_type": "code",
   "execution_count": 2,
   "id": "5e96d03a",
   "metadata": {},
   "outputs": [
    {
     "data": {
      "text/plain": [
       "210"
      ]
     },
     "execution_count": 2,
     "metadata": {},
     "output_type": "execute_result"
    }
   ],
   "source": [
    "def add_numbers(x,y):\n",
    "    return x+y\n",
    "add_numbers(10,200)"
   ]
  },
  {
   "cell_type": "markdown",
   "id": "3528eeaf",
   "metadata": {},
   "source": [
    "### Write a function called \"multiply_numbers\" that takes two integers as input and returns their product.\n",
    "\n"
   ]
  },
  {
   "cell_type": "code",
   "execution_count": 3,
   "id": "617139b8",
   "metadata": {},
   "outputs": [
    {
     "data": {
      "text/plain": [
       "20000"
      ]
     },
     "execution_count": 3,
     "metadata": {},
     "output_type": "execute_result"
    }
   ],
   "source": [
    "def multiply_numbers(a,b):\n",
    "    return a*b\n",
    "multiply_numbers(100,200)"
   ]
  },
  {
   "cell_type": "markdown",
   "id": "c568605b",
   "metadata": {},
   "source": [
    "### Write a function called \"calculate_average\" that takes a list of numbers as input and returns the average of thosenumbers.\n",
    "\n"
   ]
  },
  {
   "cell_type": "code",
   "execution_count": 22,
   "id": "cc342db5",
   "metadata": {},
   "outputs": [
    {
     "name": "stdout",
     "output_type": "stream",
     "text": [
      "enter x value:10\n",
      "enter y value:20\n",
      "enter z value:30\n",
      "enter p value:40\n",
      "25.0\n"
     ]
    }
   ],
   "source": [
    "def calculate_average(x,y,z,p):\n",
    "    sum = x+y+z+p\n",
    "    n = 4\n",
    "    avg = sum/n\n",
    "    print(avg)\n",
    "x = int(input(\"enter x value:\"))  \n",
    "y = int(input(\"enter y value:\"))      \n",
    "z = int(input(\"enter z value:\"))\n",
    "p = int(input(\"enter p value:\"))      \n",
    "calculate_average(x,y,z,p)    "
   ]
  },
  {
   "cell_type": "markdown",
   "id": "35f47ba5",
   "metadata": {},
   "source": [
    "### Write a function called \"is_even\" that takes an integer as input and returns True if the number is even, and False otherwise."
   ]
  },
  {
   "cell_type": "code",
   "execution_count": 14,
   "id": "1bde0554",
   "metadata": {},
   "outputs": [
    {
     "name": "stdout",
     "output_type": "stream",
     "text": [
      "enter a number::45\n",
      "False\n"
     ]
    }
   ],
   "source": [
    "def is_even(x):\n",
    "    if x % 2 == 0:\n",
    "        print(\"True\")\n",
    "    else:\n",
    "        print(\"False\")\n",
    "x = int(input(\"enter a number::\"))        \n",
    "is_even(x)        "
   ]
  },
  {
   "cell_type": "markdown",
   "id": "2661174a",
   "metadata": {},
   "source": [
    "### Write a function called \"reverse_string\" that takes a string as input and returns the reverse of that string.\n",
    "\n"
   ]
  },
  {
   "cell_type": "code",
   "execution_count": 20,
   "id": "78df17e7",
   "metadata": {},
   "outputs": [
    {
     "name": "stdout",
     "output_type": "stream",
     "text": [
      "enter a name::sandhya\n",
      "ayhdnas\n"
     ]
    }
   ],
   "source": [
    "def reverse_string(x):\n",
    "    print(x[::-1])\n",
    "x = input(\"enter a name::\")    \n",
    "reverse_string(x)"
   ]
  },
  {
   "cell_type": "markdown",
   "id": "125a2cb0",
   "metadata": {},
   "source": [
    "### Write a function called \"count_vowels\" that takes a string as input and returns the number of vowels (a, e, i, o, u) in that string."
   ]
  },
  {
   "cell_type": "code",
   "execution_count": 40,
   "id": "780c3b46",
   "metadata": {},
   "outputs": [
    {
     "name": "stdout",
     "output_type": "stream",
     "text": [
      "enter your nick name::sandhya rani\n",
      "4\n"
     ]
    }
   ],
   "source": [
    "vowels = (\"a\",\"e\",\"i\",\"o\",\"u\")\n",
    "vol = []\n",
    "def count_vowels(name):\n",
    "    for i in name: \n",
    "        if i in vowels:\n",
    "            vol.append(i) \n",
    "    print(len(vol))       \n",
    "name = input(\"enter your nick name::\")        \n",
    "count_vowels(name)            "
   ]
  },
  {
   "cell_type": "markdown",
   "id": "64ad8672",
   "metadata": {},
   "source": [
    "### Write a function called \"find_max\" that takes a list of numbers as input and returns the maximum value in that list."
   ]
  },
  {
   "cell_type": "code",
   "execution_count": 19,
   "id": "293f83dd",
   "metadata": {},
   "outputs": [
    {
     "name": "stdout",
     "output_type": "stream",
     "text": [
      "50\n"
     ]
    }
   ],
   "source": [
    "def find_max(a,b,c,d,e):\n",
    "    print(max(a,b,c,d,e))\n",
    "find_max(10,20,50,15,5)   "
   ]
  },
  {
   "cell_type": "markdown",
   "id": "a6015f1c",
   "metadata": {},
   "source": [
    "### Write a function called \"find_min\" that takes a list of numbers as input and returns the minimum value in that list.\n",
    "\n",
    " "
   ]
  },
  {
   "cell_type": "code",
   "execution_count": 1,
   "id": "29dc47b0",
   "metadata": {},
   "outputs": [
    {
     "name": "stdout",
     "output_type": "stream",
     "text": [
      "10\n"
     ]
    }
   ],
   "source": [
    "def find_min(a,b,c,d):\n",
    "    print(min(a,b,c,d))\n",
    "find_min(10,20,15,23)    "
   ]
  }
 ],
 "metadata": {
  "kernelspec": {
   "display_name": "Python 3 (ipykernel)",
   "language": "python",
   "name": "python3"
  },
  "language_info": {
   "codemirror_mode": {
    "name": "ipython",
    "version": 3
   },
   "file_extension": ".py",
   "mimetype": "text/x-python",
   "name": "python",
   "nbconvert_exporter": "python",
   "pygments_lexer": "ipython3",
   "version": "3.11.4"
  }
 },
 "nbformat": 4,
 "nbformat_minor": 5
}
