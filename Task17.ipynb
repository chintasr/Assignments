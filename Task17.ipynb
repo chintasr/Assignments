{
 "cells": [
  {
   "cell_type": "raw",
   "id": "e1e98e3f",
   "metadata": {},
   "source": [
    "Create a file Write a Python program that creates a text file named \"data.txt\" and add data about python programming (should contain at least 5 lines)\n",
    "\n",
    "Read and Display File Contents Write a Python program that reads a text file named \"data.txt\" and displays its contents on the screen.\n",
    "\n",
    "Count Words in a File Write a Python program that reads a text file named \"data.txt\" and counts the total number of words in the file. Display the word count on the screen.\n",
    "\n",
    "Search and Replace Create a Python program that reads a text file named \"data.txt\" and asks the user to enter a word to search for. If the word is found in the file, replace all occurrences of the word with a new word provided by the user.\n",
    "\n",
    "Append to a File Write a Python program that prompts the user to enter a sentence. Append this sentence to an existing file named \"notes.txt\". Make sure the newly added sentence starts on a new line."
   ]
  },
  {
   "cell_type": "markdown",
   "id": "4c41fa8d",
   "metadata": {},
   "source": [
    "## use context manager method"
   ]
  },
  {
   "cell_type": "markdown",
   "id": "4c23d53e",
   "metadata": {},
   "source": [
    "### Create a file Write a Python program that creates a text file named \"data.txt\" and add data about python programming (should contain at least 5 lines)"
   ]
  },
  {
   "cell_type": "code",
   "execution_count": 77,
   "id": "02246c9b",
   "metadata": {},
   "outputs": [],
   "source": [
    "with open(\"data.txt\",\"w+\") as f1:\n",
    "    f1.write(\"Python is a computer programming language often used to build websites and software, automate tasks, and analyze data. Python is a general-purpose language, not specialized for any specific problems, and used to create various programmes. This versatility and its beginner-friendliness have made it one of the most used programming languages today. In 2020, more than one-third of Indian IT professionals said Python was their preferred programming language\")"
   ]
  },
  {
   "cell_type": "markdown",
   "id": "a4239c94",
   "metadata": {},
   "source": [
    "### Read and Display File Contents Write a Python program that reads a text file named \"data.txt\" and displays its contents on the screen."
   ]
  },
  {
   "cell_type": "code",
   "execution_count": 78,
   "id": "cc8b6f16",
   "metadata": {},
   "outputs": [
    {
     "name": "stdout",
     "output_type": "stream",
     "text": [
      "Python is a computer programming language often used to build websites and software, automate tasks, and analyze data. Python is a general-purpose language, not specialized for any specific problems, and used to create various programmes. This versatility and its beginner-friendliness have made it one of the most used programming languages today. In 2020, more than one-third of Indian IT professionals said Python was their preferred programming language\n"
     ]
    }
   ],
   "source": [
    "with open(\"data.txt\",\"r\") as f2:\n",
    "    print(f2.read())  "
   ]
  },
  {
   "cell_type": "markdown",
   "id": "aabebf08",
   "metadata": {},
   "source": [
    "### Count Words in a File Write a Python program that reads a text file named \"data.txt\" and counts the total number of words in the file. Display the word count on the screen."
   ]
  },
  {
   "cell_type": "code",
   "execution_count": 88,
   "id": "8c7f1d40",
   "metadata": {},
   "outputs": [
    {
     "name": "stdout",
     "output_type": "stream",
     "text": [
      "['Python', 'is', 'a', 'computer', 'programming', 'language', 'often', 'used', 'to', 'build', 'websites', 'and', 'software,', 'automate', 'tasks,', 'and', 'analyze', 'data.', 'Python', 'is', 'a', 'general-purpose', 'language,', 'not', 'specialized', 'for', 'any', 'specific', 'problems,', 'and', 'used', 'to', 'create', 'various', 'programmes.', 'This', 'versatility', 'and', 'its', 'beginner-friendliness', 'have', 'made', 'it', 'one', 'of', 'the', 'most', 'used', 'programming', 'languages', 'today.', 'In', '2020,', 'more', 'than', 'one-third', 'of', 'Indian', 'IT', 'professionals', 'said', 'Python', 'was', 'their', 'preferred', 'programming', 'language']\n"
     ]
    },
    {
     "data": {
      "text/plain": [
       "67"
      ]
     },
     "execution_count": 88,
     "metadata": {},
     "output_type": "execute_result"
    }
   ],
   "source": [
    "with open(\"data.txt\",\"r\") as f3:\n",
    "    f4 = f3.read()\n",
    "    f = f4.split()\n",
    "    print(f)\n",
    "    \n",
    "countof_words = len(f)\n",
    "countof_words"
   ]
  },
  {
   "cell_type": "markdown",
   "id": "34754617",
   "metadata": {},
   "source": [
    "### Search and Replace Create a Python program that reads a text file named \"data.txt\" and asks the user to enter a word to search for. If the word is found in the file, replace all occurrences of the word with a new word provided by the user.\n"
   ]
  },
  {
   "cell_type": "code",
   "execution_count": 106,
   "id": "0494e6ca",
   "metadata": {
    "scrolled": true
   },
   "outputs": [
    {
     "name": "stdout",
     "output_type": "stream",
     "text": [
      "enter a word u want to search::Python\n",
      "enter a word u want to replace it::python\n",
      "python is a computer programming language often used to build websites and software, automate tasks, and analyze data. python is a general-purpose language, not specialized for any specific problems, and used to create various programmes. This versatility and its beginner-friendliness have made it one of the most used programming languages today. In 2020, more than one-third of Indian IT professionals said python was their preferred programming language\n"
     ]
    }
   ],
   "source": [
    "with open(\"data.txt\",\"r\") as f3:\n",
    "    f4 = f3.read()\n",
    "    search = input(\"enter a word u want to search::\")\n",
    "    repla_ce = input(\"enter a word u want to replace it::\")\n",
    "    \n",
    "    \n",
    "    if search in f4:\n",
    "        print(f4.replace(search,repla_ce))"
   ]
  },
  {
   "cell_type": "markdown",
   "id": "2a3ed87b",
   "metadata": {},
   "source": [
    "### Append to a File Write a Python program that prompts the user to enter a sentence. Append this sentence to an existing file named \"notes.txt\". Make sure the newly added sentence starts on a new line."
   ]
  },
  {
   "cell_type": "code",
   "execution_count": 1,
   "id": "6de4474f",
   "metadata": {},
   "outputs": [
    {
     "name": "stdout",
     "output_type": "stream",
     "text": [
      "enter a sentence::python is a computer programming language \n"
     ]
    }
   ],
   "source": [
    "user = input(\"enter a sentence::\")\n",
    "with open(\"notes.txt\",\"a+\") as f5:\n",
    "    f5.write(user)"
   ]
  },
  {
   "cell_type": "code",
   "execution_count": 2,
   "id": "68f1e569",
   "metadata": {},
   "outputs": [
    {
     "name": "stdout",
     "output_type": "stream",
     "text": [
      "python is a computer programming language \n"
     ]
    }
   ],
   "source": [
    "f5 = open(\"notes.txt\",\"r\")\n",
    "f5.seek(0)\n",
    "print(f5.read())"
   ]
  }
 ],
 "metadata": {
  "kernelspec": {
   "display_name": "Python 3 (ipykernel)",
   "language": "python",
   "name": "python3"
  },
  "language_info": {
   "codemirror_mode": {
    "name": "ipython",
    "version": 3
   },
   "file_extension": ".py",
   "mimetype": "text/x-python",
   "name": "python",
   "nbconvert_exporter": "python",
   "pygments_lexer": "ipython3",
   "version": "3.11.4"
  }
 },
 "nbformat": 4,
 "nbformat_minor": 5
}
