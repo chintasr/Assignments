{
 "cells": [
  {
   "cell_type": "markdown",
   "id": "5e0a111f",
   "metadata": {},
   "source": [
    "### In this assignment, you will create a Python program to calculate the average grade of students in a function. However, the program should handle various exceptions that might occur during user input and grade calculation. Requirements"
   ]
  },
  {
   "cell_type": "raw",
   "id": "43d099e6",
   "metadata": {},
   "source": [
    "1.Your program should prompt the user to enter the total number of students.\n",
    "2.For each student, prompt the user to enter their name and three subject marks (out of 100).\n",
    "3.Handle the following exceptions"
   ]
  },
  {
   "cell_type": "markdown",
   "id": "b38e1390",
   "metadata": {},
   "source": [
    ": a. ValueError: If the user enters a non-numeric value for the number of students or subject marks. b. ZeroDivisionError: If any student's average marks cannot be calculated due to division by zero (e.g., no subject marks provided). c. NegativeValueError: If any student's marks are negative. 4. Display appropriate error messages for each exception and prompt the user to try again. 5. Use a try-except block for exception handling. 6. Calculate the average marks for each student and display their names along with their average marks. 7. Calculate and display the overall class average. 8. Implement a loop so that the user can re-enter data if an exception occurs or continue calculating for another class. 9. Include a graceful exit message when the user decides to stop.\n",
    "\n"
   ]
  },
  {
   "cell_type": "markdown",
   "id": "3e5f23cf",
   "metadata": {},
   "source": [
    "### Custom(User Defined) Exceptions: Define two custom exception classes:"
   ]
  },
  {
   "cell_type": "raw",
   "id": "fdb19eab",
   "metadata": {},
   "source": [
    "1.`NegativeValueError: This exception should be raised when any of the subject marks are negative.\n",
    "2.`InvalidNumber Error: This exception should be raised when the user enters an invalid number for the total number of students (e.g., a negative number)."
   ]
  },
  {
   "cell_type": "code",
   "execution_count": 5,
   "id": "2902b4fd",
   "metadata": {},
   "outputs": [
    {
     "name": "stdout",
     "output_type": "stream",
     "text": [
      "enter no.of students: 2\n",
      "enter name of students 1:rani\n",
      "enter subject 1 marks of rani:90\n",
      "enter subject 2 marks of rani:85\n",
      "enter subject 3 marks of rani:95\n",
      "rani avg marks :90.0\n",
      "enter name of students 2:sandhya\n",
      "enter subject 1 marks of sandhya:95\n",
      "enter subject 2 marks of sandhya:98\n",
      "enter subject 3 marks of sandhya:90\n",
      "sandhya avg marks :94.33333333333333\n",
      "run successfully\n"
     ]
    }
   ],
   "source": [
    "try:\n",
    "    def grade():\n",
    "        n = int(input(\"enter no.of students: \"))\n",
    "        l = []\n",
    "        \n",
    "        for i in range(1,n+1):\n",
    "            var = []\n",
    "            name = input(\"enter name of students {}:\".format(i))\n",
    "            \n",
    "            for j in range(3):\n",
    "                sub = int(input(f\"enter subject {j+1} marks of {name}:\"))\n",
    "                var.append(sub)\n",
    "            avg = sum(var)/len(var)\n",
    "            print(f\"{name} avg marks :{avg}\")\n",
    "            l.append(avg)\n",
    "        return l\n",
    "        print(avg(l))\n",
    "    \n",
    "    grade()\n",
    "except ValueError:\n",
    "    print(\"enter integer only\")\n",
    "    \n",
    "except ZeroDivisionError:\n",
    "    print(\"we cannot calculate avg due to division error\")\n",
    "    \n",
    "except NegativeValueError:\n",
    "    print(\"enter positive values only\")\n",
    "    \n",
    "    \n",
    "else:\n",
    "    print(\"run successfully\")"
   ]
  },
  {
   "cell_type": "code",
   "execution_count": null,
   "id": "c6d8233a",
   "metadata": {},
   "outputs": [],
   "source": []
  }
 ],
 "metadata": {
  "kernelspec": {
   "display_name": "Python 3 (ipykernel)",
   "language": "python",
   "name": "python3"
  },
  "language_info": {
   "codemirror_mode": {
    "name": "ipython",
    "version": 3
   },
   "file_extension": ".py",
   "mimetype": "text/x-python",
   "name": "python",
   "nbconvert_exporter": "python",
   "pygments_lexer": "ipython3",
   "version": "3.11.4"
  }
 },
 "nbformat": 4,
 "nbformat_minor": 5
}
