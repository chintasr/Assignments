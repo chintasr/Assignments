{
 "cells": [
  {
   "cell_type": "markdown",
   "id": "c61e9e4d",
   "metadata": {},
   "source": [
    "### file handling + time"
   ]
  },
  {
   "cell_type": "markdown",
   "id": "77f1efd6",
   "metadata": {},
   "source": [
    "### Create a Python script that simulates a simple login system. The script should prompt the user to enter their username and password. If the entered username and password match the predefined credentials, the script should log a successful login event to a log file. If the credentials do not match, it should log a failed login attempt to the log file. Example Output Assuming the predefined credentials are username: \"user123\" and password: \"pass123\", here's an example output of the script:"
   ]
  },
  {
   "cell_type": "raw",
   "id": "3d54efcf",
   "metadata": {},
   "source": [
    "please enter your username: user123\n",
    "please enter your password: pass123\n",
    "login successful for user123(2023-07-26 15:00:01)     "
   ]
  },
  {
   "cell_type": "raw",
   "id": "fba80141",
   "metadata": {},
   "source": [
    "please enter your username: admin\n",
    "please enter your password: 1234\n",
    "login failed for admin(2023-07-26 15:01:01) "
   ]
  },
  {
   "cell_type": "code",
   "execution_count": 5,
   "id": "313a3c45",
   "metadata": {},
   "outputs": [
    {
     "name": "stdout",
     "output_type": "stream",
     "text": [
      "enter your username::sandhya123\n",
      "enter your password::chinta\n",
      "login failed for sandhya123 (09/29/2023, 20:47:57)\n"
     ]
    }
   ],
   "source": [
    "import time\n",
    "\n",
    "username = \"sandhya123\"\n",
    "password = \"chinta123\"\n",
    "\n",
    "user_name = input(\"enter your username::\")\n",
    "pass_word = input(\"enter your password::\")\n",
    "\n",
    "now = time.strftime(\"%m/%d/%Y, %H:%M:%S\")  \n",
    "\n",
    "if (username == user_name) and (password == pass_word):\n",
    "    print(f'login successful for sandhya123 ({now})')\n",
    "    \n",
    "else:\n",
    "    print(f'login failed for sandhya123 ({now})')\n",
    "    "
   ]
  },
  {
   "cell_type": "raw",
   "id": "3a011670",
   "metadata": {},
   "source": [
    "Create any 5 of following modules\n",
    "\n",
    "a. Restaurant\n",
    "\n",
    "b. IPL\n",
    "\n",
    "c. Mathematics\n",
    "\n",
    "d. Data Science\n",
    "\n",
    "e. India\n",
    "\n",
    "f. Shopping mall\n",
    "\n",
    "g. Amazon_price\n",
    "\n",
    "Do some research while creating them"
   ]
  },
  {
   "cell_type": "markdown",
   "id": "ec26f52d",
   "metadata": {},
   "source": [
    "### mathmatics"
   ]
  },
  {
   "cell_type": "code",
   "execution_count": 7,
   "id": "1dccdcba",
   "metadata": {},
   "outputs": [],
   "source": [
    "import mathmatic"
   ]
  },
  {
   "cell_type": "code",
   "execution_count": 8,
   "id": "81b1b697",
   "metadata": {},
   "outputs": [
    {
     "name": "stdout",
     "output_type": "stream",
     "text": [
      "jhon\n",
      "Newton\n",
      "Hardy\n"
     ]
    }
   ],
   "source": [
    "mathmatic.authors()"
   ]
  },
  {
   "cell_type": "code",
   "execution_count": 10,
   "id": "7857b9d3",
   "metadata": {},
   "outputs": [
    {
     "name": "stdout",
     "output_type": "stream",
     "text": [
      "30\n",
      "-10\n",
      "200\n",
      "0.5\n",
      "10\n"
     ]
    }
   ],
   "source": [
    "mathmatic.operations(10,20)"
   ]
  },
  {
   "cell_type": "code",
   "execution_count": 11,
   "id": "db9704e0",
   "metadata": {},
   "outputs": [
    {
     "name": "stdout",
     "output_type": "stream",
     "text": [
      "+\n",
      "-\n",
      "*\n",
      "/\n"
     ]
    }
   ],
   "source": [
    "mathmatic.symbols()"
   ]
  },
  {
   "cell_type": "code",
   "execution_count": 12,
   "id": "65e4d393",
   "metadata": {},
   "outputs": [
    {
     "name": "stdout",
     "output_type": "stream",
     "text": [
      "applied mathmatics\n",
      "pure mathmatics\n"
     ]
    }
   ],
   "source": [
    "mathmatic.types()"
   ]
  },
  {
   "cell_type": "markdown",
   "id": "79f34fab",
   "metadata": {},
   "source": [
    "### Restaurant"
   ]
  },
  {
   "cell_type": "code",
   "execution_count": 14,
   "id": "bd1ec8de",
   "metadata": {},
   "outputs": [],
   "source": [
    "import restaurant"
   ]
  },
  {
   "cell_type": "code",
   "execution_count": 15,
   "id": "6a917e27",
   "metadata": {},
   "outputs": [
    {
     "name": "stdout",
     "output_type": "stream",
     "text": [
      "chicken biryani\n",
      "veg pulov\n",
      "Roti\n",
      "Noodles\n",
      "fried rice\n",
      "mushroom biryani\n",
      "panner biryani\n"
     ]
    }
   ],
   "source": [
    "restaurant.dishes()"
   ]
  },
  {
   "cell_type": "code",
   "execution_count": 16,
   "id": "7285110f",
   "metadata": {},
   "outputs": [
    {
     "name": "stdout",
     "output_type": "stream",
     "text": [
      "mushroom biryani\n",
      "chicken biryani\n",
      "panner biryani\n"
     ]
    }
   ],
   "source": [
    "restaurant.specials()"
   ]
  },
  {
   "cell_type": "code",
   "execution_count": 17,
   "id": "30f79e5b",
   "metadata": {},
   "outputs": [
    {
     "name": "stdout",
     "output_type": "stream",
     "text": [
      "chicken biryani:250\n",
      "veg pulov:80\n",
      "Roti:8\n",
      "Noodles:100\n",
      "fried rice:90\n",
      "mushroom biryani:200\n",
      "panner biryani:220\n"
     ]
    }
   ],
   "source": [
    "restaurant.prices()"
   ]
  },
  {
   "cell_type": "code",
   "execution_count": 18,
   "id": "69587647",
   "metadata": {},
   "outputs": [
    {
     "name": "stdout",
     "output_type": "stream",
     "text": [
      "thumsup\n",
      "butter milk\n",
      "maza\n"
     ]
    }
   ],
   "source": [
    "restaurant.drinks()"
   ]
  },
  {
   "cell_type": "markdown",
   "id": "56143640",
   "metadata": {},
   "source": [
    "### Amazon_price"
   ]
  },
  {
   "cell_type": "code",
   "execution_count": 19,
   "id": "b24b574f",
   "metadata": {},
   "outputs": [],
   "source": [
    "import amazon"
   ]
  },
  {
   "cell_type": "code",
   "execution_count": 20,
   "id": "8742338f",
   "metadata": {},
   "outputs": [
    {
     "name": "stdout",
     "output_type": "stream",
     "text": [
      "layasa:400\n",
      "woodland:800\n",
      "liberty:280\n",
      "DR plus:650\n"
     ]
    }
   ],
   "source": [
    "amazon.footware()"
   ]
  },
  {
   "cell_type": "code",
   "execution_count": 21,
   "id": "f8cee35d",
   "metadata": {},
   "outputs": [
    {
     "name": "stdout",
     "output_type": "stream",
     "text": [
      "avasa:600\n",
      "Ruida:400\n",
      "naira:500\n",
      "jaipur kurti:800\n"
     ]
    }
   ],
   "source": [
    " amazon.kurtis()"
   ]
  },
  {
   "cell_type": "code",
   "execution_count": 22,
   "id": "c0184423",
   "metadata": {},
   "outputs": [
    {
     "name": "stdout",
     "output_type": "stream",
     "text": [
      "one plus:40000\n",
      "vivo:15000\n",
      "Realme:10000\n",
      "Nokia:1000\n"
     ]
    }
   ],
   "source": [
    " amazon.mobiles()"
   ]
  },
  {
   "cell_type": "code",
   "execution_count": 23,
   "id": "e6ab1e11",
   "metadata": {},
   "outputs": [
    {
     "name": "stdout",
     "output_type": "stream",
     "text": [
      "Arrow:1100\n",
      "Indoprimo:500\n",
      "U-TURN:400\n"
     ]
    }
   ],
   "source": [
    " amazon.shirts()"
   ]
  },
  {
   "cell_type": "markdown",
   "id": "10bb1f6b",
   "metadata": {},
   "source": [
    "### IPL"
   ]
  },
  {
   "cell_type": "code",
   "execution_count": 24,
   "id": "046837a1",
   "metadata": {},
   "outputs": [],
   "source": [
    "import IPL"
   ]
  },
  {
   "cell_type": "code",
   "execution_count": 25,
   "id": "5f6ae4ee",
   "metadata": {},
   "outputs": [
    {
     "name": "stdout",
     "output_type": "stream",
     "text": [
      "bangalore\n",
      "chennai\n",
      "mumbai\n",
      "rajastan\n"
     ]
    }
   ],
   "source": [
    "IPL.citys()"
   ]
  },
  {
   "cell_type": "code",
   "execution_count": 26,
   "id": "62bf7791",
   "metadata": {},
   "outputs": [
    {
     "name": "stdout",
     "output_type": "stream",
     "text": [
      "fileding\n",
      "bating\n"
     ]
    }
   ],
   "source": [
    "IPL.toss()"
   ]
  },
  {
   "cell_type": "code",
   "execution_count": 27,
   "id": "b89e933a",
   "metadata": {},
   "outputs": [
    {
     "name": "stdout",
     "output_type": "stream",
     "text": [
      "Kolkata Knight Riders\n",
      "chennai super kings\n",
      "mumbai indians\n",
      "rajastan rayals\n"
     ]
    }
   ],
   "source": [
    "IPL.teams()"
   ]
  },
  {
   "cell_type": "code",
   "execution_count": 28,
   "id": "29885f5a",
   "metadata": {},
   "outputs": [
    {
     "name": "stdout",
     "output_type": "stream",
     "text": [
      "2021\n",
      "2022\n",
      "2023\n"
     ]
    }
   ],
   "source": [
    "IPL.season()"
   ]
  },
  {
   "cell_type": "markdown",
   "id": "ebfe2e07",
   "metadata": {},
   "source": [
    "### India"
   ]
  },
  {
   "cell_type": "code",
   "execution_count": 29,
   "id": "a3fbc6c8",
   "metadata": {},
   "outputs": [],
   "source": [
    "import India"
   ]
  },
  {
   "cell_type": "code",
   "execution_count": 30,
   "id": "6d587c46",
   "metadata": {},
   "outputs": [
    {
     "name": "stdout",
     "output_type": "stream",
     "text": [
      "hyderabed\n",
      "bangalore\n",
      "chennai\n",
      "mumbai\n"
     ]
    }
   ],
   "source": [
    "India.citys()"
   ]
  },
  {
   "cell_type": "code",
   "execution_count": 31,
   "id": "0e0e609d",
   "metadata": {},
   "outputs": [
    {
     "name": "stdout",
     "output_type": "stream",
     "text": [
      "Dasara\n",
      "Sankranti\n",
      "Diwali\n",
      "Cristmas\n",
      "moharam\n"
     ]
    }
   ],
   "source": [
    "India.festivals()"
   ]
  },
  {
   "cell_type": "code",
   "execution_count": 32,
   "id": "82bd929a",
   "metadata": {},
   "outputs": [
    {
     "name": "stdout",
     "output_type": "stream",
     "text": [
      "Telugu\n",
      "Hindi\n",
      "English\n",
      "urdu\n",
      "kanada\n",
      "malayalam\n",
      "marati\n"
     ]
    }
   ],
   "source": [
    "India.languages()"
   ]
  },
  {
   "cell_type": "code",
   "execution_count": 33,
   "id": "b92ce495",
   "metadata": {},
   "outputs": [
    {
     "name": "stdout",
     "output_type": "stream",
     "text": [
      "Hindu\n",
      "Muslim\n",
      "Cristian\n"
     ]
    }
   ],
   "source": [
    "India.religions()"
   ]
  },
  {
   "cell_type": "code",
   "execution_count": null,
   "id": "e7b8565a",
   "metadata": {},
   "outputs": [],
   "source": []
  }
 ],
 "metadata": {
  "kernelspec": {
   "display_name": "Python 3 (ipykernel)",
   "language": "python",
   "name": "python3"
  },
  "language_info": {
   "codemirror_mode": {
    "name": "ipython",
    "version": 3
   },
   "file_extension": ".py",
   "mimetype": "text/x-python",
   "name": "python",
   "nbconvert_exporter": "python",
   "pygments_lexer": "ipython3",
   "version": "3.11.4"
  }
 },
 "nbformat": 4,
 "nbformat_minor": 5
}
