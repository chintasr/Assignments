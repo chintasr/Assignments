{
 "cells": [
  {
   "cell_type": "markdown",
   "id": "abf7c617",
   "metadata": {},
   "source": [
    "## string escape characters"
   ]
  },
  {
   "cell_type": "markdown",
   "id": "5603539e",
   "metadata": {},
   "source": [
    "#### Task 1:"
   ]
  },
  {
   "cell_type": "markdown",
   "id": "8e78aa6e",
   "metadata": {},
   "source": [
    "### 1.Create a string containing a sentence that includes both single and double quotes."
   ]
  },
  {
   "cell_type": "code",
   "execution_count": 1,
   "id": "4b3944b8",
   "metadata": {},
   "outputs": [],
   "source": [
    "institute=\"innomatics 'research' labs\""
   ]
  },
  {
   "cell_type": "code",
   "execution_count": 2,
   "id": "0a247e72",
   "metadata": {},
   "outputs": [
    {
     "data": {
      "text/plain": [
       "\"innomatics 'research' labs\""
      ]
     },
     "execution_count": 2,
     "metadata": {},
     "output_type": "execute_result"
    }
   ],
   "source": [
    "institute"
   ]
  },
  {
   "cell_type": "code",
   "execution_count": 3,
   "id": "71c3b44a",
   "metadata": {},
   "outputs": [],
   "source": [
    "institute='innomatics \"research\" labs'"
   ]
  },
  {
   "cell_type": "code",
   "execution_count": 4,
   "id": "85bceed3",
   "metadata": {},
   "outputs": [
    {
     "data": {
      "text/plain": [
       "'innomatics \"research\" labs'"
      ]
     },
     "execution_count": 4,
     "metadata": {},
     "output_type": "execute_result"
    }
   ],
   "source": [
    "institute"
   ]
  },
  {
   "cell_type": "markdown",
   "id": "edcec0df",
   "metadata": {},
   "source": [
    "### 2.Use escape characters to include quotes within the string."
   ]
  },
  {
   "cell_type": "code",
   "execution_count": 5,
   "id": "46d0ab53",
   "metadata": {},
   "outputs": [
    {
     "data": {
      "text/plain": [
       "'Good morning'"
      ]
     },
     "execution_count": 5,
     "metadata": {},
     "output_type": "execute_result"
    }
   ],
   "source": [
    "wishes=\"Good morning\"\n",
    "wishes"
   ]
  },
  {
   "cell_type": "code",
   "execution_count": 10,
   "id": "b3532ee3",
   "metadata": {},
   "outputs": [
    {
     "name": "stdout",
     "output_type": "stream",
     "text": [
      "hello I am a data scientist\n",
      "         I am from hydrabed\n"
     ]
    }
   ],
   "source": [
    "print(\"\"\"hello I am a data scientist\n",
    "         I am from hydrabed\"\"\")"
   ]
  },
  {
   "cell_type": "code",
   "execution_count": 11,
   "id": "c3784ac7",
   "metadata": {},
   "outputs": [
    {
     "name": "stdout",
     "output_type": "stream",
     "text": [
      "raju\n"
     ]
    }
   ],
   "source": [
    "print('raju')"
   ]
  },
  {
   "cell_type": "code",
   "execution_count": 12,
   "id": "c2a98cd6",
   "metadata": {},
   "outputs": [
    {
     "name": "stdout",
     "output_type": "stream",
     "text": [
      "hello I am a data scientist\n",
      "I am from hydrabed\n"
     ]
    }
   ],
   "source": [
    "print(\"hello I am a data scientist\\nI am from hydrabed\")"
   ]
  },
  {
   "cell_type": "code",
   "execution_count": 13,
   "id": "edaeac0c",
   "metadata": {},
   "outputs": [
    {
     "name": "stdout",
     "output_type": "stream",
     "text": [
      "hello\tI\tam\tdata\tscientist\tI\tam\tfrom\thydrabed\n"
     ]
    }
   ],
   "source": [
    "print(\"hello\\tI\\tam\\tdata\\tscientist\\tI\\tam\\tfrom\\thydrabed\")"
   ]
  },
  {
   "cell_type": "code",
   "execution_count": 16,
   "id": "f0192a33",
   "metadata": {},
   "outputs": [
    {
     "name": "stdout",
     "output_type": "stream",
     "text": [
      "hello I am a data scientist\b I am from hydrabed\n"
     ]
    }
   ],
   "source": [
    "print(\"hello I am a data scientist\\b I am from hydrabed\")"
   ]
  },
  {
   "cell_type": "markdown",
   "id": "d2be0f5a",
   "metadata": {},
   "source": [
    "### 3.Print the modified string."
   ]
  },
  {
   "cell_type": "code",
   "execution_count": 19,
   "id": "335d69f0",
   "metadata": {},
   "outputs": [
    {
     "data": {
      "text/plain": [
       "'Good evening'"
      ]
     },
     "execution_count": 19,
     "metadata": {},
     "output_type": "execute_result"
    }
   ],
   "source": [
    "wishes=\"Good morning\"\n",
    "wishes.replace('morning','evening')"
   ]
  },
  {
   "cell_type": "markdown",
   "id": "f916fecd",
   "metadata": {},
   "source": [
    "### Task 2:"
   ]
  },
  {
   "cell_type": "markdown",
   "id": "6e64e206",
   "metadata": {},
   "source": [
    "### 1.Declare a string with a backslash \\ character in it"
   ]
  },
  {
   "cell_type": "code",
   "execution_count": 32,
   "id": "0c9564bc",
   "metadata": {
    "scrolled": true
   },
   "outputs": [
    {
     "name": "stdout",
     "output_type": "stream",
     "text": [
      "helloevery\n",
      "one\n"
     ]
    }
   ],
   "source": [
    "print(\"helloevery\\none\")"
   ]
  },
  {
   "cell_type": "code",
   "execution_count": 33,
   "id": "cf5a9808",
   "metadata": {},
   "outputs": [
    {
     "name": "stdout",
     "output_type": "stream",
     "text": [
      "sum\total\n"
     ]
    }
   ],
   "source": [
    "print(\"sum\\total\")"
   ]
  },
  {
   "cell_type": "markdown",
   "id": "b35938c7",
   "metadata": {},
   "source": [
    "### 2.Demonstrate the use of the escape character to print the backslash itself."
   ]
  },
  {
   "cell_type": "code",
   "execution_count": 29,
   "id": "4f7e131b",
   "metadata": {},
   "outputs": [
    {
     "name": "stdout",
     "output_type": "stream",
     "text": [
      "helloevery\\one\n"
     ]
    }
   ],
   "source": [
    "print(r\"helloevery\\one\")"
   ]
  },
  {
   "cell_type": "code",
   "execution_count": 34,
   "id": "68ed464b",
   "metadata": {},
   "outputs": [
    {
     "name": "stdout",
     "output_type": "stream",
     "text": [
      "sum\\total\n"
     ]
    }
   ],
   "source": [
    "print(\"sum\\\\total\")"
   ]
  },
  {
   "cell_type": "markdown",
   "id": "6404a1ea",
   "metadata": {},
   "source": [
    "### 3.Print the resulting string."
   ]
  },
  {
   "cell_type": "code",
   "execution_count": 35,
   "id": "1d1a4f47",
   "metadata": {},
   "outputs": [],
   "source": [
    "string=\"sandhyA\""
   ]
  },
  {
   "cell_type": "code",
   "execution_count": 36,
   "id": "095da7e0",
   "metadata": {},
   "outputs": [
    {
     "data": {
      "text/plain": [
       "'sandhyA'"
      ]
     },
     "execution_count": 36,
     "metadata": {},
     "output_type": "execute_result"
    }
   ],
   "source": [
    "string"
   ]
  },
  {
   "cell_type": "markdown",
   "id": "2bcd5a92",
   "metadata": {},
   "source": [
    "### Task 3:"
   ]
  },
  {
   "cell_type": "markdown",
   "id": "9a91a151",
   "metadata": {},
   "source": [
    "### 1.Construct a string containing newline and tab escape sequences."
   ]
  },
  {
   "cell_type": "code",
   "execution_count": 37,
   "id": "a27365b9",
   "metadata": {},
   "outputs": [
    {
     "name": "stdout",
     "output_type": "stream",
     "text": [
      "good after\n",
      "noon\n"
     ]
    }
   ],
   "source": [
    "print(\"good after\\nnoon\") # new line"
   ]
  },
  {
   "cell_type": "code",
   "execution_count": 38,
   "id": "b2fe29d6",
   "metadata": {},
   "outputs": [
    {
     "name": "stdout",
     "output_type": "stream",
     "text": [
      "good after\tnoon\n"
     ]
    }
   ],
   "source": [
    "print(\"good after\\tnoon\") #tab"
   ]
  },
  {
   "cell_type": "markdown",
   "id": "7e5df9e0",
   "metadata": {},
   "source": [
    "### 2.Print the string to display the formatted output"
   ]
  },
  {
   "cell_type": "code",
   "execution_count": 39,
   "id": "81546ab7",
   "metadata": {},
   "outputs": [
    {
     "name": "stdout",
     "output_type": "stream",
     "text": [
      "enter your name:rani\n",
      "enter your city:bangolare\n"
     ]
    }
   ],
   "source": [
    "name=input(\"enter your name:\")\n",
    "city=input(\"enter your city:\")"
   ]
  },
  {
   "cell_type": "code",
   "execution_count": 41,
   "id": "90264a9c",
   "metadata": {},
   "outputs": [
    {
     "name": "stdout",
     "output_type": "stream",
     "text": [
      "i am rani i am from bangolare\n"
     ]
    }
   ],
   "source": [
    "print(\"i am \"+name+\" i am from \"+city)"
   ]
  },
  {
   "cell_type": "markdown",
   "id": "8ae822c7",
   "metadata": {},
   "source": [
    "### indexing and slicing"
   ]
  },
  {
   "cell_type": "markdown",
   "id": "41f7a8ac",
   "metadata": {},
   "source": [
    "### Task 4:"
   ]
  },
  {
   "cell_type": "code",
   "execution_count": 3,
   "id": "d022eaf1",
   "metadata": {},
   "outputs": [],
   "source": [
    "\n",
    "sentence = \"I want to become Data Scientist\""
   ]
  },
  {
   "cell_type": "code",
   "execution_count": 45,
   "id": "0a8a0ebd",
   "metadata": {},
   "outputs": [
    {
     "data": {
      "text/plain": [
       "'I want to become Data Scientist'"
      ]
     },
     "execution_count": 45,
     "metadata": {},
     "output_type": "execute_result"
    }
   ],
   "source": [
    "sentence"
   ]
  },
  {
   "cell_type": "markdown",
   "id": "06dae056",
   "metadata": {},
   "source": [
    "### 2.Access and print the first character of the string using indexing.\n"
   ]
  },
  {
   "cell_type": "code",
   "execution_count": 46,
   "id": "0fdab536",
   "metadata": {},
   "outputs": [
    {
     "data": {
      "text/plain": [
       "'I'"
      ]
     },
     "execution_count": 46,
     "metadata": {},
     "output_type": "execute_result"
    }
   ],
   "source": [
    "sentence[0]"
   ]
  },
  {
   "cell_type": "markdown",
   "id": "bcf67810",
   "metadata": {},
   "source": [
    "### 3.Access and print the last character of the string using negative indexing"
   ]
  },
  {
   "cell_type": "code",
   "execution_count": 47,
   "id": "4c7f7fed",
   "metadata": {},
   "outputs": [
    {
     "data": {
      "text/plain": [
       "'t'"
      ]
     },
     "execution_count": 47,
     "metadata": {},
     "output_type": "execute_result"
    }
   ],
   "source": [
    "sentence[-1]"
   ]
  },
  {
   "cell_type": "markdown",
   "id": "95d14635",
   "metadata": {},
   "source": [
    "### Task 5:"
   ]
  },
  {
   "cell_type": "markdown",
   "id": "b6759b54",
   "metadata": {},
   "source": [
    "### 1.What are possible ways yo extract Scientist(use forward and reverse)"
   ]
  },
  {
   "cell_type": "code",
   "execution_count": 4,
   "id": "d00bbdc6",
   "metadata": {},
   "outputs": [
    {
     "data": {
      "text/plain": [
       "'I want to become Data Scientist'"
      ]
     },
     "execution_count": 4,
     "metadata": {},
     "output_type": "execute_result"
    }
   ],
   "source": [
    "sentence"
   ]
  },
  {
   "cell_type": "code",
   "execution_count": 50,
   "id": "1b6e30a7",
   "metadata": {},
   "outputs": [
    {
     "data": {
      "text/plain": [
       "'Scientist'"
      ]
     },
     "execution_count": 50,
     "metadata": {},
     "output_type": "execute_result"
    }
   ],
   "source": [
    "sentence[22:31:1] #forward [start:stop:step]"
   ]
  },
  {
   "cell_type": "code",
   "execution_count": 43,
   "id": "b860fd5e",
   "metadata": {},
   "outputs": [
    {
     "data": {
      "text/plain": [
       "'tsitneicS'"
      ]
     },
     "execution_count": 43,
     "metadata": {},
     "output_type": "execute_result"
    }
   ],
   "source": [
    "sentence[-1:-10:-1] #REVERSE"
   ]
  },
  {
   "cell_type": "code",
   "execution_count": 10,
   "id": "5c71a4bd",
   "metadata": {},
   "outputs": [
    {
     "data": {
      "text/plain": [
       "' Scientist'"
      ]
     },
     "execution_count": 10,
     "metadata": {},
     "output_type": "execute_result"
    }
   ],
   "source": [
    "sentence[-10::]"
   ]
  },
  {
   "cell_type": "markdown",
   "id": "157bc5de",
   "metadata": {},
   "source": [
    "### 2.Use slicing to extract and print the first word from the string"
   ]
  },
  {
   "cell_type": "code",
   "execution_count": 14,
   "id": "cfbb2886",
   "metadata": {},
   "outputs": [
    {
     "data": {
      "text/plain": [
       "'I'"
      ]
     },
     "execution_count": 14,
     "metadata": {},
     "output_type": "execute_result"
    }
   ],
   "source": [
    "sentence[0:1:]"
   ]
  },
  {
   "cell_type": "markdown",
   "id": "b88a06a5",
   "metadata": {},
   "source": [
    "### 3.Use slicing to extract and print the last three characters of the string"
   ]
  },
  {
   "cell_type": "code",
   "execution_count": 47,
   "id": "dedc0106",
   "metadata": {},
   "outputs": [
    {
     "data": {
      "text/plain": [
       "'tsi'"
      ]
     },
     "execution_count": 47,
     "metadata": {},
     "output_type": "execute_result"
    }
   ],
   "source": [
    "sentence[-1:-4 :-1 ] "
   ]
  },
  {
   "cell_type": "markdown",
   "id": "63481898",
   "metadata": {},
   "source": [
    "### Task 6:"
   ]
  },
  {
   "cell_type": "code",
   "execution_count": 19,
   "id": "99721b19",
   "metadata": {},
   "outputs": [],
   "source": [
    "name = \"Innomatics Reserach Labs\""
   ]
  },
  {
   "cell_type": "code",
   "execution_count": 20,
   "id": "cd65b630",
   "metadata": {},
   "outputs": [
    {
     "data": {
      "text/plain": [
       "'Innomatics Reserach Labs'"
      ]
     },
     "execution_count": 20,
     "metadata": {},
     "output_type": "execute_result"
    }
   ],
   "source": [
    "name"
   ]
  },
  {
   "cell_type": "markdown",
   "id": "e126d75f",
   "metadata": {},
   "source": [
    "### 2.Apply slicing to extract a substring that includes the second to fifth characters."
   ]
  },
  {
   "cell_type": "code",
   "execution_count": 21,
   "id": "a4428e15",
   "metadata": {},
   "outputs": [
    {
     "data": {
      "text/plain": [
       "'nomat'"
      ]
     },
     "execution_count": 21,
     "metadata": {},
     "output_type": "execute_result"
    }
   ],
   "source": [
    "name[2:7:1]"
   ]
  },
  {
   "cell_type": "markdown",
   "id": "a8890c0e",
   "metadata": {},
   "source": [
    "### 3.Print the extracted substring."
   ]
  },
  {
   "cell_type": "code",
   "execution_count": 22,
   "id": "d7aea152",
   "metadata": {},
   "outputs": [
    {
     "data": {
      "text/plain": [
       "'Reserach '"
      ]
     },
     "execution_count": 22,
     "metadata": {},
     "output_type": "execute_result"
    }
   ],
   "source": [
    "name[11:20:]"
   ]
  },
  {
   "cell_type": "markdown",
   "id": "01ac0f5b",
   "metadata": {},
   "source": [
    "### Task 7:"
   ]
  },
  {
   "cell_type": "code",
   "execution_count": 25,
   "id": "ba03dd21",
   "metadata": {},
   "outputs": [],
   "source": [
    "string = \"Python@1234\""
   ]
  },
  {
   "cell_type": "markdown",
   "id": "e4f3b7ef",
   "metadata": {},
   "source": [
    "### 2.Use slicing to extract every second character from the string"
   ]
  },
  {
   "cell_type": "code",
   "execution_count": 45,
   "id": "ab58fe1f",
   "metadata": {},
   "outputs": [
    {
     "data": {
      "text/plain": [
       "'Pto@24'"
      ]
     },
     "execution_count": 45,
     "metadata": {},
     "output_type": "execute_result"
    }
   ],
   "source": [
    "string[::2]"
   ]
  },
  {
   "cell_type": "markdown",
   "id": "348060f9",
   "metadata": {},
   "source": [
    "### 3.Print the resulting sliced string.\n"
   ]
  },
  {
   "cell_type": "code",
   "execution_count": 29,
   "id": "cf5c10ad",
   "metadata": {},
   "outputs": [
    {
     "data": {
      "text/plain": [
       "'Python@1234'"
      ]
     },
     "execution_count": 29,
     "metadata": {},
     "output_type": "execute_result"
    }
   ],
   "source": [
    "string[0:11:1]"
   ]
  },
  {
   "cell_type": "markdown",
   "id": "1342db53",
   "metadata": {},
   "source": [
    "### Task 8:"
   ]
  },
  {
   "cell_type": "markdown",
   "id": "db61c808",
   "metadata": {},
   "source": [
    "### 1.print last five letters"
   ]
  },
  {
   "cell_type": "code",
   "execution_count": 31,
   "id": "59b4dd05",
   "metadata": {},
   "outputs": [
    {
     "data": {
      "text/plain": [
       "'4321@'"
      ]
     },
     "execution_count": 31,
     "metadata": {},
     "output_type": "execute_result"
    }
   ],
   "source": [
    "string[-1:-6:-1]"
   ]
  },
  {
   "cell_type": "markdown",
   "id": "ddb6347d",
   "metadata": {},
   "source": [
    "### 2.Utilize slicing to reverse the word order in the string."
   ]
  },
  {
   "cell_type": "code",
   "execution_count": 33,
   "id": "1d06d8f6",
   "metadata": {},
   "outputs": [
    {
     "data": {
      "text/plain": [
       "'4321@nohtyP'"
      ]
     },
     "execution_count": 33,
     "metadata": {},
     "output_type": "execute_result"
    }
   ],
   "source": [
    "string[-1:-12:-1]"
   ]
  },
  {
   "cell_type": "markdown",
   "id": "0d4b6e78",
   "metadata": {},
   "source": [
    "### 3.Print the string with the words in the reversed orde"
   ]
  },
  {
   "cell_type": "code",
   "execution_count": 36,
   "id": "f68db1cc",
   "metadata": {},
   "outputs": [
    {
     "data": {
      "text/plain": [
       "'4321@nohtyP'"
      ]
     },
     "execution_count": 36,
     "metadata": {},
     "output_type": "execute_result"
    }
   ],
   "source": [
    "string[-1:-12:-1]"
   ]
  },
  {
   "cell_type": "markdown",
   "id": "6d99bdbd",
   "metadata": {},
   "source": [
    "### Task 9:"
   ]
  },
  {
   "cell_type": "code",
   "execution_count": 37,
   "id": "fad8f97b",
   "metadata": {},
   "outputs": [],
   "source": [
    "a = \"123123123\""
   ]
  },
  {
   "cell_type": "markdown",
   "id": "aa26597a",
   "metadata": {},
   "source": [
    "### 2.Apply slicing to extract only the numeric characters at odd positions."
   ]
  },
  {
   "cell_type": "code",
   "execution_count": 38,
   "id": "b5cffe1c",
   "metadata": {},
   "outputs": [
    {
     "data": {
      "text/plain": [
       "'2132'"
      ]
     },
     "execution_count": 38,
     "metadata": {},
     "output_type": "execute_result"
    }
   ],
   "source": [
    "a[1:9:2]"
   ]
  },
  {
   "cell_type": "markdown",
   "id": "8916f87e",
   "metadata": {},
   "source": [
    "### 3.Print the sliced result."
   ]
  },
  {
   "cell_type": "code",
   "execution_count": 39,
   "id": "8616b841",
   "metadata": {},
   "outputs": [
    {
     "data": {
      "text/plain": [
       "'123123123'"
      ]
     },
     "execution_count": 39,
     "metadata": {},
     "output_type": "execute_result"
    }
   ],
   "source": [
    "a[0:9:1]"
   ]
  },
  {
   "cell_type": "code",
   "execution_count": null,
   "id": "b256bec5",
   "metadata": {},
   "outputs": [],
   "source": []
  }
 ],
 "metadata": {
  "kernelspec": {
   "display_name": "Python 3 (ipykernel)",
   "language": "python",
   "name": "python3"
  },
  "language_info": {
   "codemirror_mode": {
    "name": "ipython",
    "version": 3
   },
   "file_extension": ".py",
   "mimetype": "text/x-python",
   "name": "python",
   "nbconvert_exporter": "python",
   "pygments_lexer": "ipython3",
   "version": "3.11.4"
  }
 },
 "nbformat": 4,
 "nbformat_minor": 5
}
