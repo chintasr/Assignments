{
 "cells": [
  {
   "cell_type": "markdown",
   "id": "fadc1506",
   "metadata": {},
   "source": [
    "### 1.Ask user to enter a website name and check whether it is valid or not(True/False)"
   ]
  },
  {
   "cell_type": "code",
   "execution_count": 1,
   "id": "3d5053e9",
   "metadata": {},
   "outputs": [
    {
     "name": "stdout",
     "output_type": "stream",
     "text": [
      "enter website name:www.innomatics.com\n"
     ]
    }
   ],
   "source": [
    "Name=input(\"enter website name:\")"
   ]
  },
  {
   "cell_type": "code",
   "execution_count": 2,
   "id": "a9f425e3",
   "metadata": {},
   "outputs": [
    {
     "data": {
      "text/plain": [
       "True"
      ]
     },
     "execution_count": 2,
     "metadata": {},
     "output_type": "execute_result"
    }
   ],
   "source": [
    "Name.startswith(\"www\") and Name.endswith(\"com\")"
   ]
  },
  {
   "cell_type": "markdown",
   "id": "1b4baab5",
   "metadata": {},
   "source": [
    "### 2.name = \"Innomatics\", course = \"Data Science\" write python code in different ways to show output as : \"Hello World I am learning Data Science in Innomatics\""
   ]
  },
  {
   "cell_type": "code",
   "execution_count": 6,
   "id": "6ad5bad8",
   "metadata": {},
   "outputs": [
    {
     "name": "stdout",
     "output_type": "stream",
     "text": [
      "Hello World I am learning Data Science in Innomatics\n"
     ]
    }
   ],
   "source": [
    "name=\"Innomatics\"\n",
    "course=\"Data Science\"\n",
    "print(\"Hello \"+\"World \"+\"I am \"+\"learning \"+course+\" in \"+name)"
   ]
  },
  {
   "cell_type": "code",
   "execution_count": 7,
   "id": "3be29867",
   "metadata": {},
   "outputs": [
    {
     "name": "stdout",
     "output_type": "stream",
     "text": [
      "Hello World I am learning Data Science in Innomatics\n"
     ]
    }
   ],
   "source": [
    "print(\"Hello World I am learning {} in {}\".format(course,name))"
   ]
  },
  {
   "cell_type": "code",
   "execution_count": 12,
   "id": "76ea0872",
   "metadata": {},
   "outputs": [
    {
     "name": "stdout",
     "output_type": "stream",
     "text": [
      "Hello World I am learning Data Science in Innomatics\n"
     ]
    }
   ],
   "source": [
    "print(f\"Hello World I am learning {course} in {name}\")"
   ]
  },
  {
   "cell_type": "markdown",
   "id": "f0db3606",
   "metadata": {},
   "source": [
    "### 3.Replace Science with Analysis in the above output.\n",
    "\n"
   ]
  },
  {
   "cell_type": "code",
   "execution_count": 44,
   "id": "3f9549b8",
   "metadata": {},
   "outputs": [],
   "source": [
    "string=\"Hello World I am learning Data Science in Innomatics\""
   ]
  },
  {
   "cell_type": "code",
   "execution_count": 2,
   "id": "5c909834",
   "metadata": {},
   "outputs": [
    {
     "data": {
      "text/plain": [
       "'Hello World I am learning Data Science in Innomatics'"
      ]
     },
     "execution_count": 2,
     "metadata": {},
     "output_type": "execute_result"
    }
   ],
   "source": [
    "string"
   ]
  },
  {
   "cell_type": "code",
   "execution_count": 45,
   "id": "f672a929",
   "metadata": {},
   "outputs": [
    {
     "data": {
      "text/plain": [
       "'Hello World I am learning Data Analysis in Innomatics'"
      ]
     },
     "execution_count": 45,
     "metadata": {},
     "output_type": "execute_result"
    }
   ],
   "source": [
    "string.replace('Science','Analysis')"
   ]
  },
  {
   "cell_type": "markdown",
   "id": "58500d70",
   "metadata": {},
   "source": [
    "### 4.string = ' Hello World I am learning Python in Innomatics ' a. How many characters are there in the string. b. Slice only 'Python' from above string c. Remove white spaces on both sides then find no.of characters in the string. d. Convert the string in Upper case"
   ]
  },
  {
   "cell_type": "code",
   "execution_count": 5,
   "id": "7cacfab7",
   "metadata": {},
   "outputs": [],
   "source": [
    "string=\"Hello World I am learning Python in Innomatics\""
   ]
  },
  {
   "cell_type": "code",
   "execution_count": 6,
   "id": "b5b25d1d",
   "metadata": {},
   "outputs": [
    {
     "data": {
      "text/plain": [
       "'Hello World I am learning Python in Innomatics'"
      ]
     },
     "execution_count": 6,
     "metadata": {},
     "output_type": "execute_result"
    }
   ],
   "source": [
    "string"
   ]
  },
  {
   "cell_type": "code",
   "execution_count": 8,
   "id": "6afd2b6c",
   "metadata": {},
   "outputs": [
    {
     "data": {
      "text/plain": [
       "46"
      ]
     },
     "execution_count": 8,
     "metadata": {},
     "output_type": "execute_result"
    }
   ],
   "source": [
    "len(string)   # how many characters in string"
   ]
  },
  {
   "cell_type": "code",
   "execution_count": 11,
   "id": "d86aaef3",
   "metadata": {},
   "outputs": [
    {
     "data": {
      "text/plain": [
       "'Python'"
      ]
     },
     "execution_count": 11,
     "metadata": {},
     "output_type": "execute_result"
    }
   ],
   "source": [
    "string[-20:-14:1]  #slice only python"
   ]
  },
  {
   "cell_type": "code",
   "execution_count": 12,
   "id": "74984d3f",
   "metadata": {},
   "outputs": [
    {
     "data": {
      "text/plain": [
       "'Hello World I am learning Python in Innomatics'"
      ]
     },
     "execution_count": 12,
     "metadata": {},
     "output_type": "execute_result"
    }
   ],
   "source": [
    "string.strip()    # remove white spaces on bothsides"
   ]
  },
  {
   "cell_type": "code",
   "execution_count": 13,
   "id": "fb71f09a",
   "metadata": {},
   "outputs": [
    {
     "data": {
      "text/plain": [
       "46"
      ]
     },
     "execution_count": 13,
     "metadata": {},
     "output_type": "execute_result"
    }
   ],
   "source": [
    "len(string)"
   ]
  },
  {
   "cell_type": "code",
   "execution_count": 19,
   "id": "6d5d0ab0",
   "metadata": {},
   "outputs": [
    {
     "data": {
      "text/plain": [
       "'HELLO WORLD I AM LEARNING PYTHON IN INNOMATICS'"
      ]
     },
     "execution_count": 19,
     "metadata": {},
     "output_type": "execute_result"
    }
   ],
   "source": [
    " string.upper()  #string into uppercase"
   ]
  },
  {
   "cell_type": "markdown",
   "id": "c67b9389",
   "metadata": {},
   "source": [
    "### 5 .What is the index number of 'World' in above string."
   ]
  },
  {
   "cell_type": "code",
   "execution_count": 28,
   "id": "5dc343a3",
   "metadata": {},
   "outputs": [
    {
     "data": {
      "text/plain": [
       "'Hello World I am learning Python in Innomatics'"
      ]
     },
     "execution_count": 28,
     "metadata": {},
     "output_type": "execute_result"
    }
   ],
   "source": [
    "string"
   ]
  },
  {
   "cell_type": "code",
   "execution_count": 29,
   "id": "ca4c9e48",
   "metadata": {},
   "outputs": [
    {
     "data": {
      "text/plain": [
       "6"
      ]
     },
     "execution_count": 29,
     "metadata": {},
     "output_type": "execute_result"
    }
   ],
   "source": [
    "string.find(\"World\")"
   ]
  },
  {
   "cell_type": "markdown",
   "id": "bfced2a8",
   "metadata": {},
   "source": [
    "### 6.Split the string with respect to whitespace.after that store that splitted into a variable and find the data typeof that variable."
   ]
  },
  {
   "cell_type": "code",
   "execution_count": 30,
   "id": "beea6063",
   "metadata": {},
   "outputs": [
    {
     "data": {
      "text/plain": [
       "'Hello World I am learning Python in Innomatics'"
      ]
     },
     "execution_count": 30,
     "metadata": {},
     "output_type": "execute_result"
    }
   ],
   "source": [
    "string='Hello World I am learning Python in\\bInnomatics"
   ]
  },
  {
   "cell_type": "code",
   "execution_count": 31,
   "id": "65d60c92",
   "metadata": {},
   "outputs": [
    {
     "data": {
      "text/plain": [
       "['Hello', 'World', 'I', 'am', 'learning', 'Python', 'in', 'Innomatics']"
      ]
     },
     "execution_count": 31,
     "metadata": {},
     "output_type": "execute_result"
    }
   ],
   "source": [
    "string.split()"
   ]
  },
  {
   "cell_type": "code",
   "execution_count": 32,
   "id": "0de4dc16",
   "metadata": {},
   "outputs": [
    {
     "data": {
      "text/plain": [
       "str"
      ]
     },
     "execution_count": 32,
     "metadata": {},
     "output_type": "execute_result"
    }
   ],
   "source": [
    "s=\"hello\"\n",
    "type(s)"
   ]
  },
  {
   "cell_type": "code",
   "execution_count": 33,
   "id": "0963fca8",
   "metadata": {},
   "outputs": [
    {
     "data": {
      "text/plain": [
       "str"
      ]
     },
     "execution_count": 33,
     "metadata": {},
     "output_type": "execute_result"
    }
   ],
   "source": [
    "t=\"world\"\n",
    "type(t)"
   ]
  },
  {
   "cell_type": "code",
   "execution_count": 34,
   "id": "2f1c9386",
   "metadata": {},
   "outputs": [
    {
     "data": {
      "text/plain": [
       "str"
      ]
     },
     "execution_count": 34,
     "metadata": {},
     "output_type": "execute_result"
    }
   ],
   "source": [
    "p=\"I\"\n",
    "type(p)"
   ]
  },
  {
   "cell_type": "code",
   "execution_count": 35,
   "id": "165d82e2",
   "metadata": {},
   "outputs": [
    {
     "data": {
      "text/plain": [
       "str"
      ]
     },
     "execution_count": 35,
     "metadata": {},
     "output_type": "execute_result"
    }
   ],
   "source": [
    "d=\"am\"\n",
    "type(d)"
   ]
  },
  {
   "cell_type": "code",
   "execution_count": 37,
   "id": "df9d38e1",
   "metadata": {},
   "outputs": [
    {
     "data": {
      "text/plain": [
       "str"
      ]
     },
     "execution_count": 37,
     "metadata": {},
     "output_type": "execute_result"
    }
   ],
   "source": [
    "f=\"learning\"\n",
    "type(f)"
   ]
  },
  {
   "cell_type": "code",
   "execution_count": 38,
   "id": "eca60bdd",
   "metadata": {},
   "outputs": [
    {
     "data": {
      "text/plain": [
       "str"
      ]
     },
     "execution_count": 38,
     "metadata": {},
     "output_type": "execute_result"
    }
   ],
   "source": [
    "g=\"Python\"\n",
    "type(g)"
   ]
  },
  {
   "cell_type": "code",
   "execution_count": 39,
   "id": "3ad6f613",
   "metadata": {},
   "outputs": [
    {
     "data": {
      "text/plain": [
       "str"
      ]
     },
     "execution_count": 39,
     "metadata": {},
     "output_type": "execute_result"
    }
   ],
   "source": [
    "h=\"in\"\n",
    "type(h)"
   ]
  },
  {
   "cell_type": "code",
   "execution_count": 40,
   "id": "bcab8c8b",
   "metadata": {},
   "outputs": [
    {
     "data": {
      "text/plain": [
       "str"
      ]
     },
     "execution_count": 40,
     "metadata": {},
     "output_type": "execute_result"
    }
   ],
   "source": [
    "k=\"Innomatics\"\n",
    "type(k)"
   ]
  },
  {
   "cell_type": "markdown",
   "id": "06885b26",
   "metadata": {},
   "source": [
    "### 7.How many times 'a' is repeated in above string"
   ]
  },
  {
   "cell_type": "code",
   "execution_count": 41,
   "id": "86c2605f",
   "metadata": {},
   "outputs": [
    {
     "data": {
      "text/plain": [
       "3"
      ]
     },
     "execution_count": 41,
     "metadata": {},
     "output_type": "execute_result"
    }
   ],
   "source": [
    "string.count(\"a\")"
   ]
  }
 ],
 "metadata": {
  "kernelspec": {
   "display_name": "Python 3 (ipykernel)",
   "language": "python",
   "name": "python3"
  },
  "language_info": {
   "codemirror_mode": {
    "name": "ipython",
    "version": 3
   },
   "file_extension": ".py",
   "mimetype": "text/x-python",
   "name": "python",
   "nbconvert_exporter": "python",
   "pygments_lexer": "ipython3",
   "version": "3.11.4"
  }
 },
 "nbformat": 4,
 "nbformat_minor": 5
}
