{
 "cells": [
  {
   "cell_type": "markdown",
   "id": "575da73e",
   "metadata": {},
   "source": [
    "### Task1: Append and Modify Elements"
   ]
  },
  {
   "cell_type": "markdown",
   "id": "0fe9b8c5",
   "metadata": {},
   "source": [
    "### *Create an empty list called numbers. Append the numbers 1, 2, and 3 to the list."
   ]
  },
  {
   "cell_type": "code",
   "execution_count": 3,
   "id": "88fe6aa6",
   "metadata": {},
   "outputs": [
    {
     "data": {
      "text/plain": [
       "[]"
      ]
     },
     "execution_count": 3,
     "metadata": {},
     "output_type": "execute_result"
    }
   ],
   "source": [
    "numbers=[]\n",
    "numbers"
   ]
  },
  {
   "cell_type": "code",
   "execution_count": 4,
   "id": "123df88a",
   "metadata": {},
   "outputs": [],
   "source": [
    "numbers.append([1,2,3])"
   ]
  },
  {
   "cell_type": "code",
   "execution_count": 5,
   "id": "0cf41247",
   "metadata": {},
   "outputs": [
    {
     "data": {
      "text/plain": [
       "[[1, 2, 3]]"
      ]
     },
     "execution_count": 5,
     "metadata": {},
     "output_type": "execute_result"
    }
   ],
   "source": [
    "numbers"
   ]
  },
  {
   "cell_type": "markdown",
   "id": "1225fd5b",
   "metadata": {},
   "source": [
    "### *Modify the element at index 1 to be 4."
   ]
  },
  {
   "cell_type": "code",
   "execution_count": 5,
   "id": "a1da55c2",
   "metadata": {},
   "outputs": [
    {
     "data": {
      "text/plain": [
       "[[1, 2, 3]]"
      ]
     },
     "execution_count": 5,
     "metadata": {},
     "output_type": "execute_result"
    }
   ],
   "source": [
    "numbers"
   ]
  },
  {
   "cell_type": "code",
   "execution_count": 6,
   "id": "1326fc6c",
   "metadata": {},
   "outputs": [],
   "source": [
    "numbers.append(4)"
   ]
  },
  {
   "cell_type": "code",
   "execution_count": 7,
   "id": "89a18764",
   "metadata": {},
   "outputs": [
    {
     "data": {
      "text/plain": [
       "[[1, 2, 3], 4]"
      ]
     },
     "execution_count": 7,
     "metadata": {},
     "output_type": "execute_result"
    }
   ],
   "source": [
    "numbers"
   ]
  },
  {
   "cell_type": "markdown",
   "id": "84b2674c",
   "metadata": {},
   "source": [
    "### *Print the updated list"
   ]
  },
  {
   "cell_type": "code",
   "execution_count": 8,
   "id": "7d66bc80",
   "metadata": {},
   "outputs": [
    {
     "data": {
      "text/plain": [
       "[[1, 2, 3], 4]"
      ]
     },
     "execution_count": 8,
     "metadata": {},
     "output_type": "execute_result"
    }
   ],
   "source": [
    "numbers"
   ]
  },
  {
   "cell_type": "markdown",
   "id": "b6ed08e9",
   "metadata": {},
   "source": [
    "### Task2: Slicing and Concatenation"
   ]
  },
  {
   "cell_type": "markdown",
   "id": "19b19a91",
   "metadata": {},
   "source": [
    "### *Create a list called fruits with elements 'apple', 'banana', 'orange', 'mango', and 'kiwi'."
   ]
  },
  {
   "cell_type": "code",
   "execution_count": 9,
   "id": "a3d8b55e",
   "metadata": {},
   "outputs": [
    {
     "data": {
      "text/plain": [
       "['apple', 'banana', 'orange', 'mango', 'kiwi']"
      ]
     },
     "execution_count": 9,
     "metadata": {},
     "output_type": "execute_result"
    }
   ],
   "source": [
    "fruits=[\"apple\",\"banana\",\"orange\",\"mango\",\"kiwi\"]\n",
    "fruits"
   ]
  },
  {
   "cell_type": "markdown",
   "id": "54d0fc45",
   "metadata": {},
   "source": [
    "### *Create a new list by slicing fruits to include only the citrus fruits ('orange' and 'mango\"). * Create a new list called tropical by slicing fruits to include only the tropical fruits ('banana\" and \"kiwi')."
   ]
  },
  {
   "cell_type": "code",
   "execution_count": 10,
   "id": "92fb6566",
   "metadata": {},
   "outputs": [],
   "source": [
    "citrus=fruits[2:4]"
   ]
  },
  {
   "cell_type": "code",
   "execution_count": 11,
   "id": "a7c918a9",
   "metadata": {},
   "outputs": [
    {
     "data": {
      "text/plain": [
       "['orange', 'mango']"
      ]
     },
     "execution_count": 11,
     "metadata": {},
     "output_type": "execute_result"
    }
   ],
   "source": [
    "citrus"
   ]
  },
  {
   "cell_type": "code",
   "execution_count": 14,
   "id": "de627536",
   "metadata": {},
   "outputs": [
    {
     "data": {
      "text/plain": [
       "['apple', 'banana', 'orange', 'mango', 'kiwi']"
      ]
     },
     "execution_count": 14,
     "metadata": {},
     "output_type": "execute_result"
    }
   ],
   "source": [
    "fruits"
   ]
  },
  {
   "cell_type": "code",
   "execution_count": 22,
   "id": "1127a174",
   "metadata": {},
   "outputs": [
    {
     "data": {
      "text/plain": [
       "['banana', 'kiwi']"
      ]
     },
     "execution_count": 22,
     "metadata": {},
     "output_type": "execute_result"
    }
   ],
   "source": [
    "ty_fruits=fruits[1:5:3]\n",
    "ty_fruits"
   ]
  },
  {
   "cell_type": "markdown",
   "id": "ef2fa5ed",
   "metadata": {},
   "source": [
    "### *Concatenate citrus and tropical lists to create a new list called combined. Print combined."
   ]
  },
  {
   "cell_type": "code",
   "execution_count": 23,
   "id": "11824338",
   "metadata": {},
   "outputs": [],
   "source": [
    "combined=citrus+ty_fruits"
   ]
  },
  {
   "cell_type": "code",
   "execution_count": 24,
   "id": "d68b30b2",
   "metadata": {},
   "outputs": [
    {
     "data": {
      "text/plain": [
       "['orange', 'mango', 'banana', 'kiwi']"
      ]
     },
     "execution_count": 24,
     "metadata": {},
     "output_type": "execute_result"
    }
   ],
   "source": [
    "combined"
   ]
  },
  {
   "cell_type": "markdown",
   "id": "e76a52a5",
   "metadata": {},
   "source": [
    "### Task3: Counting and Removing Elements"
   ]
  },
  {
   "cell_type": "markdown",
   "id": "a16e0f03",
   "metadata": {},
   "source": [
    "### *Create a list called colors with repeated elements 'red', 'blue', 'red', 'green', 'red'. Print the number of occurrences of 'red' in the list. Remove all occurrences of 'red' from the list. Print the updated list."
   ]
  },
  {
   "cell_type": "code",
   "execution_count": 48,
   "id": "738fc4c5",
   "metadata": {},
   "outputs": [
    {
     "data": {
      "text/plain": [
       "3"
      ]
     },
     "execution_count": 48,
     "metadata": {},
     "output_type": "execute_result"
    }
   ],
   "source": [
    "colors=[\"red\",\"blue\",\"red\",\"green\",\"red\"]\n",
    "colors.count(\"red\")"
   ]
  },
  {
   "cell_type": "code",
   "execution_count": 49,
   "id": "abcb0d45",
   "metadata": {},
   "outputs": [],
   "source": [
    "colors.remove(\"red\")"
   ]
  },
  {
   "cell_type": "code",
   "execution_count": 50,
   "id": "3b3a9458",
   "metadata": {},
   "outputs": [
    {
     "data": {
      "text/plain": [
       "['blue', 'red', 'green', 'red']"
      ]
     },
     "execution_count": 50,
     "metadata": {},
     "output_type": "execute_result"
    }
   ],
   "source": [
    "colors"
   ]
  },
  {
   "cell_type": "code",
   "execution_count": 51,
   "id": "60b8e2c7",
   "metadata": {},
   "outputs": [],
   "source": [
    "colors.remove(\"red\")"
   ]
  },
  {
   "cell_type": "code",
   "execution_count": 52,
   "id": "e6454197",
   "metadata": {},
   "outputs": [
    {
     "data": {
      "text/plain": [
       "['blue', 'green', 'red']"
      ]
     },
     "execution_count": 52,
     "metadata": {},
     "output_type": "execute_result"
    }
   ],
   "source": [
    "colors"
   ]
  },
  {
   "cell_type": "code",
   "execution_count": 53,
   "id": "3d4d2fd7",
   "metadata": {},
   "outputs": [],
   "source": [
    "colors.remove(\"red\")"
   ]
  },
  {
   "cell_type": "code",
   "execution_count": 54,
   "id": "7b54aea6",
   "metadata": {},
   "outputs": [
    {
     "data": {
      "text/plain": [
       "['blue', 'green']"
      ]
     },
     "execution_count": 54,
     "metadata": {},
     "output_type": "execute_result"
    }
   ],
   "source": [
    "colors"
   ]
  },
  {
   "cell_type": "code",
   "execution_count": 33,
   "id": "e06abc46",
   "metadata": {},
   "outputs": [],
   "source": [
    "updated_list=colors"
   ]
  },
  {
   "cell_type": "code",
   "execution_count": 34,
   "id": "b16f9301",
   "metadata": {},
   "outputs": [
    {
     "data": {
      "text/plain": [
       "['blue', 'green']"
      ]
     },
     "execution_count": 34,
     "metadata": {},
     "output_type": "execute_result"
    }
   ],
   "source": [
    "updated_list"
   ]
  },
  {
   "cell_type": "markdown",
   "id": "d591effc",
   "metadata": {},
   "source": [
    "### Task 4: List Manipulation\n",
    "\n"
   ]
  },
  {
   "cell_type": "markdown",
   "id": "526b03e3",
   "metadata": {},
   "source": [
    "### Create a list called groceries with initial items: 'bread', 'milk', 'eggs', 'butter'. Print the final list of groceries."
   ]
  },
  {
   "cell_type": "code",
   "execution_count": 36,
   "id": "91917836",
   "metadata": {},
   "outputs": [],
   "source": [
    "groceires=['bread', 'milk', 'eggs', 'butter']"
   ]
  },
  {
   "cell_type": "code",
   "execution_count": 37,
   "id": "b4622d0a",
   "metadata": {},
   "outputs": [
    {
     "data": {
      "text/plain": [
       "['bread', 'milk', 'eggs', 'butter']"
      ]
     },
     "execution_count": 37,
     "metadata": {},
     "output_type": "execute_result"
    }
   ],
   "source": [
    "groceires"
   ]
  },
  {
   "cell_type": "markdown",
   "id": "a5e7e672",
   "metadata": {},
   "source": [
    "### *Add 'cheese' to the end of the list. Remove 'milk' from the list."
   ]
  },
  {
   "cell_type": "code",
   "execution_count": 40,
   "id": "3ba7c91b",
   "metadata": {},
   "outputs": [],
   "source": [
    "groceires.append('chess')"
   ]
  },
  {
   "cell_type": "code",
   "execution_count": 41,
   "id": "5efd1d8e",
   "metadata": {},
   "outputs": [
    {
     "data": {
      "text/plain": [
       "['bread', 'milk', 'eggs', 'butter', 'chess']"
      ]
     },
     "execution_count": 41,
     "metadata": {},
     "output_type": "execute_result"
    }
   ],
   "source": [
    "groceires"
   ]
  },
  {
   "cell_type": "code",
   "execution_count": 42,
   "id": "9e83395d",
   "metadata": {},
   "outputs": [
    {
     "data": {
      "text/plain": [
       "'milk'"
      ]
     },
     "execution_count": 42,
     "metadata": {},
     "output_type": "execute_result"
    }
   ],
   "source": [
    "groceires.pop(1)"
   ]
  },
  {
   "cell_type": "code",
   "execution_count": 43,
   "id": "28a3ac58",
   "metadata": {},
   "outputs": [
    {
     "data": {
      "text/plain": [
       "['bread', 'eggs', 'butter', 'chess']"
      ]
     },
     "execution_count": 43,
     "metadata": {},
     "output_type": "execute_result"
    }
   ],
   "source": [
    "groceires"
   ]
  },
  {
   "cell_type": "markdown",
   "id": "fc1292e0",
   "metadata": {},
   "source": [
    "### *Insert 'yogurt' at  1 index "
   ]
  },
  {
   "cell_type": "code",
   "execution_count": 45,
   "id": "4d48a6b2",
   "metadata": {},
   "outputs": [],
   "source": [
    "groceires.insert(1,\"yogurt\")"
   ]
  },
  {
   "cell_type": "code",
   "execution_count": 46,
   "id": "be572693",
   "metadata": {},
   "outputs": [
    {
     "data": {
      "text/plain": [
       "['bread', 'yogurt', 'eggs', 'butter', 'chess']"
      ]
     },
     "execution_count": 46,
     "metadata": {},
     "output_type": "execute_result"
    }
   ],
   "source": [
    "groceires"
   ]
  },
  {
   "cell_type": "code",
   "execution_count": null,
   "id": "14347fc9",
   "metadata": {},
   "outputs": [],
   "source": []
  }
 ],
 "metadata": {
  "kernelspec": {
   "display_name": "Python 3 (ipykernel)",
   "language": "python",
   "name": "python3"
  },
  "language_info": {
   "codemirror_mode": {
    "name": "ipython",
    "version": 3
   },
   "file_extension": ".py",
   "mimetype": "text/x-python",
   "name": "python",
   "nbconvert_exporter": "python",
   "pygments_lexer": "ipython3",
   "version": "3.11.4"
  }
 },
 "nbformat": 4,
 "nbformat_minor": 5
}
