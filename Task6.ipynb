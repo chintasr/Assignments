{
 "cells": [
  {
   "cell_type": "markdown",
   "id": "ec8ecbd7",
   "metadata": {},
   "source": [
    "### Assignment Task 1: Tuple Basics Create a Python tuple containing the names of your favorite fruits. Write a Python program to print each fruit name from the tuple."
   ]
  },
  {
   "cell_type": "code",
   "execution_count": 3,
   "id": "ece7ff62",
   "metadata": {},
   "outputs": [
    {
     "data": {
      "text/plain": [
       "('mango', 'orange', 'graphs', 'banana', 'kiwi')"
      ]
     },
     "execution_count": 3,
     "metadata": {},
     "output_type": "execute_result"
    }
   ],
   "source": [
    "fruits=(\"mango\",\"orange\",\"graphs\",\"banana\",\"kiwi\")\n",
    "fruits"
   ]
  },
  {
   "cell_type": "code",
   "execution_count": 4,
   "id": "6853bfa1",
   "metadata": {},
   "outputs": [
    {
     "data": {
      "text/plain": [
       "'mango'"
      ]
     },
     "execution_count": 4,
     "metadata": {},
     "output_type": "execute_result"
    }
   ],
   "source": [
    "fruits[0]"
   ]
  },
  {
   "cell_type": "code",
   "execution_count": 5,
   "id": "069fbe53",
   "metadata": {},
   "outputs": [
    {
     "data": {
      "text/plain": [
       "'orange'"
      ]
     },
     "execution_count": 5,
     "metadata": {},
     "output_type": "execute_result"
    }
   ],
   "source": [
    "fruits[1]"
   ]
  },
  {
   "cell_type": "code",
   "execution_count": 6,
   "id": "7d63b365",
   "metadata": {},
   "outputs": [
    {
     "data": {
      "text/plain": [
       "'graphs'"
      ]
     },
     "execution_count": 6,
     "metadata": {},
     "output_type": "execute_result"
    }
   ],
   "source": [
    "fruits[2]"
   ]
  },
  {
   "cell_type": "code",
   "execution_count": 7,
   "id": "3327011f",
   "metadata": {},
   "outputs": [
    {
     "data": {
      "text/plain": [
       "'banana'"
      ]
     },
     "execution_count": 7,
     "metadata": {},
     "output_type": "execute_result"
    }
   ],
   "source": [
    "fruits[3]"
   ]
  },
  {
   "cell_type": "code",
   "execution_count": 8,
   "id": "5f84fe68",
   "metadata": {},
   "outputs": [
    {
     "data": {
      "text/plain": [
       "'kiwi'"
      ]
     },
     "execution_count": 8,
     "metadata": {},
     "output_type": "execute_result"
    }
   ],
   "source": [
    "fruits[4]"
   ]
  },
  {
   "cell_type": "markdown",
   "id": "c5c7c03e",
   "metadata": {},
   "source": [
    "### Assignment Task 2: Tuple Operations Given two tuples, write a Python program to concatenate them into a single tuple and then find the length of the resulting tuple."
   ]
  },
  {
   "cell_type": "code",
   "execution_count": 9,
   "id": "866c508c",
   "metadata": {},
   "outputs": [],
   "source": [
    "fruits=(\"mango\",\"orange\",\"graphs\",\"banana\",\"kiwi\")\n",
    "veg=(\"potato\",\"brinjal\",\"mirchi\",\"tamoto\",\"bittergurd\")"
   ]
  },
  {
   "cell_type": "code",
   "execution_count": 10,
   "id": "99ce67b7",
   "metadata": {},
   "outputs": [],
   "source": [
    "mix=fruits+veg"
   ]
  },
  {
   "cell_type": "code",
   "execution_count": 11,
   "id": "e0d6b889",
   "metadata": {},
   "outputs": [
    {
     "data": {
      "text/plain": [
       "('mango',\n",
       " 'orange',\n",
       " 'graphs',\n",
       " 'banana',\n",
       " 'kiwi',\n",
       " 'potato',\n",
       " 'brinjal',\n",
       " 'mirchi',\n",
       " 'tamoto',\n",
       " 'bittergurd')"
      ]
     },
     "execution_count": 11,
     "metadata": {},
     "output_type": "execute_result"
    }
   ],
   "source": [
    "mix"
   ]
  },
  {
   "cell_type": "code",
   "execution_count": 12,
   "id": "cdb56250",
   "metadata": {},
   "outputs": [
    {
     "data": {
      "text/plain": [
       "10"
      ]
     },
     "execution_count": 12,
     "metadata": {},
     "output_type": "execute_result"
    }
   ],
   "source": [
    "len(mix)"
   ]
  },
  {
   "cell_type": "markdown",
   "id": "9a9a8dbb",
   "metadata": {},
   "source": [
    "### Assignment Task 3: Set Creation Create a Python set containing the first 10 even numbers (2, 4, 6, ...). Write a program to display this set."
   ]
  },
  {
   "cell_type": "code",
   "execution_count": 13,
   "id": "c9362a04",
   "metadata": {},
   "outputs": [],
   "source": [
    "even_num={2,4,6,8,10,12,14,16,18,20}"
   ]
  },
  {
   "cell_type": "code",
   "execution_count": 14,
   "id": "aa094f75",
   "metadata": {},
   "outputs": [
    {
     "name": "stdout",
     "output_type": "stream",
     "text": [
      "{2, 4, 6, 8, 10, 12, 14, 16, 18, 20}\n"
     ]
    }
   ],
   "source": [
    "print(even_num)"
   ]
  },
  {
   "cell_type": "code",
   "execution_count": 15,
   "id": "0fd60824",
   "metadata": {},
   "outputs": [
    {
     "data": {
      "text/plain": [
       "set"
      ]
     },
     "execution_count": 15,
     "metadata": {},
     "output_type": "execute_result"
    }
   ],
   "source": [
    "type(even_num)"
   ]
  },
  {
   "cell_type": "markdown",
   "id": "e0ec11c8",
   "metadata": {},
   "source": [
    "### Assignment Task 4: Set Operations Given two sets, write a Python program to find the union, intersection, and difference of these sets."
   ]
  },
  {
   "cell_type": "code",
   "execution_count": 16,
   "id": "02239e95",
   "metadata": {},
   "outputs": [],
   "source": [
    "even_num={2,4,6,8,10,12,14,16,18,20}\n",
    "numbers={1,2,3,4,5,6,7,8,9,10}"
   ]
  },
  {
   "cell_type": "code",
   "execution_count": 17,
   "id": "91c9c610",
   "metadata": {},
   "outputs": [
    {
     "data": {
      "text/plain": [
       "{1, 2, 3, 4, 5, 6, 7, 8, 9, 10, 12, 14, 16, 18, 20}"
      ]
     },
     "execution_count": 17,
     "metadata": {},
     "output_type": "execute_result"
    }
   ],
   "source": [
    "even_num.union(numbers)    #union"
   ]
  },
  {
   "cell_type": "code",
   "execution_count": 18,
   "id": "65e9dd3b",
   "metadata": {},
   "outputs": [
    {
     "data": {
      "text/plain": [
       "{1, 2, 3, 4, 5, 6, 7, 8, 9, 10, 12, 14, 16, 18, 20}"
      ]
     },
     "execution_count": 18,
     "metadata": {},
     "output_type": "execute_result"
    }
   ],
   "source": [
    "numbers.union(even_num)"
   ]
  },
  {
   "cell_type": "code",
   "execution_count": 19,
   "id": "6410622e",
   "metadata": {},
   "outputs": [
    {
     "data": {
      "text/plain": [
       "{2, 4, 6, 8, 10}"
      ]
     },
     "execution_count": 19,
     "metadata": {},
     "output_type": "execute_result"
    }
   ],
   "source": [
    "even_num.intersection(numbers)  #intersection"
   ]
  },
  {
   "cell_type": "code",
   "execution_count": 20,
   "id": "94079273",
   "metadata": {},
   "outputs": [
    {
     "data": {
      "text/plain": [
       "{2, 4, 6, 8, 10}"
      ]
     },
     "execution_count": 20,
     "metadata": {},
     "output_type": "execute_result"
    }
   ],
   "source": [
    "numbers.intersection(even_num)"
   ]
  },
  {
   "cell_type": "code",
   "execution_count": 21,
   "id": "59f7d207",
   "metadata": {},
   "outputs": [
    {
     "data": {
      "text/plain": [
       "{12, 14, 16, 18, 20}"
      ]
     },
     "execution_count": 21,
     "metadata": {},
     "output_type": "execute_result"
    }
   ],
   "source": [
    "even_num.difference(numbers)   #difference"
   ]
  },
  {
   "cell_type": "code",
   "execution_count": 22,
   "id": "c10935e8",
   "metadata": {},
   "outputs": [
    {
     "data": {
      "text/plain": [
       "{1, 3, 5, 7, 9}"
      ]
     },
     "execution_count": 22,
     "metadata": {},
     "output_type": "execute_result"
    }
   ],
   "source": [
    "numbers.difference(even_num)"
   ]
  },
  {
   "cell_type": "markdown",
   "id": "245368ad",
   "metadata": {},
   "source": [
    "### Assignment Task 5: Tuple and Set Conversion Write a Python program that takes a tuple of integers and converts it into a set. Then, find and print the maximum and minimum values from the set."
   ]
  },
  {
   "cell_type": "code",
   "execution_count": 3,
   "id": "ab5c3680",
   "metadata": {},
   "outputs": [
    {
     "data": {
      "text/plain": [
       "(1, 4, 7, 9, 12, 31, 45)"
      ]
     },
     "execution_count": 3,
     "metadata": {},
     "output_type": "execute_result"
    }
   ],
   "source": [
    "integers=(1,4,7,9,12,31,45)\n",
    "integers"
   ]
  },
  {
   "cell_type": "code",
   "execution_count": 4,
   "id": "1e78aa50",
   "metadata": {},
   "outputs": [],
   "source": [
    "s=set(integers)"
   ]
  },
  {
   "cell_type": "code",
   "execution_count": 5,
   "id": "fbc8021e",
   "metadata": {},
   "outputs": [
    {
     "data": {
      "text/plain": [
       "{1, 4, 7, 9, 12, 31, 45}"
      ]
     },
     "execution_count": 5,
     "metadata": {},
     "output_type": "execute_result"
    }
   ],
   "source": [
    "s"
   ]
  },
  {
   "cell_type": "code",
   "execution_count": 6,
   "id": "96e61794",
   "metadata": {},
   "outputs": [
    {
     "data": {
      "text/plain": [
       "45"
      ]
     },
     "execution_count": 6,
     "metadata": {},
     "output_type": "execute_result"
    }
   ],
   "source": [
    "max(s) "
   ]
  },
  {
   "cell_type": "code",
   "execution_count": 7,
   "id": "02b58e6e",
   "metadata": {},
   "outputs": [
    {
     "data": {
      "text/plain": [
       "1"
      ]
     },
     "execution_count": 7,
     "metadata": {},
     "output_type": "execute_result"
    }
   ],
   "source": [
    "min(s)  "
   ]
  },
  {
   "cell_type": "markdown",
   "id": "6757baed",
   "metadata": {},
   "source": [
    "### Assignment Task 6: Tuple Immutability Explain the concept of immutability in Python tuples with examples. Discuss why tuples are considered immutable data structures."
   ]
  },
  {
   "cell_type": "markdown",
   "id": "ab9bde06",
   "metadata": {},
   "source": [
    "### immutable"
   ]
  },
  {
   "cell_type": "raw",
   "id": "f2f2cb3a",
   "metadata": {},
   "source": [
    "*we cannot change the given values because\n",
    "we cannot add values.\n",
    "*because of immutablity in tuple we do not have methods"
   ]
  },
  {
   "cell_type": "code",
   "execution_count": 33,
   "id": "85e978be",
   "metadata": {},
   "outputs": [
    {
     "data": {
      "text/plain": [
       "('father', 'mother', 'brother', 'sister', 'uncle')"
      ]
     },
     "execution_count": 33,
     "metadata": {},
     "output_type": "execute_result"
    }
   ],
   "source": [
    "relations=(\"father\",\"mother\",\"brother\",\"sister\",\"uncle\")\n",
    "relations    "
   ]
  },
  {
   "cell_type": "code",
   "execution_count": 34,
   "id": "2ea60d09",
   "metadata": {},
   "outputs": [
    {
     "ename": "AttributeError",
     "evalue": "'tuple' object has no attribute 'append'",
     "output_type": "error",
     "traceback": [
      "\u001b[1;31m---------------------------------------------------------------------------\u001b[0m",
      "\u001b[1;31mAttributeError\u001b[0m                            Traceback (most recent call last)",
      "Cell \u001b[1;32mIn[34], line 1\u001b[0m\n\u001b[1;32m----> 1\u001b[0m relations\u001b[38;5;241m.\u001b[39mappend(\u001b[38;5;124m\"\u001b[39m\u001b[38;5;124maunty\u001b[39m\u001b[38;5;124m\"\u001b[39m)\n",
      "\u001b[1;31mAttributeError\u001b[0m: 'tuple' object has no attribute 'append'"
     ]
    }
   ],
   "source": [
    "relations.append(\"aunty\")  #immutability_we cannot made changes"
   ]
  },
  {
   "cell_type": "markdown",
   "id": "e420dba7",
   "metadata": {},
   "source": [
    "### Assignment Task 7: Set Operations and Methods Write a Python program that takes a set of numbers and performs the following operations:"
   ]
  },
  {
   "cell_type": "code",
   "execution_count": 2,
   "id": "7cc969ab",
   "metadata": {},
   "outputs": [
    {
     "data": {
      "text/plain": [
       "{1, 2, 7, 9, 10, 13, 15, 25}"
      ]
     },
     "execution_count": 2,
     "metadata": {},
     "output_type": "execute_result"
    }
   ],
   "source": [
    "numbers={2,1,7,9,10,25,15,13}\n",
    "numbers"
   ]
  },
  {
   "cell_type": "markdown",
   "id": "29b160e2",
   "metadata": {},
   "source": [
    "#### Add a new number to the set."
   ]
  },
  {
   "cell_type": "code",
   "execution_count": 3,
   "id": "f4675624",
   "metadata": {},
   "outputs": [],
   "source": [
    "numbers.add(17)"
   ]
  },
  {
   "cell_type": "code",
   "execution_count": 4,
   "id": "672e709b",
   "metadata": {},
   "outputs": [
    {
     "data": {
      "text/plain": [
       "{1, 2, 7, 9, 10, 13, 15, 17, 25}"
      ]
     },
     "execution_count": 4,
     "metadata": {},
     "output_type": "execute_result"
    }
   ],
   "source": [
    "numbers"
   ]
  },
  {
   "cell_type": "markdown",
   "id": "705af3ee",
   "metadata": {},
   "source": [
    "#### Remove a number from the set"
   ]
  },
  {
   "cell_type": "code",
   "execution_count": 5,
   "id": "f9883afe",
   "metadata": {},
   "outputs": [],
   "source": [
    "numbers.discard(9)"
   ]
  },
  {
   "cell_type": "code",
   "execution_count": 6,
   "id": "5a0a3ae6",
   "metadata": {},
   "outputs": [
    {
     "data": {
      "text/plain": [
       "{1, 2, 7, 10, 13, 15, 17, 25}"
      ]
     },
     "execution_count": 6,
     "metadata": {},
     "output_type": "execute_result"
    }
   ],
   "source": [
    "numbers"
   ]
  },
  {
   "cell_type": "markdown",
   "id": "7d29101c",
   "metadata": {},
   "source": [
    "#### Check if a specific number is in the set."
   ]
  },
  {
   "cell_type": "code",
   "execution_count": 12,
   "id": "d04d6335",
   "metadata": {},
   "outputs": [
    {
     "data": {
      "text/plain": [
       "True"
      ]
     },
     "execution_count": 12,
     "metadata": {},
     "output_type": "execute_result"
    }
   ],
   "source": [
    "10 in numbers"
   ]
  },
  {
   "cell_type": "markdown",
   "id": "3bc5fb71",
   "metadata": {},
   "source": [
    "#### Find the size of the set.\n"
   ]
  },
  {
   "cell_type": "code",
   "execution_count": 14,
   "id": "1234029d",
   "metadata": {},
   "outputs": [
    {
     "data": {
      "text/plain": [
       "8"
      ]
     },
     "execution_count": 14,
     "metadata": {},
     "output_type": "execute_result"
    }
   ],
   "source": [
    "len(numbers)"
   ]
  },
  {
   "cell_type": "markdown",
   "id": "ff64adc7",
   "metadata": {},
   "source": [
    "### Assignment Task 8: Tuple Slicing Given a tuple of 10 elements, write a Python program to print the elements from the 3rd to the 7thposition using slicing"
   ]
  },
  {
   "cell_type": "code",
   "execution_count": 15,
   "id": "3d5e199a",
   "metadata": {},
   "outputs": [
    {
     "data": {
      "text/plain": [
       "10"
      ]
     },
     "execution_count": 15,
     "metadata": {},
     "output_type": "execute_result"
    }
   ],
   "source": [
    "elements=(2,3,15,25,100,36,900,16,400,200)\n",
    "len(elements)"
   ]
  },
  {
   "cell_type": "code",
   "execution_count": 20,
   "id": "8d6fdb94",
   "metadata": {},
   "outputs": [],
   "source": [
    "n=list(elements)"
   ]
  },
  {
   "cell_type": "code",
   "execution_count": 21,
   "id": "f3c0e369",
   "metadata": {},
   "outputs": [
    {
     "data": {
      "text/plain": [
       "[2, 3, 15, 25, 100, 36, 900, 16, 400, 200]"
      ]
     },
     "execution_count": 21,
     "metadata": {},
     "output_type": "execute_result"
    }
   ],
   "source": [
    "n"
   ]
  },
  {
   "cell_type": "code",
   "execution_count": 24,
   "id": "a791d05e",
   "metadata": {},
   "outputs": [
    {
     "data": {
      "text/plain": [
       "[25, 100, 36, 900, 16]"
      ]
     },
     "execution_count": 24,
     "metadata": {},
     "output_type": "execute_result"
    }
   ],
   "source": [
    "n[3:8]"
   ]
  },
  {
   "cell_type": "markdown",
   "id": "58e69e29",
   "metadata": {},
   "source": [
    "### Assignment Task 9: Set Operations with Lists Create a Python list with duplicate elements and convert it into a set to remove duplicates. Then, write a program to count how many duplicates were removed.\n",
    "\n"
   ]
  },
  {
   "cell_type": "code",
   "execution_count": 27,
   "id": "69f508d8",
   "metadata": {},
   "outputs": [],
   "source": [
    "colors=[\"red\",\"blue\",\"green\",\"black\",\"red\",\"green\",\"white\"]"
   ]
  },
  {
   "cell_type": "code",
   "execution_count": 28,
   "id": "b157263a",
   "metadata": {},
   "outputs": [
    {
     "data": {
      "text/plain": [
       "['red', 'blue', 'green', 'black', 'red', 'green', 'white']"
      ]
     },
     "execution_count": 28,
     "metadata": {},
     "output_type": "execute_result"
    }
   ],
   "source": [
    "colors"
   ]
  },
  {
   "cell_type": "code",
   "execution_count": 30,
   "id": "ce8d9270",
   "metadata": {},
   "outputs": [],
   "source": [
    "c=set(colors)"
   ]
  },
  {
   "cell_type": "code",
   "execution_count": 31,
   "id": "1a6e7922",
   "metadata": {},
   "outputs": [
    {
     "data": {
      "text/plain": [
       "{'black', 'blue', 'green', 'red', 'white'}"
      ]
     },
     "execution_count": 31,
     "metadata": {},
     "output_type": "execute_result"
    }
   ],
   "source": [
    "c"
   ]
  },
  {
   "cell_type": "markdown",
   "id": "2ad7b00a",
   "metadata": {},
   "source": [
    "### Assignment Task 10: Tuple and Set Combinations Create a tuple containing the names of your friend's favorite movies and a set containing the names of your favorite movies. Write a Python program to find and display common elements (movies that feature your"
   ]
  },
  {
   "cell_type": "code",
   "execution_count": 39,
   "id": "686ae02b",
   "metadata": {},
   "outputs": [
    {
     "data": {
      "text/plain": [
       "('raja', 'moorari', 'D', 'kushi')"
      ]
     },
     "execution_count": 39,
     "metadata": {},
     "output_type": "execute_result"
    }
   ],
   "source": [
    "fri_fav=(\"raja\",\"moorari\",\"D\",\"kushi\")\n",
    "my_fav={\"kartikaya\",\"mr\",\"spider\",\"raja\"}\n",
    "fri_fav"
   ]
  },
  {
   "cell_type": "code",
   "execution_count": 40,
   "id": "a28ac6df",
   "metadata": {},
   "outputs": [
    {
     "data": {
      "text/plain": [
       "{'kartikaya', 'mr', 'raja', 'spider'}"
      ]
     },
     "execution_count": 40,
     "metadata": {},
     "output_type": "execute_result"
    }
   ],
   "source": [
    "my_fav"
   ]
  },
  {
   "cell_type": "code",
   "execution_count": 43,
   "id": "cd8beefd",
   "metadata": {},
   "outputs": [],
   "source": [
    "movies=set(fri_fav)"
   ]
  },
  {
   "cell_type": "code",
   "execution_count": 44,
   "id": "772d920e",
   "metadata": {},
   "outputs": [
    {
     "data": {
      "text/plain": [
       "{'D', 'kushi', 'moorari', 'raja'}"
      ]
     },
     "execution_count": 44,
     "metadata": {},
     "output_type": "execute_result"
    }
   ],
   "source": [
    "movies"
   ]
  },
  {
   "cell_type": "code",
   "execution_count": 47,
   "id": "b2bff16b",
   "metadata": {},
   "outputs": [
    {
     "data": {
      "text/plain": [
       "{'raja'}"
      ]
     },
     "execution_count": 47,
     "metadata": {},
     "output_type": "execute_result"
    }
   ],
   "source": [
    "my_fav.intersection(movies)"
   ]
  }
 ],
 "metadata": {
  "kernelspec": {
   "display_name": "Python 3 (ipykernel)",
   "language": "python",
   "name": "python3"
  },
  "language_info": {
   "codemirror_mode": {
    "name": "ipython",
    "version": 3
   },
   "file_extension": ".py",
   "mimetype": "text/x-python",
   "name": "python",
   "nbconvert_exporter": "python",
   "pygments_lexer": "ipython3",
   "version": "3.11.4"
  }
 },
 "nbformat": 4,
 "nbformat_minor": 5
}
