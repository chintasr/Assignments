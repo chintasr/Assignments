{
 "cells": [
  {
   "cell_type": "markdown",
   "id": "aecc6bc8",
   "metadata": {},
   "source": [
    "### Task 1: Dictionary Basics Create a Python program that defines a dictionary to store information about your favorite book. Include the title, author, publication year, and genre as key-value pairs. Print out the dictionary.and do atleast 5 dictionary methods on it."
   ]
  },
  {
   "cell_type": "code",
   "execution_count": 6,
   "id": "819fc019",
   "metadata": {},
   "outputs": [],
   "source": [
    "book={'tittle':\"basic python\",'author':\"guido van rossum\",'publicationyear':'1994'}  # 1st method"
   ]
  },
  {
   "cell_type": "code",
   "execution_count": 8,
   "id": "adb35c21",
   "metadata": {},
   "outputs": [
    {
     "name": "stdout",
     "output_type": "stream",
     "text": [
      "{'tittle': 'basic python', 'author': 'guido van rossum', 'publicationyear': '1994'}\n"
     ]
    }
   ],
   "source": [
    "print(book)"
   ]
  },
  {
   "cell_type": "code",
   "execution_count": 25,
   "id": "2b493479",
   "metadata": {},
   "outputs": [
    {
     "data": {
      "text/plain": [
       "'guido van rossum'"
      ]
     },
     "execution_count": 25,
     "metadata": {},
     "output_type": "execute_result"
    }
   ],
   "source": [
    "book.get('author')"
   ]
  },
  {
   "cell_type": "code",
   "execution_count": 26,
   "id": "c231561e",
   "metadata": {},
   "outputs": [
    {
     "data": {
      "text/plain": [
       "dict_keys(['tittle', 'author', 'publicationyear'])"
      ]
     },
     "execution_count": 26,
     "metadata": {},
     "output_type": "execute_result"
    }
   ],
   "source": [
    "book.keys()"
   ]
  },
  {
   "cell_type": "code",
   "execution_count": 27,
   "id": "a46ca831",
   "metadata": {},
   "outputs": [
    {
     "data": {
      "text/plain": [
       "dict_values(['basic python', 'guido van rossum', '1994'])"
      ]
     },
     "execution_count": 27,
     "metadata": {},
     "output_type": "execute_result"
    }
   ],
   "source": [
    "book.values()"
   ]
  },
  {
   "cell_type": "code",
   "execution_count": 28,
   "id": "5f208cfe",
   "metadata": {},
   "outputs": [
    {
     "data": {
      "text/plain": [
       "'basic python'"
      ]
     },
     "execution_count": 28,
     "metadata": {},
     "output_type": "execute_result"
    }
   ],
   "source": [
    "book.pop(\"tittle\")"
   ]
  },
  {
   "cell_type": "code",
   "execution_count": 29,
   "id": "dd2e11a8",
   "metadata": {},
   "outputs": [
    {
     "data": {
      "text/plain": [
       "{'author': 'guido van rossum', 'publicationyear': '1994'}"
      ]
     },
     "execution_count": 29,
     "metadata": {},
     "output_type": "execute_result"
    }
   ],
   "source": [
    "book"
   ]
  },
  {
   "cell_type": "code",
   "execution_count": 30,
   "id": "b6804abb",
   "metadata": {},
   "outputs": [],
   "source": [
    "book.clear()"
   ]
  },
  {
   "cell_type": "code",
   "execution_count": 31,
   "id": "f14616a6",
   "metadata": {},
   "outputs": [
    {
     "data": {
      "text/plain": [
       "{}"
      ]
     },
     "execution_count": 31,
     "metadata": {},
     "output_type": "execute_result"
    }
   ],
   "source": [
    "book"
   ]
  },
  {
   "cell_type": "markdown",
   "id": "534e0cde",
   "metadata": {},
   "source": [
    "### 2.Task 2: Dictionary Lookup Write a Python program that simulates a simple dictionary for translating English words to Spanish. Define a dictionary containing a few English words as keys and their corresponding Spanish translations as values. Allow users to enter an English word, and then display its Spanish translation if it exists in the dictionary.(use google for English to Spanish translator)"
   ]
  },
  {
   "cell_type": "code",
   "execution_count": 37,
   "id": "01aae503",
   "metadata": {},
   "outputs": [],
   "source": [
    "keys={'hii','hello','why','this'}\n",
    "values={'hola','ola','porque','esta'}\n",
    "trans=dict(zip(keys,values))"
   ]
  },
  {
   "cell_type": "code",
   "execution_count": 38,
   "id": "fae914d0",
   "metadata": {},
   "outputs": [
    {
     "name": "stdout",
     "output_type": "stream",
     "text": [
      "{'hello': 'esta', 'why': 'ola', 'hii': 'porque', 'this': 'hola'}\n"
     ]
    }
   ],
   "source": [
    "print(trans)"
   ]
  },
  {
   "cell_type": "markdown",
   "id": "2676219e",
   "metadata": {},
   "source": [
    "### 3.Task 3: Student Grades Create a Python program that stores the grades of five students in a dictionary. Allow users to input the names of the students and their respective grades. Calculate and display the average grade of the students."
   ]
  },
  {
   "cell_type": "code",
   "execution_count": 66,
   "id": "e06beba2",
   "metadata": {},
   "outputs": [],
   "source": [
    "grades=[90,45,60,85,70]\n",
    "names=['raja','rani','vani','suri','san']\n",
    "stu=dict(zip(grades,names))"
   ]
  },
  {
   "cell_type": "code",
   "execution_count": 67,
   "id": "5fc04d69",
   "metadata": {},
   "outputs": [
    {
     "data": {
      "text/plain": [
       "{90: 'raja', 45: 'rani', 60: 'vani', 85: 'suri', 70: 'san'}"
      ]
     },
     "execution_count": 67,
     "metadata": {},
     "output_type": "execute_result"
    }
   ],
   "source": [
    "stu"
   ]
  },
  {
   "cell_type": "code",
   "execution_count": 68,
   "id": "1ae5f357",
   "metadata": {},
   "outputs": [],
   "source": [
    "s=sum(grades)"
   ]
  },
  {
   "cell_type": "code",
   "execution_count": 69,
   "id": "2a6a844b",
   "metadata": {},
   "outputs": [
    {
     "data": {
      "text/plain": [
       "350"
      ]
     },
     "execution_count": 69,
     "metadata": {},
     "output_type": "execute_result"
    }
   ],
   "source": [
    "s"
   ]
  },
  {
   "cell_type": "code",
   "execution_count": 71,
   "id": "8904bddf",
   "metadata": {},
   "outputs": [],
   "source": [
    "n=len(grades)"
   ]
  },
  {
   "cell_type": "code",
   "execution_count": 72,
   "id": "77bf5bae",
   "metadata": {},
   "outputs": [
    {
     "data": {
      "text/plain": [
       "5"
      ]
     },
     "execution_count": 72,
     "metadata": {},
     "output_type": "execute_result"
    }
   ],
   "source": [
    "n"
   ]
  },
  {
   "cell_type": "code",
   "execution_count": 73,
   "id": "8584e018",
   "metadata": {},
   "outputs": [],
   "source": [
    "avg=s/n"
   ]
  },
  {
   "cell_type": "code",
   "execution_count": 74,
   "id": "e8d38bb4",
   "metadata": {},
   "outputs": [
    {
     "data": {
      "text/plain": [
       "70.0"
      ]
     },
     "execution_count": 74,
     "metadata": {},
     "output_type": "execute_result"
    }
   ],
   "source": [
    "avg"
   ]
  },
  {
   "cell_type": "markdown",
   "id": "39275a08",
   "metadata": {},
   "source": [
    "### 4.Task 4: Contact List Build a basic contact list using a dictionary. Initially, the dictionary can be empty. Allow users to add new contacts with names and phone numbers. Users should also be able to search for contacts by name and display their phone numbers(use in operator)."
   ]
  },
  {
   "cell_type": "code",
   "execution_count": 75,
   "id": "61a8b9f7",
   "metadata": {},
   "outputs": [
    {
     "data": {
      "text/plain": [
       "{}"
      ]
     },
     "execution_count": 75,
     "metadata": {},
     "output_type": "execute_result"
    }
   ],
   "source": [
    "dict={}\n",
    "dict"
   ]
  },
  {
   "cell_type": "code",
   "execution_count": 1,
   "id": "8373426e",
   "metadata": {},
   "outputs": [
    {
     "name": "stdout",
     "output_type": "stream",
     "text": [
      "enter name1:raju\n",
      "enter name2:rani\n",
      "enter name3:san\n",
      "enter name1 no:9912562930\n",
      "enter name2 no:9945672054\n",
      "enter name3 no:7702334512\n"
     ]
    }
   ],
   "source": [
    "n1=input(\"enter name1:\")\n",
    "n2=input(\"enter name2:\")\n",
    "n3=input(\"enter name3:\")\n",
    "p1=input(\"enter name1 no:\")\n",
    "p2=input(\"enter name2 no:\")\n",
    "p3=input(\"enter name3 no:\")\n"
   ]
  },
  {
   "cell_type": "code",
   "execution_count": 7,
   "id": "53d04962",
   "metadata": {},
   "outputs": [],
   "source": [
    "students={'n1':p1,'n2':p2,'n3':p3}"
   ]
  },
  {
   "cell_type": "code",
   "execution_count": 8,
   "id": "7795e745",
   "metadata": {},
   "outputs": [
    {
     "data": {
      "text/plain": [
       "{'n1': '9912562930', 'n2': '9945672054', 'n3': '7702334512'}"
      ]
     },
     "execution_count": 8,
     "metadata": {},
     "output_type": "execute_result"
    }
   ],
   "source": [
    "students"
   ]
  },
  {
   "cell_type": "code",
   "execution_count": 9,
   "id": "4edfa636",
   "metadata": {},
   "outputs": [
    {
     "data": {
      "text/plain": [
       "'9912562930'"
      ]
     },
     "execution_count": 9,
     "metadata": {},
     "output_type": "execute_result"
    }
   ],
   "source": [
    "students.get('n1')"
   ]
  },
  {
   "cell_type": "code",
   "execution_count": 10,
   "id": "fe6d260d",
   "metadata": {},
   "outputs": [
    {
     "data": {
      "text/plain": [
       "'7702334512'"
      ]
     },
     "execution_count": 10,
     "metadata": {},
     "output_type": "execute_result"
    }
   ],
   "source": [
    "students.get('n3')"
   ]
  },
  {
   "cell_type": "markdown",
   "id": "3b9ac03d",
   "metadata": {},
   "source": [
    "### 5.Task 5: Dictionary Iteration Write a Python program that defines a dictionary containing the names of fruits as keys and their corresponding colors as values (e.g., 'apple': 'red').Do atleast 5 dictionary methods on it."
   ]
  },
  {
   "cell_type": "code",
   "execution_count": 13,
   "id": "e10137af",
   "metadata": {},
   "outputs": [
    {
     "name": "stdout",
     "output_type": "stream",
     "text": [
      "{'apple': 'red', 'banana': 'yellow', 'orange': 'oran', 'kiwi': 'green', 'guva': 'green'}\n"
     ]
    }
   ],
   "source": [
    "fruits={\"apple\":\"red\",\"banana\":\"yellow\",\"orange\":\"oran\",\"kiwi\":\"green\",\"guva\":\"green\"}\n",
    "print(fruits)\n"
   ]
  },
  {
   "cell_type": "code",
   "execution_count": 14,
   "id": "69e84bc8",
   "metadata": {},
   "outputs": [
    {
     "data": {
      "text/plain": [
       "'red'"
      ]
     },
     "execution_count": 14,
     "metadata": {},
     "output_type": "execute_result"
    }
   ],
   "source": [
    "fruits.get('apple')"
   ]
  },
  {
   "cell_type": "code",
   "execution_count": 15,
   "id": "5f6c0ff1",
   "metadata": {},
   "outputs": [
    {
     "data": {
      "text/plain": [
       "dict_keys(['apple', 'banana', 'orange', 'kiwi', 'guva'])"
      ]
     },
     "execution_count": 15,
     "metadata": {},
     "output_type": "execute_result"
    }
   ],
   "source": [
    "fruits.keys()"
   ]
  },
  {
   "cell_type": "code",
   "execution_count": 16,
   "id": "30d440ca",
   "metadata": {},
   "outputs": [
    {
     "data": {
      "text/plain": [
       "dict_values(['red', 'yellow', 'oran', 'green', 'green'])"
      ]
     },
     "execution_count": 16,
     "metadata": {},
     "output_type": "execute_result"
    }
   ],
   "source": [
    "fruits.values()"
   ]
  },
  {
   "cell_type": "code",
   "execution_count": 22,
   "id": "453d0116",
   "metadata": {},
   "outputs": [
    {
     "data": {
      "text/plain": [
       "'red'"
      ]
     },
     "execution_count": 22,
     "metadata": {},
     "output_type": "execute_result"
    }
   ],
   "source": [
    "fruits.pop('apple')"
   ]
  },
  {
   "cell_type": "code",
   "execution_count": 23,
   "id": "0694f193",
   "metadata": {},
   "outputs": [
    {
     "data": {
      "text/plain": [
       "{'banana': 'yellow', 'orange': 'oran', 'kiwi': 'green', 'guva': 'green'}"
      ]
     },
     "execution_count": 23,
     "metadata": {},
     "output_type": "execute_result"
    }
   ],
   "source": [
    "fruits"
   ]
  },
  {
   "cell_type": "code",
   "execution_count": 24,
   "id": "2a34cbd0",
   "metadata": {},
   "outputs": [],
   "source": [
    "f=fruits.copy()"
   ]
  },
  {
   "cell_type": "code",
   "execution_count": 25,
   "id": "62d37b25",
   "metadata": {},
   "outputs": [
    {
     "data": {
      "text/plain": [
       "{'banana': 'yellow', 'orange': 'oran', 'kiwi': 'green', 'guva': 'green'}"
      ]
     },
     "execution_count": 25,
     "metadata": {},
     "output_type": "execute_result"
    }
   ],
   "source": [
    "f"
   ]
  },
  {
   "cell_type": "code",
   "execution_count": null,
   "id": "830dfb69",
   "metadata": {},
   "outputs": [],
   "source": []
  }
 ],
 "metadata": {
  "kernelspec": {
   "display_name": "Python 3 (ipykernel)",
   "language": "python",
   "name": "python3"
  },
  "language_info": {
   "codemirror_mode": {
    "name": "ipython",
    "version": 3
   },
   "file_extension": ".py",
   "mimetype": "text/x-python",
   "name": "python",
   "nbconvert_exporter": "python",
   "pygments_lexer": "ipython3",
   "version": "3.11.4"
  }
 },
 "nbformat": 4,
 "nbformat_minor": 5
}
