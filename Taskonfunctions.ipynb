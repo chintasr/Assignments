{
 "cells": [
  {
   "cell_type": "markdown",
   "id": "0405cd80",
   "metadata": {},
   "source": [
    "Task 1: Leap Year Checker\n",
    "\n",
    "Write a program that takes a year as input and determines whether it is a leap year or not. A leap year is a year that is divisible by 4, but not divisible by 100, unless it is also divisible by 400. Display an appropriate message indicating whether the year is a leap year or not.\n",
    "\n",
    "Task 2: Grade Calculator\n",
    "\n",
    "Write a program that takes a student's score as input (out of 100) and determines their grade based on the following conditions: If the score is 90 or above, the grade is 'A'. If the score is between 80 and 89, the grade is 'B'. If the score is between 70 and 79, the grade is 'C'. If the score is between 60 and 69, the grade is 'D'. If the score is below 60, the grade is 'F'. Display the grade corresponding to the entered score.\n",
    "\n",
    "Task 3: Calculator Write a program that takes two numbers as input and performs a mathematical operation (+, -, *, /) based on the user's choice. Use a conditional statement to determine the operation to be performed. Display the result of the calculation.\n",
    "\n",
    "Task 4: Reverse String Write a Python function to reverse a string.\n",
    "\n",
    "Task 5: Palindrome Write a Python function that checks whether a passed string is a palindrome or not.\n",
    "\n",
    "Task 6: Counting Write a Python function that accepts a string and counts the number of upper and lower case letters.\n",
    "\n",
    " "
   ]
  },
  {
   "cell_type": "markdown",
   "id": "0147a450",
   "metadata": {},
   "source": [
    "### Task 1: Leap Year Checker"
   ]
  },
  {
   "cell_type": "markdown",
   "id": "f6aa3e46",
   "metadata": {},
   "source": [
    "### Write a program that takes a year as input and determines whether it is a leap year or not. A leap year is a year that is divisible by 4, but not divisible by 100, unless it is also divisible by 400. Display an appropriate message indicating whether the year is a leap year or not.\n"
   ]
  },
  {
   "cell_type": "code",
   "execution_count": 10,
   "id": "6e323a69",
   "metadata": {},
   "outputs": [
    {
     "name": "stdout",
     "output_type": "stream",
     "text": [
      "enter a year::2023\n",
      "2023 It is not a leap year\n"
     ]
    }
   ],
   "source": [
    "def leapyear(n):\n",
    "    \n",
    "    if (n % 4) == 0 and (n % 400 ==0) or (n % 100 == 0):\n",
    "        print(n,\"It is a leap year\")\n",
    "    else:\n",
    "        print(n,\"It is not a leap year\")\n",
    "    \n",
    "n = int(input(\"enter a year::\"))\n",
    "leapyear(n)"
   ]
  },
  {
   "cell_type": "markdown",
   "id": "06aaf625",
   "metadata": {},
   "source": [
    "### Task 2: Grade Calculator"
   ]
  },
  {
   "cell_type": "markdown",
   "id": "a46f1793",
   "metadata": {},
   "source": [
    "### Write a program that takes a student's score as input (out of 100) and determines their grade based on the following conditions: If the score is 90 or above, the grade is 'A'. If the score is between 80 and 89, the grade is 'B'. If the score is between 70 and 79, the grade is 'C'. If the score is between 60 and 69, the grade is 'D'. If the score is below 60, the grade is 'F'. Display the grade corresponding to the entered score."
   ]
  },
  {
   "cell_type": "code",
   "execution_count": 24,
   "id": "3ff982ab",
   "metadata": {},
   "outputs": [
    {
     "name": "stdout",
     "output_type": "stream",
     "text": [
      "enter a student score::35\n",
      "F\n"
     ]
    }
   ],
   "source": [
    "def marks(n):\n",
    "    \n",
    "    if (score >= 90):\n",
    "        print(\"A\")\n",
    "        \n",
    "    elif (score >= 80) and (score <= 89):\n",
    "        print(\"B\")\n",
    "        \n",
    "    elif (score >= 70) and (score <= 79):  \n",
    "        print(\"C\")\n",
    "        \n",
    "    elif (score >= 60) and (score <= 69): \n",
    "        print(\"D\")\n",
    "        \n",
    "    elif (score < 0) or (score > 100):\n",
    "         print(\"it is not valid score\") \n",
    "            \n",
    "    else:\n",
    "        print(\"F\") \n",
    "        \n",
    "score = int(input(\"enter a student score::\"))\n",
    "marks(n)"
   ]
  },
  {
   "cell_type": "markdown",
   "id": "4f9825dd",
   "metadata": {},
   "source": [
    "### Task 3: Calculator Write a program that takes two numbers as input and performs a mathematical operation (+, -, *, /) based on the user's choice. Use a conditional statement to determine the operation to be performed. Display the result of the calculation."
   ]
  },
  {
   "cell_type": "code",
   "execution_count": 25,
   "id": "105918c2",
   "metadata": {},
   "outputs": [
    {
     "name": "stdout",
     "output_type": "stream",
     "text": [
      "enter a number x::20\n",
      "enter a number y::30\n",
      " + addition,- subtraction,* multiplication,/ division*\n",
      "600 is multiplication of two numbers\n"
     ]
    }
   ],
   "source": [
    "x = int(input(\"enter a number x::\"))\n",
    "y = int(input(\"enter a number y::\"))\n",
    "\n",
    "operation = input(\"\"\" + addition,- subtraction,* multiplication,/ division\"\"\")\n",
    "\n",
    "if (operation == '+'):\n",
    "    print(x+y,\"is addition of two numbers\")\n",
    "    \n",
    "elif (operation == '-'):\n",
    "    print(x-y,\"is subtraction of two numbers\")\n",
    "    \n",
    "elif (operation == '*'):\n",
    "    print(x*y,\"is multiplication of two numbers\")\n",
    "    \n",
    "elif (operation == '/'):\n",
    "    print(x/y,\"is division of two numbers\")\n",
    "    \n",
    "else:\n",
    "    print(\"enter a valid operator\")"
   ]
  },
  {
   "cell_type": "markdown",
   "id": "c332b39a",
   "metadata": {},
   "source": [
    "### Task 4: Reverse String Write a Python function to reverse a string."
   ]
  },
  {
   "cell_type": "code",
   "execution_count": 31,
   "id": "08075768",
   "metadata": {},
   "outputs": [
    {
     "name": "stdout",
     "output_type": "stream",
     "text": [
      "enter a name::sandhya\n"
     ]
    },
    {
     "data": {
      "text/plain": [
       "'ayhdnas'"
      ]
     },
     "execution_count": 31,
     "metadata": {},
     "output_type": "execute_result"
    }
   ],
   "source": [
    "def string(name):\n",
    "    return name[-1: :-1]\n",
    "\n",
    "rever = input(\"enter a name::\")\n",
    "string(rever)"
   ]
  },
  {
   "cell_type": "markdown",
   "id": "509e7e8a",
   "metadata": {},
   "source": [
    "### Task 5: Palindrome Write a Python function that checks whether a passed string is a palindrome or not."
   ]
  },
  {
   "cell_type": "code",
   "execution_count": 26,
   "id": "c3b35bba",
   "metadata": {},
   "outputs": [
    {
     "name": "stdout",
     "output_type": "stream",
     "text": [
      "enter string::rani\n",
      "It is not a palindrome\n"
     ]
    }
   ],
   "source": [
    "def palindrome(name):\n",
    "    \n",
    "    while name:\n",
    "        \n",
    "        if name == name[-1: :-1]:\n",
    "            print(\"It is a plaindrome\")\n",
    "            break\n",
    "            \n",
    "        else:\n",
    "            print(\"It is not a palindrome\")\n",
    "            break\n",
    "            \n",
    "name = input(\"enter string::\")\n",
    "palindrome(name)"
   ]
  },
  {
   "cell_type": "markdown",
   "id": "d1499e2e",
   "metadata": {},
   "source": [
    "### Task 6: Counting Write a Python function that accepts a string and counts the number of upper and lower case letters.\n"
   ]
  },
  {
   "cell_type": "code",
   "execution_count": 12,
   "id": "68ffb96e",
   "metadata": {},
   "outputs": [
    {
     "name": "stdout",
     "output_type": "stream",
     "text": [
      "enter your nick name::SANdhyaRANi\n"
     ]
    }
   ],
   "source": [
    "def up_low(n):\n",
    "    \n",
    "    upper = [\"A\",\"B\",\"C\",\"D\",\"E\",\"F\",\"G\",\"H\",\"I\",\"J\",\"K\",\"L\",\"M\",\"N\",\"O\",\"P\",\"Q\",\"R\",\"S\",\"T\",\"U\",\"V\",\"W\",\"X\",\"Y\",\"Z\"]\n",
    "    up_per = []\n",
    "    lower = [\"a\",\"b\",\"c\",\"d\",\"e\",\"f\",\"g\",\"h\",\"i\",\"j\",\"k\",\"l\",\"m\",\"n\",\"o\",\"p\",\"q\",\"r\",\"s\",\"t\",\"u\",\"v\",\"w\",\"x\",\"y\",\"z\"]\n",
    "    low_er= []\n",
    "    \n",
    "    for i in n:\n",
    "        if i in upper:\n",
    "            up_per.append(i)\n",
    "            \n",
    "        else:\n",
    "            low_er.append(i)\n",
    "        \n",
    "n = input(\"enter your nick name::\")\n",
    "up_low(n)"
   ]
  },
  {
   "cell_type": "code",
   "execution_count": 27,
   "id": "6aa71fda",
   "metadata": {},
   "outputs": [
    {
     "name": "stdout",
     "output_type": "stream",
     "text": [
      "['S', 'A', 'N', 'N', 'I']\n",
      "5\n",
      "['d', 'h', 'y', 'a', 'r', 'a']\n",
      "6\n"
     ]
    }
   ],
   "source": [
    "print(up_per)\n",
    "print(len(up_per))\n",
    "\n",
    "print(low_er)\n",
    "print(len(low_er))"
   ]
  }
 ],
 "metadata": {
  "kernelspec": {
   "display_name": "Python 3 (ipykernel)",
   "language": "python",
   "name": "python3"
  },
  "language_info": {
   "codemirror_mode": {
    "name": "ipython",
    "version": 3
   },
   "file_extension": ".py",
   "mimetype": "text/x-python",
   "name": "python",
   "nbconvert_exporter": "python",
   "pygments_lexer": "ipython3",
   "version": "3.11.4"
  }
 },
 "nbformat": 4,
 "nbformat_minor": 5
}
