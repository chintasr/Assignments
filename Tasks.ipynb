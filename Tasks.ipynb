{
 "cells": [
  {
   "cell_type": "markdown",
   "id": "e8dae4cf",
   "metadata": {},
   "source": [
    "### Take combination of float,interger,string"
   ]
  },
  {
   "cell_type": "code",
   "execution_count": 1,
   "id": "73086996",
   "metadata": {},
   "outputs": [
    {
     "data": {
      "text/plain": [
       "[1, 2, 3, 4.5, 2.3, 'rani', 5, 'manu']"
      ]
     },
     "execution_count": 1,
     "metadata": {},
     "output_type": "execute_result"
    }
   ],
   "source": [
    "list1 = [ 1,2,3,4.5,2.3,\"rani\",5,\"manu\"]    \n",
    "list1"
   ]
  },
  {
   "cell_type": "markdown",
   "id": "4615847e",
   "metadata": {},
   "source": [
    "###  print only float values"
   ]
  },
  {
   "cell_type": "code",
   "execution_count": 3,
   "id": "2f67eed6",
   "metadata": {},
   "outputs": [
    {
     "data": {
      "text/plain": [
       "[4.5, 2.3]"
      ]
     },
     "execution_count": 3,
     "metadata": {},
     "output_type": "execute_result"
    }
   ],
   "source": [
    "def floa(n):\n",
    "    if type(n) == float:\n",
    "        return n\n",
    "list1 = [ 1,2,3,4.5,2.3,\"rani\",5,\"manu\"]    \n",
    "list1  \n",
    "list(filter(floa,list1))"
   ]
  },
  {
   "cell_type": "markdown",
   "id": "827bfd2f",
   "metadata": {},
   "source": [
    "### print only strings"
   ]
  },
  {
   "cell_type": "code",
   "execution_count": 4,
   "id": "330aecbb",
   "metadata": {},
   "outputs": [
    {
     "data": {
      "text/plain": [
       "['rani', 'manu']"
      ]
     },
     "execution_count": 4,
     "metadata": {},
     "output_type": "execute_result"
    }
   ],
   "source": [
    "def string(n):\n",
    "    if type(n) == str:\n",
    "        return n\n",
    "list1 = [ 1,2,3,4.5,2.3,\"rani\",5,\"manu\"]    \n",
    "list1  \n",
    "list(filter(string,list1))"
   ]
  },
  {
   "cell_type": "markdown",
   "id": "439d8a2d",
   "metadata": {},
   "source": [
    "### print only float values"
   ]
  },
  {
   "cell_type": "code",
   "execution_count": 5,
   "id": "5a258dd8",
   "metadata": {},
   "outputs": [
    {
     "data": {
      "text/plain": [
       "[1, 2, 3, 5]"
      ]
     },
     "execution_count": 5,
     "metadata": {},
     "output_type": "execute_result"
    }
   ],
   "source": [
    "def integer(n):\n",
    "    if type(n) == int:\n",
    "        return n\n",
    "list1 = [ 1,2,3,4.5,2.3,\"rani\",5,\"manu\"]    \n",
    "list1  \n",
    "list(filter(integer,list1))"
   ]
  },
  {
   "cell_type": "markdown",
   "id": "e0edaa84",
   "metadata": {},
   "source": [
    "### Replace integer value with a name is called integer nd float value is called float nd string value is called string"
   ]
  },
  {
   "cell_type": "code",
   "execution_count": 6,
   "id": "d9436668",
   "metadata": {},
   "outputs": [
    {
     "data": {
      "text/plain": [
       "[4.5, 2.3]"
      ]
     },
     "execution_count": 6,
     "metadata": {},
     "output_type": "execute_result"
    }
   ],
   "source": [
    "float = list(filter(floa,list1))\n",
    "float"
   ]
  },
  {
   "cell_type": "code",
   "execution_count": 7,
   "id": "e8a52197",
   "metadata": {},
   "outputs": [
    {
     "data": {
      "text/plain": [
       "['rani', 'manu']"
      ]
     },
     "execution_count": 7,
     "metadata": {},
     "output_type": "execute_result"
    }
   ],
   "source": [
    "string = list(filter(string,list1))\n",
    "string"
   ]
  },
  {
   "cell_type": "code",
   "execution_count": 8,
   "id": "618bb110",
   "metadata": {},
   "outputs": [
    {
     "data": {
      "text/plain": [
       "[1, 2, 3, 5]"
      ]
     },
     "execution_count": 8,
     "metadata": {},
     "output_type": "execute_result"
    }
   ],
   "source": [
    "integer = list(filter(integer,list1))\n",
    "integer"
   ]
  },
  {
   "cell_type": "code",
   "execution_count": null,
   "id": "f3674318",
   "metadata": {},
   "outputs": [],
   "source": [
    "Create a lambda function that takes two arguments and returns their sum.\n",
    "Create another lambda function that takes a single argument and returns its square.\n",
    "Use the lambda functions to calculate the sum and square of various numbers and print the results.\n",
    "Define a list of integers.\n",
    "Use the filter function to create a new list that contains only the even numbers from the original list.\n",
    "Use the filter function again to create a new list that contains only numbers greater than 10 from the original list.\n",
    "Print both filtered lists.\n",
    "Define a list of strings where each string represents a number (e.g., [\"1\", \"2\", \"3\"]).\n",
    "Use the map function to convert each string to an integer and store the result in a new list.\n",
    "Use the map function again to square each integer in the new list and store the result in another new list.\n",
    "Print both new lists.\n",
    "Create a list of dictionaries, where each dictionary represents a person with keys \"name\" and \"age\". Example: [{\"name\": \"Alice\", \"age\": 30}, {\"name\": \"Bob\", \"age\": 25}, ...]\n",
    "Use the filter function to create a new list that contains only the people who are older than 25.\n",
    "Use the map function to create a new list that contains the names of the filtered people.\n",
    "Print the list of names.\n",
    "Create a program that reads a list of numbers from the user (you can use the input function for this).\n",
    "Use map and filter functions to perform the following operations:\n",
    "Square each number.\n",
    "Filter out numbers that are not divisible by 3.\n",
    "Print the result.\n"
   ]
  },
  {
   "cell_type": "markdown",
   "id": "8f78659d",
   "metadata": {},
   "source": [
    "### Create a lambda function that takes two arguments and returns their sum."
   ]
  },
  {
   "cell_type": "code",
   "execution_count": 1,
   "id": "0521be0f",
   "metadata": {},
   "outputs": [
    {
     "data": {
      "text/plain": [
       "35"
      ]
     },
     "execution_count": 1,
     "metadata": {},
     "output_type": "execute_result"
    }
   ],
   "source": [
    "sum = lambda x,y: x+y\n",
    "sum(10,25)"
   ]
  },
  {
   "cell_type": "markdown",
   "id": "8897b26c",
   "metadata": {},
   "source": [
    "### Create another lambda function that takes a single argument and returns its square."
   ]
  },
  {
   "cell_type": "code",
   "execution_count": 2,
   "id": "64c81f83",
   "metadata": {},
   "outputs": [
    {
     "data": {
      "text/plain": [
       "81"
      ]
     },
     "execution_count": 2,
     "metadata": {},
     "output_type": "execute_result"
    }
   ],
   "source": [
    "square = lambda n: n**2\n",
    "square(9)"
   ]
  },
  {
   "cell_type": "markdown",
   "id": "dd7029c0",
   "metadata": {},
   "source": [
    "### Use the lambda functions to calculate the sum and square of various numbers and print the results."
   ]
  },
  {
   "cell_type": "code",
   "execution_count": 8,
   "id": "80148ffe",
   "metadata": {},
   "outputs": [
    {
     "data": {
      "text/plain": [
       "12"
      ]
     },
     "execution_count": 8,
     "metadata": {},
     "output_type": "execute_result"
    }
   ],
   "source": [
    "numbers = lambda *n: sum(n) \n",
    "numbers(2,4,6)"
   ]
  },
  {
   "cell_type": "code",
   "execution_count": 2,
   "id": "1ebf26fa",
   "metadata": {},
   "outputs": [
    {
     "data": {
      "text/plain": [
       "36"
      ]
     },
     "execution_count": 2,
     "metadata": {},
     "output_type": "execute_result"
    }
   ],
   "source": [
    "numbers = lambda n: n ** 2\n",
    "numbers(6)"
   ]
  },
  {
   "cell_type": "code",
   "execution_count": 3,
   "id": "80df4bd8",
   "metadata": {},
   "outputs": [
    {
     "data": {
      "text/plain": [
       "144"
      ]
     },
     "execution_count": 3,
     "metadata": {},
     "output_type": "execute_result"
    }
   ],
   "source": [
    "numbers = lambda *n: sum(n)** 2\n",
    "numbers(2,4,6)"
   ]
  },
  {
   "cell_type": "markdown",
   "id": "184bc2b1",
   "metadata": {},
   "source": [
    "### Define a list of integers"
   ]
  },
  {
   "cell_type": "code",
   "execution_count": 13,
   "id": "a7d9e0c1",
   "metadata": {},
   "outputs": [
    {
     "data": {
      "text/plain": [
       "[2, 3, 4, 5, 6, 7, 8, 9, 10, 12, 11, 13, 14]"
      ]
     },
     "execution_count": 13,
     "metadata": {},
     "output_type": "execute_result"
    }
   ],
   "source": [
    "integers = [2,3,4,5,6,7,8,9,10,12,11,13,14]\n",
    "integers"
   ]
  },
  {
   "cell_type": "markdown",
   "id": "a4802d05",
   "metadata": {},
   "source": [
    "### Use the filter function to create a new list that contains only the even numbers from the original list."
   ]
  },
  {
   "cell_type": "code",
   "execution_count": 26,
   "id": "bac12c81",
   "metadata": {},
   "outputs": [],
   "source": [
    "def even(n):\n",
    "    if n % 2 == 0:\n",
    "        return n"
   ]
  },
  {
   "cell_type": "code",
   "execution_count": 27,
   "id": "c902fa30",
   "metadata": {},
   "outputs": [
    {
     "data": {
      "text/plain": [
       "[2, 3, 4, 5, 6, 7, 8, 9, 10, 12, 11, 13, 14]"
      ]
     },
     "execution_count": 27,
     "metadata": {},
     "output_type": "execute_result"
    }
   ],
   "source": [
    "integers = [2,3,4,5,6,7,8,9,10,12,11,13,14]\n",
    "integers       "
   ]
  },
  {
   "cell_type": "code",
   "execution_count": 28,
   "id": "a6f81248",
   "metadata": {},
   "outputs": [
    {
     "data": {
      "text/plain": [
       "[2, 4, 6, 8, 10, 12, 14]"
      ]
     },
     "execution_count": 28,
     "metadata": {},
     "output_type": "execute_result"
    }
   ],
   "source": [
    "even_num = list(filter(even,integers))\n",
    "even_num"
   ]
  },
  {
   "cell_type": "markdown",
   "id": "ccaa18a4",
   "metadata": {},
   "source": [
    "### Use the filter function again to create a new list that contains only numbers greater than 10 from the original list."
   ]
  },
  {
   "cell_type": "code",
   "execution_count": 24,
   "id": "46bc4c0c",
   "metadata": {},
   "outputs": [
    {
     "data": {
      "text/plain": [
       "[12, 11, 13, 14]"
      ]
     },
     "execution_count": 24,
     "metadata": {},
     "output_type": "execute_result"
    }
   ],
   "source": [
    "def even(n):\n",
    "    if n > 10:\n",
    "        return n\n",
    "integers = [2,3,4,5,6,7,8,9,10,12,11,13,14]\n",
    "integers\n",
    "greater = list(filter(even,integers))\n",
    "greater"
   ]
  },
  {
   "cell_type": "markdown",
   "id": "d3e3ea18",
   "metadata": {},
   "source": [
    "### Print both filtered lists."
   ]
  },
  {
   "cell_type": "code",
   "execution_count": 31,
   "id": "f28376b4",
   "metadata": {},
   "outputs": [
    {
     "name": "stdout",
     "output_type": "stream",
     "text": [
      "[2, 4, 6, 8, 10, 12, 14]\n",
      "[12, 11, 13, 14]\n"
     ]
    }
   ],
   "source": [
    "print(even_num)\n",
    "print(greater)"
   ]
  },
  {
   "cell_type": "markdown",
   "id": "00e3e413",
   "metadata": {},
   "source": [
    "### Define a list of strings where each string represents a number (e.g., [\"1\", \"2\", \"3\"])."
   ]
  },
  {
   "cell_type": "code",
   "execution_count": 32,
   "id": "ab9eca91",
   "metadata": {},
   "outputs": [
    {
     "data": {
      "text/plain": [
       "['20', '45', '35', '15', '25', '10']"
      ]
     },
     "execution_count": 32,
     "metadata": {},
     "output_type": "execute_result"
    }
   ],
   "source": [
    "string = [\"20\",\"45\",\"35\",\"15\",\"25\",\"10\"]\n",
    "string"
   ]
  },
  {
   "cell_type": "markdown",
   "id": "0994df4a",
   "metadata": {},
   "source": [
    "### Use the map function to convert each string to an integer and store the result in a new list."
   ]
  },
  {
   "cell_type": "code",
   "execution_count": 44,
   "id": "c59c4bb0",
   "metadata": {},
   "outputs": [],
   "source": [
    "def integer(n):\n",
    "    if type(n) == str:\n",
    "        return n"
   ]
  },
  {
   "cell_type": "code",
   "execution_count": 45,
   "id": "f4e14ce9",
   "metadata": {},
   "outputs": [
    {
     "data": {
      "text/plain": [
       "['20', '45', '35', '15', '25', '10']"
      ]
     },
     "execution_count": 45,
     "metadata": {},
     "output_type": "execute_result"
    }
   ],
   "source": [
    "string1 = [\"20\",\"45\",\"35\",\"15\",\"25\",\"10\"]\n",
    "string1"
   ]
  },
  {
   "cell_type": "code",
   "execution_count": 47,
   "id": "27fc6c03",
   "metadata": {},
   "outputs": [
    {
     "data": {
      "text/plain": [
       "[20, 45, 35, 15, 25, 10]"
      ]
     },
     "execution_count": 47,
     "metadata": {},
     "output_type": "execute_result"
    }
   ],
   "source": [
    "integer = list(map(int,string1))\n",
    "integer"
   ]
  },
  {
   "cell_type": "markdown",
   "id": "cf459c84",
   "metadata": {},
   "source": [
    "### Use the map function again to square each integer in the new list and store the result in another new list."
   ]
  },
  {
   "cell_type": "code",
   "execution_count": 43,
   "id": "583a2277",
   "metadata": {},
   "outputs": [],
   "source": [
    "def square(n):\n",
    "        return n ** 2"
   ]
  },
  {
   "cell_type": "code",
   "execution_count": 49,
   "id": "3086f821",
   "metadata": {},
   "outputs": [
    {
     "name": "stdout",
     "output_type": "stream",
     "text": [
      "[400, 2025, 1225, 225, 625, 100]\n"
     ]
    }
   ],
   "source": [
    "s = list(map(square,integer))\n",
    "print(s)"
   ]
  },
  {
   "cell_type": "markdown",
   "id": "44469fb3",
   "metadata": {},
   "source": [
    "### Print both new lists."
   ]
  },
  {
   "cell_type": "code",
   "execution_count": 50,
   "id": "cd12c657",
   "metadata": {},
   "outputs": [
    {
     "name": "stdout",
     "output_type": "stream",
     "text": [
      "[20, 45, 35, 15, 25, 10]\n",
      "[400, 2025, 1225, 225, 625, 100]\n"
     ]
    }
   ],
   "source": [
    "print(integer)\n",
    "print(s)"
   ]
  },
  {
   "cell_type": "markdown",
   "id": "0a9bfb4e",
   "metadata": {},
   "source": [
    "### Create a list of dictionaries, where each dictionary represents a person with keys \"name\" and \"age\". Example: [{\"name\": \"Alice\", \"age\": 30}, {\"name\": \"Bob\", \"age\": 25}, ...]"
   ]
  },
  {
   "cell_type": "code",
   "execution_count": 66,
   "id": "81b8f24d",
   "metadata": {},
   "outputs": [
    {
     "data": {
      "text/plain": [
       "[{'name': 'manu', 'age': 21},\n",
       " {'name': 'rani', 'age': 20},\n",
       " {'name': 'ravi', 'age': 45}]"
      ]
     },
     "execution_count": 66,
     "metadata": {},
     "output_type": "execute_result"
    }
   ],
   "source": [
    "dictionary = [{\"name\": \"manu\", \"age\": 21}, {\"name\": \"rani\", \"age\": 20},{\"name\": \"ravi\", \"age\": 45}]\n",
    "dictionary"
   ]
  },
  {
   "cell_type": "markdown",
   "id": "379ba58c",
   "metadata": {},
   "source": [
    "### Use the filter function to create a new list that contains only the people who are older than 25."
   ]
  },
  {
   "cell_type": "code",
   "execution_count": 23,
   "id": "ef260a48",
   "metadata": {},
   "outputs": [
    {
     "data": {
      "text/plain": [
       "[{'name': 'ravi', 'age': 45}]"
      ]
     },
     "execution_count": 23,
     "metadata": {},
     "output_type": "execute_result"
    }
   ],
   "source": [
    "def age(dictionary):\n",
    "    if dictionary[\"age\"] > 25:\n",
    "        return age \n",
    "n = list(filter(age,dictionary))\n",
    "n       "
   ]
  },
  {
   "cell_type": "markdown",
   "id": "26ba1e77",
   "metadata": {},
   "source": [
    "### Create a program that reads a list of numbers from the user (you can use the input function for this)."
   ]
  },
  {
   "cell_type": "code",
   "execution_count": 14,
   "id": "5be68012",
   "metadata": {},
   "outputs": [
    {
     "name": "stdout",
     "output_type": "stream",
     "text": [
      "enter numbers::5\n"
     ]
    }
   ],
   "source": [
    "n = int(input(\"enter numbers::\"))\n",
    "list = []\n",
    "for i in range(1,n):\n",
    "     list.append(i)"
   ]
  },
  {
   "cell_type": "code",
   "execution_count": 15,
   "id": "18973b27",
   "metadata": {},
   "outputs": [
    {
     "data": {
      "text/plain": [
       "[1, 2, 3, 4]"
      ]
     },
     "execution_count": 15,
     "metadata": {},
     "output_type": "execute_result"
    }
   ],
   "source": [
    "list"
   ]
  },
  {
   "cell_type": "markdown",
   "id": "682c18c6",
   "metadata": {},
   "source": [
    "## Use map and filter functions to perform the following operations:"
   ]
  },
  {
   "cell_type": "markdown",
   "id": "98613d20",
   "metadata": {},
   "source": [
    "### Square each number."
   ]
  },
  {
   "cell_type": "code",
   "execution_count": 9,
   "id": "4900914b",
   "metadata": {},
   "outputs": [],
   "source": [
    "def square(n):\n",
    "    return n ** 2"
   ]
  },
  {
   "cell_type": "code",
   "execution_count": 10,
   "id": "26fbd0b7",
   "metadata": {},
   "outputs": [
    {
     "data": {
      "text/plain": [
       "[1, 2, 3, 4, 5, 6, 7, 8, 9]"
      ]
     },
     "execution_count": 10,
     "metadata": {},
     "output_type": "execute_result"
    }
   ],
   "source": [
    "list1"
   ]
  },
  {
   "cell_type": "code",
   "execution_count": 12,
   "id": "a1431754",
   "metadata": {},
   "outputs": [
    {
     "data": {
      "text/plain": [
       "[1, 4, 9, 16, 25, 36, 49, 64, 81]"
      ]
     },
     "execution_count": 12,
     "metadata": {},
     "output_type": "execute_result"
    }
   ],
   "source": [
    "list(map(square,list1))"
   ]
  },
  {
   "cell_type": "markdown",
   "id": "130b403c",
   "metadata": {},
   "source": [
    "### Filter out numbers that are not divisible by 3.\n",
    "Print the result."
   ]
  },
  {
   "cell_type": "code",
   "execution_count": 1,
   "id": "a6be94d0",
   "metadata": {},
   "outputs": [
    {
     "name": "stdout",
     "output_type": "stream",
     "text": [
      "enter numbers::10\n"
     ]
    }
   ],
   "source": [
    "n = int(input(\"enter numbers::\"))\n",
    "list1 = []\n",
    "for i in range(1,n):\n",
    "     list1.append(i)"
   ]
  },
  {
   "cell_type": "code",
   "execution_count": 2,
   "id": "ed4b7262",
   "metadata": {},
   "outputs": [
    {
     "data": {
      "text/plain": [
       "[1, 2, 3, 4, 5, 6, 7, 8, 9]"
      ]
     },
     "execution_count": 2,
     "metadata": {},
     "output_type": "execute_result"
    }
   ],
   "source": [
    "list1"
   ]
  },
  {
   "cell_type": "code",
   "execution_count": 7,
   "id": "378bbc9a",
   "metadata": {},
   "outputs": [
    {
     "data": {
      "text/plain": [
       "[1, 2, 4, 5, 7, 8]"
      ]
     },
     "execution_count": 7,
     "metadata": {},
     "output_type": "execute_result"
    }
   ],
   "source": [
    "def number(n):\n",
    "    if n % 3 != 0:\n",
    "        return n\n",
    "list1  \n",
    "list(filter(number,list1))"
   ]
  }
 ],
 "metadata": {
  "kernelspec": {
   "display_name": "Python 3 (ipykernel)",
   "language": "python",
   "name": "python3"
  },
  "language_info": {
   "codemirror_mode": {
    "name": "ipython",
    "version": 3
   },
   "file_extension": ".py",
   "mimetype": "text/x-python",
   "name": "python",
   "nbconvert_exporter": "python",
   "pygments_lexer": "ipython3",
   "version": "3.11.4"
  }
 },
 "nbformat": 4,
 "nbformat_minor": 5
}
