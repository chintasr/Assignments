{
 "cells": [
  {
   "cell_type": "markdown",
   "id": "4c09d918",
   "metadata": {},
   "source": [
    "### TASK1"
   ]
  },
  {
   "cell_type": "markdown",
   "id": "f7473f62",
   "metadata": {},
   "source": [
    "### Load the file 'about_python.txt'into your jupyter notebook. "
   ]
  },
  {
   "cell_type": "code",
   "execution_count": 43,
   "id": "8786503a",
   "metadata": {},
   "outputs": [],
   "source": [
    "file = open(r\"C:\\Users\\LENOVO\\Desktop\\about_python.txt\")"
   ]
  },
  {
   "cell_type": "code",
   "execution_count": 44,
   "id": "9b776126",
   "metadata": {},
   "outputs": [
    {
     "name": "stdout",
     "output_type": "stream",
     "text": [
      "Python supports object-oriented programming (OOP) concepts.\n",
      "Python is a compiled language.\n",
      "Python has a rich ecosystem of third-party libraries.\n",
      "Python is a paid programming language\n",
      "Python uses indentation for code block structuring.\n",
      "Python is statically Typed Language\n",
      "Python only supports double quotes for string literals.\n",
      "Python can only be used for web development.\n",
      "Python was created by Elon Musk.\n"
     ]
    }
   ],
   "source": [
    "features = file.read()\n",
    "print(features)"
   ]
  },
  {
   "cell_type": "markdown",
   "id": "d2932e4f",
   "metadata": {},
   "source": [
    "### a. Correct wrong statements about python fatures "
   ]
  },
  {
   "cell_type": "code",
   "execution_count": 45,
   "id": "fb3c6337",
   "metadata": {},
   "outputs": [
    {
     "name": "stdout",
     "output_type": "stream",
     "text": [
      "Python supports object-oriented programming (OOP) concepts.\n",
      "Python is a interpreted language.\n",
      "Python has a rich ecosystem of third-party libraries.\n",
      "Python is a open source programming language\n",
      "Python uses indentation for code block structuring.\n",
      "Python is dynamic Typed Language\n",
      "Python only supports double nd single quotes for string literals.\n",
      "Python can only be used for web developmet ML and AL.\n",
      "Python was created by Guido van rossum.\n"
     ]
    }
   ],
   "source": [
    "lang = features.replace(\"compiled\",\"interpreted\")\n",
    "source = lag.replace(\"paid\",\"open source\")\n",
    "typ = source.replace(\"statically\",\"dynamic\")\n",
    "quotes = typ.replace(\"double\",\"double nd single\")\n",
    "use = quotes.replace(\"web development\",\"web developmet ML and AL\")\n",
    "created = use.replace(\"Elon Musk\",\"Guido van rossum\")\n",
    "print(created)"
   ]
  },
  {
   "cell_type": "markdown",
   "id": "33bf20d5",
   "metadata": {},
   "source": [
    "### b.How many charactaers present in the data"
   ]
  },
  {
   "cell_type": "code",
   "execution_count": 46,
   "id": "ce517199",
   "metadata": {},
   "outputs": [
    {
     "data": {
      "text/plain": [
       "437"
      ]
     },
     "execution_count": 46,
     "metadata": {},
     "output_type": "execute_result"
    }
   ],
   "source": [
    "len(created)"
   ]
  },
  {
   "cell_type": "markdown",
   "id": "0f47769a",
   "metadata": {},
   "source": [
    "### c. How many times 'Python' word is repeated.  "
   ]
  },
  {
   "cell_type": "code",
   "execution_count": 49,
   "id": "b20efbf9",
   "metadata": {},
   "outputs": [
    {
     "data": {
      "text/plain": [
       "9"
      ]
     },
     "execution_count": 49,
     "metadata": {},
     "output_type": "execute_result"
    }
   ],
   "source": [
    "created.count(\"Python\")"
   ]
  },
  {
   "cell_type": "markdown",
   "id": "e95525d4",
   "metadata": {},
   "source": [
    "### d.print complete valid features of the python"
   ]
  },
  {
   "cell_type": "code",
   "execution_count": 51,
   "id": "b61c46c1",
   "metadata": {},
   "outputs": [
    {
     "name": "stdout",
     "output_type": "stream",
     "text": [
      "Python supports object-oriented programming (OOP) concepts.\n",
      "Python is a interpreted language.\n",
      "Python has a rich ecosystem of third-party libraries.\n",
      "Python is a open source programming language\n",
      "Python uses indentation for code block structuring.\n",
      "Python is dynamic Typed Language\n",
      "Python only supports double nd single quotes for string literals.\n",
      "Python can only be used for web developmet ML and AL.\n",
      "Python was created by Guido van rossum.\n"
     ]
    }
   ],
   "source": [
    "print(created)"
   ]
  },
  {
   "cell_type": "markdown",
   "id": "c02afe6b",
   "metadata": {},
   "source": [
    "### Task 2"
   ]
  },
  {
   "cell_type": "markdown",
   "id": "009f9783",
   "metadata": {},
   "source": [
    "### Create a file 'File.txt'which expalains python file handling whatever you have learnt today(creating,reading,wring and appending...etc) in detail.That reaload the saved file(i.e File.txt) to jupyter notebook."
   ]
  },
  {
   "cell_type": "markdown",
   "id": "cd457022",
   "metadata": {},
   "source": [
    "### creating a file"
   ]
  },
  {
   "cell_type": "code",
   "execution_count": 12,
   "id": "d3508547",
   "metadata": {},
   "outputs": [],
   "source": [
    "file = open('sample.txt','x')  "
   ]
  },
  {
   "cell_type": "markdown",
   "id": "d6e1778f",
   "metadata": {},
   "source": [
    "### reading a file"
   ]
  },
  {
   "cell_type": "code",
   "execution_count": 122,
   "id": "ec50f364",
   "metadata": {},
   "outputs": [],
   "source": [
    "file = open('sample.txt','r')  "
   ]
  },
  {
   "cell_type": "code",
   "execution_count": 123,
   "id": "94ccc3d5",
   "metadata": {},
   "outputs": [
    {
     "name": "stdout",
     "output_type": "stream",
     "text": [
      "Python is a case sensitive \n",
      "interpreted language\n",
      "\n"
     ]
    }
   ],
   "source": [
    "print(file.read())"
   ]
  },
  {
   "cell_type": "code",
   "execution_count": 124,
   "id": "a847486d",
   "metadata": {},
   "outputs": [
    {
     "data": {
      "text/plain": [
       "''"
      ]
     },
     "execution_count": 124,
     "metadata": {},
     "output_type": "execute_result"
    }
   ],
   "source": [
    "file.readline()"
   ]
  },
  {
   "cell_type": "code",
   "execution_count": 126,
   "id": "b703f573",
   "metadata": {},
   "outputs": [
    {
     "name": "stdout",
     "output_type": "stream",
     "text": [
      "[]\n"
     ]
    }
   ],
   "source": [
    "print(file.readlines())"
   ]
  },
  {
   "cell_type": "code",
   "execution_count": 127,
   "id": "657417da",
   "metadata": {},
   "outputs": [
    {
     "data": {
      "text/plain": [
       "49"
      ]
     },
     "execution_count": 127,
     "metadata": {},
     "output_type": "execute_result"
    }
   ],
   "source": [
    "file.tell()"
   ]
  },
  {
   "cell_type": "code",
   "execution_count": 128,
   "id": "1ef23fde",
   "metadata": {},
   "outputs": [
    {
     "data": {
      "text/plain": [
       "10"
      ]
     },
     "execution_count": 128,
     "metadata": {},
     "output_type": "execute_result"
    }
   ],
   "source": [
    "file.seek(10)"
   ]
  },
  {
   "cell_type": "code",
   "execution_count": 129,
   "id": "65495dc0",
   "metadata": {},
   "outputs": [
    {
     "name": "stdout",
     "output_type": "stream",
     "text": [
      "a case sensitive \n",
      "interpreted language\n",
      "\n"
     ]
    }
   ],
   "source": [
    "print(file.read())"
   ]
  },
  {
   "cell_type": "markdown",
   "id": "4ef7e1ea",
   "metadata": {},
   "source": [
    " ### writing a file"
   ]
  },
  {
   "cell_type": "code",
   "execution_count": 137,
   "id": "4e027a69",
   "metadata": {},
   "outputs": [],
   "source": [
    "file = open('sample.txt','w')"
   ]
  },
  {
   "cell_type": "code",
   "execution_count": 136,
   "id": "9dca7a76",
   "metadata": {},
   "outputs": [],
   "source": [
    "file.write(\"we can learn python\\npython was devloped Guido van rossum\")\n",
    "file.close()"
   ]
  },
  {
   "cell_type": "code",
   "execution_count": 138,
   "id": "d3e6e893",
   "metadata": {},
   "outputs": [],
   "source": [
    "file.writelines([\"hii\\nhow are u\"])\n",
    "file.close()"
   ]
  },
  {
   "cell_type": "markdown",
   "id": "67b7a711",
   "metadata": {},
   "source": [
    "### appending a file"
   ]
  },
  {
   "cell_type": "code",
   "execution_count": 140,
   "id": "2e0ee7af",
   "metadata": {},
   "outputs": [],
   "source": [
    "file = open('sample.txt','a')"
   ]
  },
  {
   "cell_type": "code",
   "execution_count": 141,
   "id": "6691d3f9",
   "metadata": {},
   "outputs": [
    {
     "data": {
      "text/plain": [
       "47"
      ]
     },
     "execution_count": 141,
     "metadata": {},
     "output_type": "execute_result"
    }
   ],
   "source": [
    "file.write(\"it is manitory to learn python for data science\")"
   ]
  },
  {
   "cell_type": "code",
   "execution_count": 144,
   "id": "15a10be0",
   "metadata": {},
   "outputs": [],
   "source": [
    "file.close()"
   ]
  },
  {
   "cell_type": "code",
   "execution_count": null,
   "id": "5f7ecfc8",
   "metadata": {},
   "outputs": [],
   "source": []
  }
 ],
 "metadata": {
  "kernelspec": {
   "display_name": "Python 3 (ipykernel)",
   "language": "python",
   "name": "python3"
  },
  "language_info": {
   "codemirror_mode": {
    "name": "ipython",
    "version": 3
   },
   "file_extension": ".py",
   "mimetype": "text/x-python",
   "name": "python",
   "nbconvert_exporter": "python",
   "pygments_lexer": "ipython3",
   "version": "3.11.4"
  }
 },
 "nbformat": 4,
 "nbformat_minor": 5
}
