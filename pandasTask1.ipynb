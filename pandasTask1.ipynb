{
 "cells": [
  {
   "cell_type": "markdown",
   "id": "124527c5",
   "metadata": {},
   "source": [
    "### pandas series"
   ]
  },
  {
   "cell_type": "raw",
   "id": "f07c69b2",
   "metadata": {},
   "source": [
    "1.Create pandas series with different data types in different ways\n",
    "2.Find the attributes of Series of [10,30,40,1,3,6,14,18,23] with index starts from 100\n",
    "3.create salaries of 30 employee salaries randomly from 30000-90000 then measure and describe the data using pandas series.\n",
    "4.What are the similaraties and differences between pandas series and nnumpy array.Prove it with code.\n",
    "5.create pandas series with ranges from 100 to 150 then apply indexing and slicing on it"
   ]
  },
  {
   "cell_type": "code",
   "execution_count": 2,
   "id": "d9ab232a",
   "metadata": {},
   "outputs": [],
   "source": [
    "import pandas as pd"
   ]
  },
  {
   "cell_type": "code",
   "execution_count": 3,
   "id": "b5eca864",
   "metadata": {},
   "outputs": [],
   "source": [
    "import numpy as np"
   ]
  },
  {
   "cell_type": "markdown",
   "id": "baa6254b",
   "metadata": {},
   "source": [
    "### 1.Create pandas series with different data types in different ways"
   ]
  },
  {
   "cell_type": "code",
   "execution_count": 52,
   "id": "62b02ccb",
   "metadata": {},
   "outputs": [
    {
     "data": {
      "text/plain": [
       "0    40.0\n",
       "1    41.0\n",
       "2    42.0\n",
       "3    43.0\n",
       "4    44.0\n",
       "5    45.0\n",
       "6    46.0\n",
       "7    47.0\n",
       "8    48.0\n",
       "9    49.0\n",
       "dtype: float16"
      ]
     },
     "execution_count": 52,
     "metadata": {},
     "output_type": "execute_result"
    }
   ],
   "source": [
    "# list  \n",
    "\n",
    "numbers = list(range(40,50))\n",
    "numbers = pd.Series(numbers,dtype = \"float16\")\n",
    "numbers"
   ]
  },
  {
   "cell_type": "code",
   "execution_count": 57,
   "id": "a10ea6a2",
   "metadata": {},
   "outputs": [
    {
     "data": {
      "text/plain": [
       "0    orange\n",
       "1     mango\n",
       "2     apple\n",
       "3      kiwi\n",
       "dtype: object"
      ]
     },
     "execution_count": 57,
     "metadata": {},
     "output_type": "execute_result"
    }
   ],
   "source": [
    "# tuple\n",
    "\n",
    "fruits = (\"orange\",\"mango\",\"apple\",\"kiwi\")\n",
    "fruits = pd.Series(fruits,dtype = \"object\")\n",
    "fruits"
   ]
  },
  {
   "cell_type": "code",
   "execution_count": 50,
   "id": "43f5e758",
   "metadata": {},
   "outputs": [
    {
     "data": {
      "text/plain": [
       "1     18\n",
       "2     12\n",
       "3     35\n",
       "4     21\n",
       "5     26\n",
       "6     12\n",
       "7     34\n",
       "8     17\n",
       "9     39\n",
       "10    36\n",
       "dtype: int8"
      ]
     },
     "execution_count": 50,
     "metadata": {},
     "output_type": "execute_result"
    }
   ],
   "source": [
    "# array\n",
    "\n",
    "ages = np.random.randint(10,40,10)\n",
    "ages = pd.Series(ages,index = list(range(1,11)),dtype = \"int8\")\n",
    "ages"
   ]
  },
  {
   "cell_type": "code",
   "execution_count": 56,
   "id": "04e0e33e",
   "metadata": {},
   "outputs": [
    {
     "data": {
      "text/plain": [
       "1       jasmin\n",
       "2        lotus\n",
       "3         rose\n",
       "4    whiterose\n",
       "dtype: object"
      ]
     },
     "execution_count": 56,
     "metadata": {},
     "output_type": "execute_result"
    }
   ],
   "source": [
    "# dictionary\n",
    "\n",
    "flowers = {1:\"jasmin\",2:\"lotus\",3:\"rose\",4:\"whiterose\"}\n",
    "flowers = pd.Series(flowers)\n",
    "flowers"
   ]
  },
  {
   "cell_type": "markdown",
   "id": "1e641e65",
   "metadata": {},
   "source": [
    "### 2.Find the attributes of Series of [10,30,40,1,3,6,14,18,23] with index starts from 100"
   ]
  },
  {
   "cell_type": "code",
   "execution_count": 26,
   "id": "7f5f1cde",
   "metadata": {},
   "outputs": [
    {
     "data": {
      "text/plain": [
       "100    10\n",
       "101    30\n",
       "102    40\n",
       "103     1\n",
       "104     3\n",
       "105     6\n",
       "106    14\n",
       "107    18\n",
       "108    23\n",
       "dtype: int8"
      ]
     },
     "execution_count": 26,
     "metadata": {},
     "output_type": "execute_result"
    }
   ],
   "source": [
    "list1 = [10,30,40,1,3,6,14,18,23]\n",
    "list2 = pd.Series(list1,index = list(range(100,109)),dtype = \"int8\")\n",
    "list2"
   ]
  },
  {
   "cell_type": "code",
   "execution_count": 12,
   "id": "e3656db7",
   "metadata": {},
   "outputs": [
    {
     "data": {
      "text/plain": [
       "100    10\n",
       "101    30\n",
       "102    40\n",
       "103     1\n",
       "104     3\n",
       "dtype: int8"
      ]
     },
     "execution_count": 12,
     "metadata": {},
     "output_type": "execute_result"
    }
   ],
   "source": [
    "list2.head()  # by default return first 5 values"
   ]
  },
  {
   "cell_type": "code",
   "execution_count": 13,
   "id": "a0fc21a8",
   "metadata": {},
   "outputs": [
    {
     "data": {
      "text/plain": [
       "104     3\n",
       "105     6\n",
       "106    14\n",
       "107    18\n",
       "108    23\n",
       "dtype: int8"
      ]
     },
     "execution_count": 13,
     "metadata": {},
     "output_type": "execute_result"
    }
   ],
   "source": [
    "list2.tail()  # by default last 5 values"
   ]
  },
  {
   "cell_type": "code",
   "execution_count": 14,
   "id": "5d1c6eef",
   "metadata": {},
   "outputs": [
    {
     "name": "stdout",
     "output_type": "stream",
     "text": [
      "<class 'pandas.core.series.Series'>\n",
      "Int64Index: 9 entries, 100 to 108\n",
      "Series name: None\n",
      "Non-Null Count  Dtype\n",
      "--------------  -----\n",
      "9 non-null      int8 \n",
      "dtypes: int8(1)\n",
      "memory usage: 81.0 bytes\n"
     ]
    }
   ],
   "source": [
    "list2.info()  # it give information of data"
   ]
  },
  {
   "cell_type": "code",
   "execution_count": 15,
   "id": "28a93fd4",
   "metadata": {},
   "outputs": [
    {
     "data": {
      "text/plain": [
       "count     9.000000\n",
       "mean     16.111111\n",
       "std      13.033078\n",
       "min       1.000000\n",
       "25%       6.000000\n",
       "50%      14.000000\n",
       "75%      23.000000\n",
       "max      40.000000\n",
       "dtype: float64"
      ]
     },
     "execution_count": 15,
     "metadata": {},
     "output_type": "execute_result"
    }
   ],
   "source": [
    "list2.describe()  # give all descriptive statistics"
   ]
  },
  {
   "cell_type": "code",
   "execution_count": 17,
   "id": "b7f13d67",
   "metadata": {},
   "outputs": [
    {
     "data": {
      "text/plain": [
       "100    10\n",
       "101    30\n",
       "102    40\n",
       "103     1\n",
       "104     3\n",
       "105     6\n",
       "106    14\n",
       "107    18\n",
       "108    23\n",
       "dtype: int16"
      ]
     },
     "execution_count": 17,
     "metadata": {},
     "output_type": "execute_result"
    }
   ],
   "source": [
    "list2.astype(\"int16\")  # change the data type"
   ]
  },
  {
   "cell_type": "code",
   "execution_count": 19,
   "id": "edac7764",
   "metadata": {},
   "outputs": [
    {
     "data": {
      "text/plain": [
       "9"
      ]
     },
     "execution_count": 19,
     "metadata": {},
     "output_type": "execute_result"
    }
   ],
   "source": [
    "list2.size  # no.of elements"
   ]
  },
  {
   "cell_type": "code",
   "execution_count": 20,
   "id": "b6316024",
   "metadata": {},
   "outputs": [
    {
     "data": {
      "text/plain": [
       "1"
      ]
     },
     "execution_count": 20,
     "metadata": {},
     "output_type": "execute_result"
    }
   ],
   "source": [
    "list2.ndim  # dimension"
   ]
  },
  {
   "cell_type": "code",
   "execution_count": 21,
   "id": "54c5d10b",
   "metadata": {},
   "outputs": [
    {
     "data": {
      "text/plain": [
       "9"
      ]
     },
     "execution_count": 21,
     "metadata": {},
     "output_type": "execute_result"
    }
   ],
   "source": [
    "list2.nbytes  # memory occupied by array"
   ]
  },
  {
   "cell_type": "code",
   "execution_count": 22,
   "id": "748b5949",
   "metadata": {},
   "outputs": [
    {
     "data": {
      "text/plain": [
       "<bound method Series.items of 100    10\n",
       "101    30\n",
       "102    40\n",
       "103     1\n",
       "104     3\n",
       "105     6\n",
       "106    14\n",
       "107    18\n",
       "108    23\n",
       "dtype: int8>"
      ]
     },
     "execution_count": 22,
     "metadata": {},
     "output_type": "execute_result"
    }
   ],
   "source": [
    "list2.items # total items"
   ]
  },
  {
   "cell_type": "markdown",
   "id": "d2c35ab6",
   "metadata": {},
   "source": [
    "### 3.create salaries of 30 employee salaries randomly from 30000-90000 then measure and describe the data using pandas series"
   ]
  },
  {
   "cell_type": "code",
   "execution_count": 19,
   "id": "a17dd4ca",
   "metadata": {},
   "outputs": [
    {
     "data": {
      "text/plain": [
       "array([69712, 61599, 73660, 54224, 54450, 33446, 53816, 33938, 58070,\n",
       "       58239, 30248, 54649, 79574, 88055, 81898, 69182, 72824, 57325,\n",
       "       60291, 35822, 82603, 65035, 63895, 67944, 84003, 56924, 64092,\n",
       "       58355, 81271, 62631])"
      ]
     },
     "execution_count": 19,
     "metadata": {},
     "output_type": "execute_result"
    }
   ],
   "source": [
    "salaries = np.random.randint(30000,90000,30)\n",
    "salaries"
   ]
  },
  {
   "cell_type": "code",
   "execution_count": 8,
   "id": "93624270",
   "metadata": {},
   "outputs": [
    {
     "data": {
      "text/plain": [
       "0     79765\n",
       "1     39242\n",
       "2     85651\n",
       "3     79995\n",
       "4     36063\n",
       "5     67258\n",
       "6     59952\n",
       "7     77072\n",
       "8     33664\n",
       "9     68800\n",
       "10    63680\n",
       "11    51480\n",
       "12    56052\n",
       "13    34932\n",
       "14    58381\n",
       "15    32005\n",
       "16    39882\n",
       "17    84133\n",
       "18    45642\n",
       "19    53649\n",
       "20    51865\n",
       "21    81081\n",
       "22    40262\n",
       "23    41581\n",
       "24    63184\n",
       "25    34250\n",
       "26    80552\n",
       "27    56975\n",
       "28    33525\n",
       "29    62665\n",
       "dtype: int32"
      ]
     },
     "execution_count": 8,
     "metadata": {},
     "output_type": "execute_result"
    }
   ],
   "source": [
    "salary = pd.Series(salaries)\n",
    "salary"
   ]
  },
  {
   "cell_type": "code",
   "execution_count": 9,
   "id": "16009df6",
   "metadata": {},
   "outputs": [
    {
     "data": {
      "text/plain": [
       "56441.26666666667"
      ]
     },
     "execution_count": 9,
     "metadata": {},
     "output_type": "execute_result"
    }
   ],
   "source": [
    "salary.mean()  # mean"
   ]
  },
  {
   "cell_type": "code",
   "execution_count": 10,
   "id": "20e7f4ac",
   "metadata": {},
   "outputs": [
    {
     "data": {
      "text/plain": [
       "56513.5"
      ]
     },
     "execution_count": 10,
     "metadata": {},
     "output_type": "execute_result"
    }
   ],
   "source": [
    "salary.median()  # median --- middle most value"
   ]
  },
  {
   "cell_type": "code",
   "execution_count": 11,
   "id": "9528beff",
   "metadata": {},
   "outputs": [
    {
     "data": {
      "text/plain": [
       "0     32005\n",
       "1     33525\n",
       "2     33664\n",
       "3     34250\n",
       "4     34932\n",
       "5     36063\n",
       "6     39242\n",
       "7     39882\n",
       "8     40262\n",
       "9     41581\n",
       "10    45642\n",
       "11    51480\n",
       "12    51865\n",
       "13    53649\n",
       "14    56052\n",
       "15    56975\n",
       "16    58381\n",
       "17    59952\n",
       "18    62665\n",
       "19    63184\n",
       "20    63680\n",
       "21    67258\n",
       "22    68800\n",
       "23    77072\n",
       "24    79765\n",
       "25    79995\n",
       "26    80552\n",
       "27    81081\n",
       "28    84133\n",
       "29    85651\n",
       "dtype: int32"
      ]
     },
     "execution_count": 11,
     "metadata": {},
     "output_type": "execute_result"
    }
   ],
   "source": [
    "salary.mode()  # mode -- there is no repetitative values"
   ]
  },
  {
   "cell_type": "code",
   "execution_count": 12,
   "id": "ecb2df10",
   "metadata": {},
   "outputs": [
    {
     "data": {
      "text/plain": [
       "85651"
      ]
     },
     "execution_count": 12,
     "metadata": {},
     "output_type": "execute_result"
    }
   ],
   "source": [
    "salary.max()  # maximum value"
   ]
  },
  {
   "cell_type": "code",
   "execution_count": 13,
   "id": "3ad5160f",
   "metadata": {},
   "outputs": [
    {
     "data": {
      "text/plain": [
       "32005"
      ]
     },
     "execution_count": 13,
     "metadata": {},
     "output_type": "execute_result"
    }
   ],
   "source": [
    "salary.min()  # minimum value"
   ]
  },
  {
   "cell_type": "code",
   "execution_count": 14,
   "id": "1635c1b9",
   "metadata": {},
   "outputs": [
    {
     "data": {
      "text/plain": [
       "309993512.4781609"
      ]
     },
     "execution_count": 14,
     "metadata": {},
     "output_type": "execute_result"
    }
   ],
   "source": [
    "salary.var()  # variance"
   ]
  },
  {
   "cell_type": "code",
   "execution_count": 15,
   "id": "71cd6a82",
   "metadata": {},
   "outputs": [
    {
     "data": {
      "text/plain": [
       "17606.632627454943"
      ]
     },
     "execution_count": 15,
     "metadata": {},
     "output_type": "execute_result"
    }
   ],
   "source": [
    "salary.std() # standard deviation"
   ]
  },
  {
   "cell_type": "code",
   "execution_count": 16,
   "id": "0b8d529a",
   "metadata": {},
   "outputs": [
    {
     "data": {
      "text/plain": [
       "39977.0"
      ]
     },
     "execution_count": 16,
     "metadata": {},
     "output_type": "execute_result"
    }
   ],
   "source": [
    "salary.quantile(0.25)  # quantile -- 25"
   ]
  },
  {
   "cell_type": "code",
   "execution_count": 17,
   "id": "d3952077",
   "metadata": {},
   "outputs": [
    {
     "data": {
      "text/plain": [
       "68414.5"
      ]
     },
     "execution_count": 17,
     "metadata": {},
     "output_type": "execute_result"
    }
   ],
   "source": [
    "salary.quantile(0.75)  # quantile --- 75"
   ]
  },
  {
   "cell_type": "markdown",
   "id": "70adfbf5",
   "metadata": {},
   "source": [
    "### 4.What are the similaraties and differences between pandas series and nnumpy array.Prove it with code."
   ]
  },
  {
   "cell_type": "code",
   "execution_count": null,
   "id": "a5efe5b4",
   "metadata": {},
   "outputs": [],
   "source": [
    "series --- index base\n",
    "np.array --- not an indexed based"
   ]
  },
  {
   "cell_type": "code",
   "execution_count": 25,
   "id": "3f728521",
   "metadata": {},
   "outputs": [
    {
     "data": {
      "text/plain": [
       "array([33626, 50922, 75275, 38537, 59961, 73411, 58989, 85644, 36105,\n",
       "       33018, 49746, 58383, 53093, 79057, 31318, 86988, 82340, 70668,\n",
       "       30158, 65071, 64690, 67667, 30411, 68753, 72790, 63897, 51820,\n",
       "       87458, 70183, 81466])"
      ]
     },
     "execution_count": 25,
     "metadata": {},
     "output_type": "execute_result"
    }
   ],
   "source": [
    "salarie = np.random.randint(30000,90000,30)  # np.array ---it doesnot follow index\n",
    "salarie"
   ]
  },
  {
   "cell_type": "code",
   "execution_count": 26,
   "id": "713b50a6",
   "metadata": {},
   "outputs": [
    {
     "data": {
      "text/plain": [
       "0     33626\n",
       "1     50922\n",
       "2     75275\n",
       "3     38537\n",
       "4     59961\n",
       "5     73411\n",
       "6     58989\n",
       "7     85644\n",
       "8     36105\n",
       "9     33018\n",
       "10    49746\n",
       "11    58383\n",
       "12    53093\n",
       "13    79057\n",
       "14    31318\n",
       "15    86988\n",
       "16    82340\n",
       "17    70668\n",
       "18    30158\n",
       "19    65071\n",
       "20    64690\n",
       "21    67667\n",
       "22    30411\n",
       "23    68753\n",
       "24    72790\n",
       "25    63897\n",
       "26    51820\n",
       "27    87458\n",
       "28    70183\n",
       "29    81466\n",
       "dtype: int32"
      ]
     },
     "execution_count": 26,
     "metadata": {},
     "output_type": "execute_result"
    }
   ],
   "source": [
    "salaries = pd.Series(salarie)  # series --- follows index\n",
    "salaries"
   ]
  },
  {
   "cell_type": "markdown",
   "id": "ec11ee49",
   "metadata": {},
   "source": [
    "### 5.create pandas series with ranges from 100 to 150 then apply indexing and slicing on it"
   ]
  },
  {
   "cell_type": "code",
   "execution_count": 32,
   "id": "406eb96f",
   "metadata": {},
   "outputs": [
    {
     "data": {
      "text/plain": [
       "0     100\n",
       "1     101\n",
       "2     102\n",
       "3     103\n",
       "4     104\n",
       "5     105\n",
       "6     106\n",
       "7     107\n",
       "8     108\n",
       "9     109\n",
       "10    110\n",
       "11    111\n",
       "12    112\n",
       "13    113\n",
       "14    114\n",
       "15    115\n",
       "16    116\n",
       "17    117\n",
       "18    118\n",
       "19    119\n",
       "20    120\n",
       "21    121\n",
       "22    122\n",
       "23    123\n",
       "24    124\n",
       "25    125\n",
       "26    126\n",
       "27    127\n",
       "28    128\n",
       "29    129\n",
       "30    130\n",
       "31    131\n",
       "32    132\n",
       "33    133\n",
       "34    134\n",
       "35    135\n",
       "36    136\n",
       "37    137\n",
       "38    138\n",
       "39    139\n",
       "40    140\n",
       "41    141\n",
       "42    142\n",
       "43    143\n",
       "44    144\n",
       "45    145\n",
       "46    146\n",
       "47    147\n",
       "48    148\n",
       "49    149\n",
       "dtype: int64"
      ]
     },
     "execution_count": 32,
     "metadata": {},
     "output_type": "execute_result"
    }
   ],
   "source": [
    "series = list(range(100,150))\n",
    "series = pd.Series(series)\n",
    "series"
   ]
  },
  {
   "cell_type": "code",
   "execution_count": 33,
   "id": "7e76ba9c",
   "metadata": {},
   "outputs": [
    {
     "data": {
      "text/plain": [
       "100"
      ]
     },
     "execution_count": 33,
     "metadata": {},
     "output_type": "execute_result"
    }
   ],
   "source": [
    "series[0]   # indexing"
   ]
  },
  {
   "cell_type": "code",
   "execution_count": 34,
   "id": "495868aa",
   "metadata": {},
   "outputs": [
    {
     "data": {
      "text/plain": [
       "0    100\n",
       "1    101\n",
       "2    102\n",
       "3    103\n",
       "4    104\n",
       "5    105\n",
       "6    106\n",
       "7    107\n",
       "8    108\n",
       "9    109\n",
       "dtype: int64"
      ]
     },
     "execution_count": 34,
     "metadata": {},
     "output_type": "execute_result"
    }
   ],
   "source": [
    "series[0:10] # slicing"
   ]
  },
  {
   "cell_type": "code",
   "execution_count": null,
   "id": "7aa43a05",
   "metadata": {},
   "outputs": [],
   "source": []
  }
 ],
 "metadata": {
  "kernelspec": {
   "display_name": "Python 3 (ipykernel)",
   "language": "python",
   "name": "python3"
  },
  "language_info": {
   "codemirror_mode": {
    "name": "ipython",
    "version": 3
   },
   "file_extension": ".py",
   "mimetype": "text/x-python",
   "name": "python",
   "nbconvert_exporter": "python",
   "pygments_lexer": "ipython3",
   "version": "3.11.4"
  }
 },
 "nbformat": 4,
 "nbformat_minor": 5
}
