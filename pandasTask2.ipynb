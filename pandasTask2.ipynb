{
 "cells": [
  {
   "cell_type": "raw",
   "id": "c79a9e26",
   "metadata": {},
   "source": [
    "1.What are the column names in the Iris dataset?\n",
    "2.How many rows and columns are there in the dataset?\n",
    "3.Can you provide a summary of the dataset, including mean, median, and other statistics for each feature?\n",
    "4.What is the average sepal length?\n",
    "5.what is the largest petal length, and what is its value?\n",
    "6.What is the mean and standard deviation of petal width for the Setosa species?\n",
    "7.Check for missing values in the dataset\n",
    "8.Extract the Species column using loc and iloc method\n",
    "9.Drop sepal Width column\n",
    "10.Get petalwidth 10th value using at and iat"
   ]
  },
  {
   "cell_type": "code",
   "execution_count": 1,
   "id": "fd35bb96",
   "metadata": {},
   "outputs": [],
   "source": [
    "import pandas as pd"
   ]
  },
  {
   "cell_type": "code",
   "execution_count": 2,
   "id": "5f43982a",
   "metadata": {},
   "outputs": [],
   "source": [
    "import numpy as np"
   ]
  },
  {
   "cell_type": "code",
   "execution_count": 69,
   "id": "472e6714",
   "metadata": {},
   "outputs": [
    {
     "data": {
      "text/html": [
       "<div>\n",
       "<style scoped>\n",
       "    .dataframe tbody tr th:only-of-type {\n",
       "        vertical-align: middle;\n",
       "    }\n",
       "\n",
       "    .dataframe tbody tr th {\n",
       "        vertical-align: top;\n",
       "    }\n",
       "\n",
       "    .dataframe thead th {\n",
       "        text-align: right;\n",
       "    }\n",
       "</style>\n",
       "<table border=\"1\" class=\"dataframe\">\n",
       "  <thead>\n",
       "    <tr style=\"text-align: right;\">\n",
       "      <th></th>\n",
       "      <th>Id</th>\n",
       "      <th>SepalLengthCm</th>\n",
       "      <th>SepalWidthCm</th>\n",
       "      <th>PetalLengthCm</th>\n",
       "      <th>PetalWidthCm</th>\n",
       "      <th>Species</th>\n",
       "    </tr>\n",
       "  </thead>\n",
       "  <tbody>\n",
       "    <tr>\n",
       "      <th>0</th>\n",
       "      <td>1</td>\n",
       "      <td>5.1</td>\n",
       "      <td>3.5</td>\n",
       "      <td>1.4</td>\n",
       "      <td>0.2</td>\n",
       "      <td>Iris-setosa</td>\n",
       "    </tr>\n",
       "    <tr>\n",
       "      <th>1</th>\n",
       "      <td>2</td>\n",
       "      <td>4.9</td>\n",
       "      <td>3.0</td>\n",
       "      <td>1.4</td>\n",
       "      <td>0.2</td>\n",
       "      <td>Iris-setosa</td>\n",
       "    </tr>\n",
       "    <tr>\n",
       "      <th>2</th>\n",
       "      <td>3</td>\n",
       "      <td>4.7</td>\n",
       "      <td>3.2</td>\n",
       "      <td>1.3</td>\n",
       "      <td>0.2</td>\n",
       "      <td>Iris-setosa</td>\n",
       "    </tr>\n",
       "    <tr>\n",
       "      <th>3</th>\n",
       "      <td>4</td>\n",
       "      <td>4.6</td>\n",
       "      <td>3.1</td>\n",
       "      <td>1.5</td>\n",
       "      <td>10.2</td>\n",
       "      <td>Iris-setosa</td>\n",
       "    </tr>\n",
       "    <tr>\n",
       "      <th>4</th>\n",
       "      <td>5</td>\n",
       "      <td>50.0</td>\n",
       "      <td>3.6</td>\n",
       "      <td>1.4</td>\n",
       "      <td>0.2</td>\n",
       "      <td>Iris-setosa</td>\n",
       "    </tr>\n",
       "    <tr>\n",
       "      <th>...</th>\n",
       "      <td>...</td>\n",
       "      <td>...</td>\n",
       "      <td>...</td>\n",
       "      <td>...</td>\n",
       "      <td>...</td>\n",
       "      <td>...</td>\n",
       "    </tr>\n",
       "    <tr>\n",
       "      <th>160</th>\n",
       "      <td>161</td>\n",
       "      <td>7.7</td>\n",
       "      <td>2.8</td>\n",
       "      <td>6.7</td>\n",
       "      <td>2.0</td>\n",
       "      <td>NaN</td>\n",
       "    </tr>\n",
       "    <tr>\n",
       "      <th>161</th>\n",
       "      <td>162</td>\n",
       "      <td>6.3</td>\n",
       "      <td>2.7</td>\n",
       "      <td>4.9</td>\n",
       "      <td>1.8</td>\n",
       "      <td>Iris-virginica</td>\n",
       "    </tr>\n",
       "    <tr>\n",
       "      <th>162</th>\n",
       "      <td>163</td>\n",
       "      <td>7.2</td>\n",
       "      <td>3.6</td>\n",
       "      <td>6.1</td>\n",
       "      <td>2.5</td>\n",
       "      <td>Iris-virginica</td>\n",
       "    </tr>\n",
       "    <tr>\n",
       "      <th>163</th>\n",
       "      <td>164</td>\n",
       "      <td>6.5</td>\n",
       "      <td>3.2</td>\n",
       "      <td>5.1</td>\n",
       "      <td>2.0</td>\n",
       "      <td>Iris-virginica</td>\n",
       "    </tr>\n",
       "    <tr>\n",
       "      <th>164</th>\n",
       "      <td>165</td>\n",
       "      <td>6.4</td>\n",
       "      <td>2.7</td>\n",
       "      <td>5.3</td>\n",
       "      <td>1.9</td>\n",
       "      <td>Iris-virginica</td>\n",
       "    </tr>\n",
       "  </tbody>\n",
       "</table>\n",
       "<p>165 rows × 6 columns</p>\n",
       "</div>"
      ],
      "text/plain": [
       "      Id  SepalLengthCm  SepalWidthCm  PetalLengthCm  PetalWidthCm  \\\n",
       "0      1            5.1           3.5            1.4           0.2   \n",
       "1      2            4.9           3.0            1.4           0.2   \n",
       "2      3            4.7           3.2            1.3           0.2   \n",
       "3      4            4.6           3.1            1.5          10.2   \n",
       "4      5           50.0           3.6            1.4           0.2   \n",
       "..   ...            ...           ...            ...           ...   \n",
       "160  161            7.7           2.8            6.7           2.0   \n",
       "161  162            6.3           2.7            4.9           1.8   \n",
       "162  163            7.2           3.6            6.1           2.5   \n",
       "163  164            6.5           3.2            5.1           2.0   \n",
       "164  165            6.4           2.7            5.3           1.9   \n",
       "\n",
       "            Species  \n",
       "0       Iris-setosa  \n",
       "1       Iris-setosa  \n",
       "2       Iris-setosa  \n",
       "3       Iris-setosa  \n",
       "4       Iris-setosa  \n",
       "..              ...  \n",
       "160             NaN  \n",
       "161  Iris-virginica  \n",
       "162  Iris-virginica  \n",
       "163  Iris-virginica  \n",
       "164  Iris-virginica  \n",
       "\n",
       "[165 rows x 6 columns]"
      ]
     },
     "execution_count": 69,
     "metadata": {},
     "output_type": "execute_result"
    }
   ],
   "source": [
    "df = pd.read_excel(r\"C:\\Users\\LENOVO\\Downloads\\Iris_clean.xlsx\")\n",
    "df"
   ]
  },
  {
   "cell_type": "markdown",
   "id": "5c0d6796",
   "metadata": {},
   "source": [
    "### 1.What are the column names in the Iris dataset"
   ]
  },
  {
   "cell_type": "code",
   "execution_count": 70,
   "id": "a63678c7",
   "metadata": {},
   "outputs": [
    {
     "data": {
      "text/plain": [
       "Index(['Id', 'SepalLengthCm', 'SepalWidthCm', 'PetalLengthCm', 'PetalWidthCm',\n",
       "       'Species'],\n",
       "      dtype='object')"
      ]
     },
     "execution_count": 70,
     "metadata": {},
     "output_type": "execute_result"
    }
   ],
   "source": [
    "column_names = df.columns  # column names\n",
    "column_names"
   ]
  },
  {
   "cell_type": "markdown",
   "id": "2d8c9ea5",
   "metadata": {},
   "source": [
    "### 2.How many rows and columns are there in the dataset?"
   ]
  },
  {
   "cell_type": "code",
   "execution_count": 71,
   "id": "3a4a6892",
   "metadata": {},
   "outputs": [
    {
     "name": "stdout",
     "output_type": "stream",
     "text": [
      "(165, 6)\n",
      "165\n",
      "6\n"
     ]
    }
   ],
   "source": [
    "print(df.shape) # rows nd columns\n",
    "\n",
    "print(len(df))  # rows\n",
    "\n",
    "print(len(df.columns))  # columns"
   ]
  },
  {
   "cell_type": "markdown",
   "id": "baf30d76",
   "metadata": {},
   "source": [
    "### 3.Can you provide a summary of the dataset, including mean, median, and other statistics for each feature?"
   ]
  },
  {
   "cell_type": "code",
   "execution_count": 72,
   "id": "abf6d2c6",
   "metadata": {},
   "outputs": [
    {
     "data": {
      "text/html": [
       "<div>\n",
       "<style scoped>\n",
       "    .dataframe tbody tr th:only-of-type {\n",
       "        vertical-align: middle;\n",
       "    }\n",
       "\n",
       "    .dataframe tbody tr th {\n",
       "        vertical-align: top;\n",
       "    }\n",
       "\n",
       "    .dataframe thead th {\n",
       "        text-align: right;\n",
       "    }\n",
       "</style>\n",
       "<table border=\"1\" class=\"dataframe\">\n",
       "  <thead>\n",
       "    <tr style=\"text-align: right;\">\n",
       "      <th></th>\n",
       "      <th>Id</th>\n",
       "      <th>SepalLengthCm</th>\n",
       "      <th>SepalWidthCm</th>\n",
       "      <th>PetalLengthCm</th>\n",
       "      <th>PetalWidthCm</th>\n",
       "    </tr>\n",
       "  </thead>\n",
       "  <tbody>\n",
       "    <tr>\n",
       "      <th>count</th>\n",
       "      <td>165.000000</td>\n",
       "      <td>161.000000</td>\n",
       "      <td>159.000000</td>\n",
       "      <td>159.000000</td>\n",
       "      <td>165.000000</td>\n",
       "    </tr>\n",
       "    <tr>\n",
       "      <th>mean</th>\n",
       "      <td>83.000000</td>\n",
       "      <td>7.510559</td>\n",
       "      <td>4.713208</td>\n",
       "      <td>4.022642</td>\n",
       "      <td>2.810909</td>\n",
       "    </tr>\n",
       "    <tr>\n",
       "      <th>std</th>\n",
       "      <td>47.775517</td>\n",
       "      <td>11.162995</td>\n",
       "      <td>13.468999</td>\n",
       "      <td>2.052505</td>\n",
       "      <td>12.097722</td>\n",
       "    </tr>\n",
       "    <tr>\n",
       "      <th>min</th>\n",
       "      <td>1.000000</td>\n",
       "      <td>4.300000</td>\n",
       "      <td>2.000000</td>\n",
       "      <td>1.000000</td>\n",
       "      <td>0.100000</td>\n",
       "    </tr>\n",
       "    <tr>\n",
       "      <th>25%</th>\n",
       "      <td>42.000000</td>\n",
       "      <td>5.100000</td>\n",
       "      <td>2.800000</td>\n",
       "      <td>1.600000</td>\n",
       "      <td>0.400000</td>\n",
       "    </tr>\n",
       "    <tr>\n",
       "      <th>50%</th>\n",
       "      <td>83.000000</td>\n",
       "      <td>5.800000</td>\n",
       "      <td>3.000000</td>\n",
       "      <td>4.500000</td>\n",
       "      <td>1.500000</td>\n",
       "    </tr>\n",
       "    <tr>\n",
       "      <th>75%</th>\n",
       "      <td>124.000000</td>\n",
       "      <td>6.500000</td>\n",
       "      <td>3.300000</td>\n",
       "      <td>5.150000</td>\n",
       "      <td>1.900000</td>\n",
       "    </tr>\n",
       "    <tr>\n",
       "      <th>max</th>\n",
       "      <td>165.000000</td>\n",
       "      <td>116.300000</td>\n",
       "      <td>130.000000</td>\n",
       "      <td>13.800000</td>\n",
       "      <td>111.100000</td>\n",
       "    </tr>\n",
       "  </tbody>\n",
       "</table>\n",
       "</div>"
      ],
      "text/plain": [
       "               Id  SepalLengthCm  SepalWidthCm  PetalLengthCm  PetalWidthCm\n",
       "count  165.000000     161.000000    159.000000     159.000000    165.000000\n",
       "mean    83.000000       7.510559      4.713208       4.022642      2.810909\n",
       "std     47.775517      11.162995     13.468999       2.052505     12.097722\n",
       "min      1.000000       4.300000      2.000000       1.000000      0.100000\n",
       "25%     42.000000       5.100000      2.800000       1.600000      0.400000\n",
       "50%     83.000000       5.800000      3.000000       4.500000      1.500000\n",
       "75%    124.000000       6.500000      3.300000       5.150000      1.900000\n",
       "max    165.000000     116.300000    130.000000      13.800000    111.100000"
      ]
     },
     "execution_count": 72,
     "metadata": {},
     "output_type": "execute_result"
    }
   ],
   "source": [
    "df.describe()"
   ]
  },
  {
   "cell_type": "markdown",
   "id": "30aaca54",
   "metadata": {},
   "source": [
    "### mean"
   ]
  },
  {
   "cell_type": "code",
   "execution_count": 73,
   "id": "aa268b73",
   "metadata": {},
   "outputs": [
    {
     "name": "stdout",
     "output_type": "stream",
     "text": [
      "7.510559006211181\n",
      "4.713207547169812\n",
      "4.022641509433963\n",
      "2.810909090909091\n"
     ]
    }
   ],
   "source": [
    "SepalLength = df[\"SepalLengthCm\"]  # mean of SepalLengthCm\n",
    "print(SepalLength.mean()) \n",
    "\n",
    "SepalWidth = df[\"SepalWidthCm\"]  # mean of SepalWidthCm\n",
    "print(SepalWidth.mean())\n",
    "\n",
    "PetalLength = df[\"PetalLengthCm\"]  # mean of PetalLengthCm\n",
    "print(PetalLength.mean())\n",
    "\n",
    "PetalWidth = df[\"PetalWidthCm\"]   # mean of PetalWidthCm\n",
    "print(PetalWidth.mean())"
   ]
  },
  {
   "cell_type": "markdown",
   "id": "0904cb6f",
   "metadata": {},
   "source": [
    "### median"
   ]
  },
  {
   "cell_type": "code",
   "execution_count": 74,
   "id": "d8368d2a",
   "metadata": {},
   "outputs": [
    {
     "name": "stdout",
     "output_type": "stream",
     "text": [
      "5.8\n",
      "3.0\n",
      "4.5\n",
      "1.5\n"
     ]
    }
   ],
   "source": [
    "SepalLength = df[\"SepalLengthCm\"]  # median of SepalLengthCm\n",
    "print(SepalLength.median()) \n",
    "\n",
    "SepalWidth = df[\"SepalWidthCm\"]  # median of SepalWidthCm\n",
    "print(SepalWidth.median())\n",
    "\n",
    "PetalLength = df[\"PetalLengthCm\"]  # median of PetalLengthCm\n",
    "print(PetalLength.median())\n",
    "\n",
    "PetalWidth = df[\"PetalWidthCm\"]   # median of PetalWidthCm\n",
    "print(PetalWidth.median())"
   ]
  },
  {
   "cell_type": "markdown",
   "id": "75db26cd",
   "metadata": {},
   "source": [
    "### mode"
   ]
  },
  {
   "cell_type": "code",
   "execution_count": 79,
   "id": "459f4322",
   "metadata": {},
   "outputs": [
    {
     "name": "stdout",
     "output_type": "stream",
     "text": [
      "0    5.0\n",
      "1    5.1\n",
      "2    6.3\n",
      "3    6.7\n",
      "Name: SepalLengthCm, dtype: float64\n",
      "0    3.0\n",
      "Name: SepalWidthCm, dtype: float64\n",
      "0    1.5\n",
      "Name: PetalLengthCm, dtype: float64\n",
      "0    0.2\n",
      "Name: PetalWidthCm, dtype: float64\n"
     ]
    }
   ],
   "source": [
    "SepalLength = df[\"SepalLengthCm\"]  # mean of SepalLengthCm\n",
    "print(SepalLength.mode())\n",
    "\n",
    "SepalWidth = df[\"SepalWidthCm\"]  # mode of SepalWidthCm\n",
    "print(SepalWidth.mode())\n",
    "\n",
    "PetalLength = df[\"PetalLengthCm\"]  # mean of PetalLengthCm\n",
    "print(PetalLength.mode())\n",
    "\n",
    "PetalWidth = df[\"PetalWidthCm\"]   # mean of PetalWidthCm\n",
    "print(PetalWidth.mode())"
   ]
  },
  {
   "cell_type": "code",
   "execution_count": 81,
   "id": "4a483480",
   "metadata": {},
   "outputs": [
    {
     "data": {
      "text/html": [
       "<div>\n",
       "<style scoped>\n",
       "    .dataframe tbody tr th:only-of-type {\n",
       "        vertical-align: middle;\n",
       "    }\n",
       "\n",
       "    .dataframe tbody tr th {\n",
       "        vertical-align: top;\n",
       "    }\n",
       "\n",
       "    .dataframe thead th {\n",
       "        text-align: right;\n",
       "    }\n",
       "</style>\n",
       "<table border=\"1\" class=\"dataframe\">\n",
       "  <thead>\n",
       "    <tr style=\"text-align: right;\">\n",
       "      <th></th>\n",
       "      <th>Id</th>\n",
       "      <th>SepalLengthCm</th>\n",
       "      <th>SepalWidthCm</th>\n",
       "      <th>PetalLengthCm</th>\n",
       "      <th>PetalWidthCm</th>\n",
       "      <th>Species</th>\n",
       "    </tr>\n",
       "  </thead>\n",
       "  <tbody>\n",
       "    <tr>\n",
       "      <th>0</th>\n",
       "      <td>1</td>\n",
       "      <td>5.0</td>\n",
       "      <td>3.0</td>\n",
       "      <td>1.5</td>\n",
       "      <td>0.2</td>\n",
       "      <td>Iris-virginica</td>\n",
       "    </tr>\n",
       "    <tr>\n",
       "      <th>1</th>\n",
       "      <td>2</td>\n",
       "      <td>5.1</td>\n",
       "      <td>NaN</td>\n",
       "      <td>NaN</td>\n",
       "      <td>NaN</td>\n",
       "      <td>NaN</td>\n",
       "    </tr>\n",
       "    <tr>\n",
       "      <th>2</th>\n",
       "      <td>3</td>\n",
       "      <td>6.3</td>\n",
       "      <td>NaN</td>\n",
       "      <td>NaN</td>\n",
       "      <td>NaN</td>\n",
       "      <td>NaN</td>\n",
       "    </tr>\n",
       "    <tr>\n",
       "      <th>3</th>\n",
       "      <td>4</td>\n",
       "      <td>6.7</td>\n",
       "      <td>NaN</td>\n",
       "      <td>NaN</td>\n",
       "      <td>NaN</td>\n",
       "      <td>NaN</td>\n",
       "    </tr>\n",
       "    <tr>\n",
       "      <th>4</th>\n",
       "      <td>5</td>\n",
       "      <td>NaN</td>\n",
       "      <td>NaN</td>\n",
       "      <td>NaN</td>\n",
       "      <td>NaN</td>\n",
       "      <td>NaN</td>\n",
       "    </tr>\n",
       "    <tr>\n",
       "      <th>...</th>\n",
       "      <td>...</td>\n",
       "      <td>...</td>\n",
       "      <td>...</td>\n",
       "      <td>...</td>\n",
       "      <td>...</td>\n",
       "      <td>...</td>\n",
       "    </tr>\n",
       "    <tr>\n",
       "      <th>160</th>\n",
       "      <td>161</td>\n",
       "      <td>NaN</td>\n",
       "      <td>NaN</td>\n",
       "      <td>NaN</td>\n",
       "      <td>NaN</td>\n",
       "      <td>NaN</td>\n",
       "    </tr>\n",
       "    <tr>\n",
       "      <th>161</th>\n",
       "      <td>162</td>\n",
       "      <td>NaN</td>\n",
       "      <td>NaN</td>\n",
       "      <td>NaN</td>\n",
       "      <td>NaN</td>\n",
       "      <td>NaN</td>\n",
       "    </tr>\n",
       "    <tr>\n",
       "      <th>162</th>\n",
       "      <td>163</td>\n",
       "      <td>NaN</td>\n",
       "      <td>NaN</td>\n",
       "      <td>NaN</td>\n",
       "      <td>NaN</td>\n",
       "      <td>NaN</td>\n",
       "    </tr>\n",
       "    <tr>\n",
       "      <th>163</th>\n",
       "      <td>164</td>\n",
       "      <td>NaN</td>\n",
       "      <td>NaN</td>\n",
       "      <td>NaN</td>\n",
       "      <td>NaN</td>\n",
       "      <td>NaN</td>\n",
       "    </tr>\n",
       "    <tr>\n",
       "      <th>164</th>\n",
       "      <td>165</td>\n",
       "      <td>NaN</td>\n",
       "      <td>NaN</td>\n",
       "      <td>NaN</td>\n",
       "      <td>NaN</td>\n",
       "      <td>NaN</td>\n",
       "    </tr>\n",
       "  </tbody>\n",
       "</table>\n",
       "<p>165 rows × 6 columns</p>\n",
       "</div>"
      ],
      "text/plain": [
       "      Id  SepalLengthCm  SepalWidthCm  PetalLengthCm  PetalWidthCm  \\\n",
       "0      1            5.0           3.0            1.5           0.2   \n",
       "1      2            5.1           NaN            NaN           NaN   \n",
       "2      3            6.3           NaN            NaN           NaN   \n",
       "3      4            6.7           NaN            NaN           NaN   \n",
       "4      5            NaN           NaN            NaN           NaN   \n",
       "..   ...            ...           ...            ...           ...   \n",
       "160  161            NaN           NaN            NaN           NaN   \n",
       "161  162            NaN           NaN            NaN           NaN   \n",
       "162  163            NaN           NaN            NaN           NaN   \n",
       "163  164            NaN           NaN            NaN           NaN   \n",
       "164  165            NaN           NaN            NaN           NaN   \n",
       "\n",
       "            Species  \n",
       "0    Iris-virginica  \n",
       "1               NaN  \n",
       "2               NaN  \n",
       "3               NaN  \n",
       "4               NaN  \n",
       "..              ...  \n",
       "160             NaN  \n",
       "161             NaN  \n",
       "162             NaN  \n",
       "163             NaN  \n",
       "164             NaN  \n",
       "\n",
       "[165 rows x 6 columns]"
      ]
     },
     "execution_count": 81,
     "metadata": {},
     "output_type": "execute_result"
    }
   ],
   "source": [
    "df.mode()"
   ]
  },
  {
   "cell_type": "markdown",
   "id": "fa14fa88",
   "metadata": {},
   "source": [
    "### variance"
   ]
  },
  {
   "cell_type": "code",
   "execution_count": 76,
   "id": "1ada6da0",
   "metadata": {},
   "outputs": [
    {
     "name": "stdout",
     "output_type": "stream",
     "text": [
      "124.61245031055907\n",
      "181.41393838070226\n",
      "4.212775256747074\n",
      "146.3548802660753\n"
     ]
    }
   ],
   "source": [
    "SepalLength = df[\"SepalLengthCm\"]  # var of SepalLengthCm\n",
    "print(SepalLength.var()) \n",
    "\n",
    "SepalWidth = df[\"SepalWidthCm\"]  # variance of SepalWidthCm\n",
    "print(SepalWidth.var())\n",
    "\n",
    "PetalLength = df[\"PetalLengthCm\"]  # var of PetalLengthCm\n",
    "print(PetalLength.var())\n",
    "\n",
    "PetalWidth = df[\"PetalWidthCm\"]   # var of PetalWidthCm\n",
    "print(PetalWidth.var())"
   ]
  },
  {
   "cell_type": "markdown",
   "id": "eaab4725",
   "metadata": {},
   "source": [
    "### standard deviation"
   ]
  },
  {
   "cell_type": "code",
   "execution_count": 77,
   "id": "bc96f350",
   "metadata": {},
   "outputs": [
    {
     "name": "stdout",
     "output_type": "stream",
     "text": [
      "11.162994683800537\n",
      "13.468999160320053\n",
      "2.052504630140228\n",
      "12.097722110632038\n"
     ]
    }
   ],
   "source": [
    "SepalLength = df[\"SepalLengthCm\"]  # std of SepalLengthCm\n",
    "print(SepalLength.std()) \n",
    "\n",
    "SepalWidth = df[\"SepalWidthCm\"]  # standard deviation of SepalWidthCm\n",
    "print(SepalWidth.std())\n",
    "\n",
    "PetalLength = df[\"PetalLengthCm\"]  # std of PetalLengthCm\n",
    "print(PetalLength.std())\n",
    "\n",
    "PetalWidth = df[\"PetalWidthCm\"]   # std of PetalWidthCm\n",
    "print(PetalWidth.std())"
   ]
  },
  {
   "cell_type": "markdown",
   "id": "d93b182a",
   "metadata": {},
   "source": [
    "### Range"
   ]
  },
  {
   "cell_type": "code",
   "execution_count": 78,
   "id": "7990964f",
   "metadata": {},
   "outputs": [
    {
     "name": "stdout",
     "output_type": "stream",
     "text": [
      "112.0\n",
      "128.0\n",
      "12.8\n",
      "111.0\n"
     ]
    }
   ],
   "source": [
    "SepalLength = df[\"SepalLengthCm\"]  # Range of SepalLengthCm\n",
    "print(max(SepalLength) - min(SepalLength))\n",
    "\n",
    "SepalWidth = df[\"SepalWidthCm\"]  # Range of SepalWidthCm\n",
    "print(max(SepalWidth) - min(SepalWidth))\n",
    "\n",
    "PetalLength = df[\"PetalLengthCm\"]  # Range of PetalLengthCm\n",
    "print(max(PetalLength) - min(PetalLength))\n",
    "\n",
    "PetalWidth = df[\"PetalWidthCm\"]   # Range of PetalWidthCm\n",
    "print(max(PetalWidth) - min(PetalWidth))"
   ]
  },
  {
   "cell_type": "markdown",
   "id": "6d0609d5",
   "metadata": {},
   "source": [
    "### 4.What is the average sepal length?"
   ]
  },
  {
   "cell_type": "code",
   "execution_count": 34,
   "id": "3d7fd13a",
   "metadata": {},
   "outputs": [
    {
     "data": {
      "text/plain": [
       "7.510559006211181"
      ]
     },
     "execution_count": 34,
     "metadata": {},
     "output_type": "execute_result"
    }
   ],
   "source": [
    "s = df['SepalLengthCm']\n",
    "\n",
    "result = s.mean()  # avg of sepal length\n",
    "result"
   ]
  },
  {
   "cell_type": "markdown",
   "id": "cc75af9f",
   "metadata": {},
   "source": [
    "### 5.what is the largest petal length, and what is its value?"
   ]
  },
  {
   "cell_type": "code",
   "execution_count": 37,
   "id": "ce2b6ce1",
   "metadata": {},
   "outputs": [
    {
     "data": {
      "text/plain": [
       "13.8"
      ]
     },
     "execution_count": 37,
     "metadata": {},
     "output_type": "execute_result"
    }
   ],
   "source": [
    "l = df[\"PetalLengthCm\"]\n",
    "\n",
    "largest = max(l)  # largest petal length\n",
    "largest"
   ]
  },
  {
   "cell_type": "markdown",
   "id": "2020612a",
   "metadata": {},
   "source": [
    "### 6.What is the mean and standard deviation of petal width for the Setosa species?"
   ]
  },
  {
   "cell_type": "code",
   "execution_count": 41,
   "id": "92999561",
   "metadata": {},
   "outputs": [
    {
     "name": "stdout",
     "output_type": "stream",
     "text": [
      "146.3548802660753\n",
      "12.097722110632038\n"
     ]
    }
   ],
   "source": [
    "species = df[\"PetalWidthCm\"]\n",
    "\n",
    "specie = species.var() # variance ---> petal width\n",
    "print(specie)\n",
    "\n",
    "specie = species.std() # standard deviation ---> petal width\n",
    "print(specie)"
   ]
  },
  {
   "cell_type": "markdown",
   "id": "a0bd9de3",
   "metadata": {},
   "source": [
    "### 7.Check for missing values in the dataset"
   ]
  },
  {
   "cell_type": "code",
   "execution_count": 46,
   "id": "d5f28eee",
   "metadata": {},
   "outputs": [
    {
     "data": {
      "text/html": [
       "<div>\n",
       "<style scoped>\n",
       "    .dataframe tbody tr th:only-of-type {\n",
       "        vertical-align: middle;\n",
       "    }\n",
       "\n",
       "    .dataframe tbody tr th {\n",
       "        vertical-align: top;\n",
       "    }\n",
       "\n",
       "    .dataframe thead th {\n",
       "        text-align: right;\n",
       "    }\n",
       "</style>\n",
       "<table border=\"1\" class=\"dataframe\">\n",
       "  <thead>\n",
       "    <tr style=\"text-align: right;\">\n",
       "      <th></th>\n",
       "      <th>Id</th>\n",
       "      <th>SepalLengthCm</th>\n",
       "      <th>PetalLengthCm</th>\n",
       "      <th>PetalWidthCm</th>\n",
       "      <th>Species</th>\n",
       "    </tr>\n",
       "  </thead>\n",
       "  <tbody>\n",
       "    <tr>\n",
       "      <th>0</th>\n",
       "      <td>False</td>\n",
       "      <td>False</td>\n",
       "      <td>False</td>\n",
       "      <td>False</td>\n",
       "      <td>False</td>\n",
       "    </tr>\n",
       "    <tr>\n",
       "      <th>1</th>\n",
       "      <td>False</td>\n",
       "      <td>False</td>\n",
       "      <td>False</td>\n",
       "      <td>False</td>\n",
       "      <td>False</td>\n",
       "    </tr>\n",
       "    <tr>\n",
       "      <th>2</th>\n",
       "      <td>False</td>\n",
       "      <td>False</td>\n",
       "      <td>False</td>\n",
       "      <td>False</td>\n",
       "      <td>False</td>\n",
       "    </tr>\n",
       "    <tr>\n",
       "      <th>3</th>\n",
       "      <td>False</td>\n",
       "      <td>False</td>\n",
       "      <td>False</td>\n",
       "      <td>False</td>\n",
       "      <td>False</td>\n",
       "    </tr>\n",
       "    <tr>\n",
       "      <th>4</th>\n",
       "      <td>False</td>\n",
       "      <td>False</td>\n",
       "      <td>False</td>\n",
       "      <td>False</td>\n",
       "      <td>False</td>\n",
       "    </tr>\n",
       "    <tr>\n",
       "      <th>...</th>\n",
       "      <td>...</td>\n",
       "      <td>...</td>\n",
       "      <td>...</td>\n",
       "      <td>...</td>\n",
       "      <td>...</td>\n",
       "    </tr>\n",
       "    <tr>\n",
       "      <th>160</th>\n",
       "      <td>False</td>\n",
       "      <td>False</td>\n",
       "      <td>False</td>\n",
       "      <td>False</td>\n",
       "      <td>True</td>\n",
       "    </tr>\n",
       "    <tr>\n",
       "      <th>161</th>\n",
       "      <td>False</td>\n",
       "      <td>False</td>\n",
       "      <td>False</td>\n",
       "      <td>False</td>\n",
       "      <td>False</td>\n",
       "    </tr>\n",
       "    <tr>\n",
       "      <th>162</th>\n",
       "      <td>False</td>\n",
       "      <td>False</td>\n",
       "      <td>False</td>\n",
       "      <td>False</td>\n",
       "      <td>False</td>\n",
       "    </tr>\n",
       "    <tr>\n",
       "      <th>163</th>\n",
       "      <td>False</td>\n",
       "      <td>False</td>\n",
       "      <td>False</td>\n",
       "      <td>False</td>\n",
       "      <td>False</td>\n",
       "    </tr>\n",
       "    <tr>\n",
       "      <th>164</th>\n",
       "      <td>False</td>\n",
       "      <td>False</td>\n",
       "      <td>False</td>\n",
       "      <td>False</td>\n",
       "      <td>False</td>\n",
       "    </tr>\n",
       "  </tbody>\n",
       "</table>\n",
       "<p>165 rows × 5 columns</p>\n",
       "</div>"
      ],
      "text/plain": [
       "        Id  SepalLengthCm  PetalLengthCm  PetalWidthCm  Species\n",
       "0    False          False          False         False    False\n",
       "1    False          False          False         False    False\n",
       "2    False          False          False         False    False\n",
       "3    False          False          False         False    False\n",
       "4    False          False          False         False    False\n",
       "..     ...            ...            ...           ...      ...\n",
       "160  False          False          False         False     True\n",
       "161  False          False          False         False    False\n",
       "162  False          False          False         False    False\n",
       "163  False          False          False         False    False\n",
       "164  False          False          False         False    False\n",
       "\n",
       "[165 rows x 5 columns]"
      ]
     },
     "execution_count": 46,
     "metadata": {},
     "output_type": "execute_result"
    }
   ],
   "source": [
    "missing_values = df.isna()\n",
    "missing_values"
   ]
  },
  {
   "cell_type": "code",
   "execution_count": 49,
   "id": "c4b8f6d1",
   "metadata": {},
   "outputs": [
    {
     "data": {
      "text/html": [
       "<div>\n",
       "<style scoped>\n",
       "    .dataframe tbody tr th:only-of-type {\n",
       "        vertical-align: middle;\n",
       "    }\n",
       "\n",
       "    .dataframe tbody tr th {\n",
       "        vertical-align: top;\n",
       "    }\n",
       "\n",
       "    .dataframe thead th {\n",
       "        text-align: right;\n",
       "    }\n",
       "</style>\n",
       "<table border=\"1\" class=\"dataframe\">\n",
       "  <thead>\n",
       "    <tr style=\"text-align: right;\">\n",
       "      <th></th>\n",
       "      <th>Id</th>\n",
       "      <th>SepalLengthCm</th>\n",
       "      <th>PetalLengthCm</th>\n",
       "      <th>PetalWidthCm</th>\n",
       "      <th>Species</th>\n",
       "    </tr>\n",
       "  </thead>\n",
       "  <tbody>\n",
       "    <tr>\n",
       "      <th>0</th>\n",
       "      <td>False</td>\n",
       "      <td>False</td>\n",
       "      <td>False</td>\n",
       "      <td>False</td>\n",
       "      <td>False</td>\n",
       "    </tr>\n",
       "    <tr>\n",
       "      <th>1</th>\n",
       "      <td>False</td>\n",
       "      <td>False</td>\n",
       "      <td>False</td>\n",
       "      <td>False</td>\n",
       "      <td>False</td>\n",
       "    </tr>\n",
       "    <tr>\n",
       "      <th>2</th>\n",
       "      <td>False</td>\n",
       "      <td>False</td>\n",
       "      <td>False</td>\n",
       "      <td>False</td>\n",
       "      <td>False</td>\n",
       "    </tr>\n",
       "    <tr>\n",
       "      <th>3</th>\n",
       "      <td>False</td>\n",
       "      <td>False</td>\n",
       "      <td>False</td>\n",
       "      <td>False</td>\n",
       "      <td>False</td>\n",
       "    </tr>\n",
       "    <tr>\n",
       "      <th>4</th>\n",
       "      <td>False</td>\n",
       "      <td>False</td>\n",
       "      <td>False</td>\n",
       "      <td>False</td>\n",
       "      <td>False</td>\n",
       "    </tr>\n",
       "    <tr>\n",
       "      <th>5</th>\n",
       "      <td>False</td>\n",
       "      <td>False</td>\n",
       "      <td>False</td>\n",
       "      <td>False</td>\n",
       "      <td>True</td>\n",
       "    </tr>\n",
       "    <tr>\n",
       "      <th>6</th>\n",
       "      <td>False</td>\n",
       "      <td>False</td>\n",
       "      <td>False</td>\n",
       "      <td>False</td>\n",
       "      <td>False</td>\n",
       "    </tr>\n",
       "    <tr>\n",
       "      <th>7</th>\n",
       "      <td>False</td>\n",
       "      <td>False</td>\n",
       "      <td>False</td>\n",
       "      <td>False</td>\n",
       "      <td>False</td>\n",
       "    </tr>\n",
       "    <tr>\n",
       "      <th>8</th>\n",
       "      <td>False</td>\n",
       "      <td>False</td>\n",
       "      <td>False</td>\n",
       "      <td>False</td>\n",
       "      <td>False</td>\n",
       "    </tr>\n",
       "    <tr>\n",
       "      <th>9</th>\n",
       "      <td>False</td>\n",
       "      <td>False</td>\n",
       "      <td>True</td>\n",
       "      <td>False</td>\n",
       "      <td>False</td>\n",
       "    </tr>\n",
       "  </tbody>\n",
       "</table>\n",
       "</div>"
      ],
      "text/plain": [
       "      Id  SepalLengthCm  PetalLengthCm  PetalWidthCm  Species\n",
       "0  False          False          False         False    False\n",
       "1  False          False          False         False    False\n",
       "2  False          False          False         False    False\n",
       "3  False          False          False         False    False\n",
       "4  False          False          False         False    False\n",
       "5  False          False          False         False     True\n",
       "6  False          False          False         False    False\n",
       "7  False          False          False         False    False\n",
       "8  False          False          False         False    False\n",
       "9  False          False           True         False    False"
      ]
     },
     "execution_count": 49,
     "metadata": {},
     "output_type": "execute_result"
    }
   ],
   "source": [
    "missing_values.head(10) # True ---> indicate missing values"
   ]
  },
  {
   "cell_type": "code",
   "execution_count": 50,
   "id": "93405151",
   "metadata": {},
   "outputs": [
    {
     "data": {
      "text/html": [
       "<div>\n",
       "<style scoped>\n",
       "    .dataframe tbody tr th:only-of-type {\n",
       "        vertical-align: middle;\n",
       "    }\n",
       "\n",
       "    .dataframe tbody tr th {\n",
       "        vertical-align: top;\n",
       "    }\n",
       "\n",
       "    .dataframe thead th {\n",
       "        text-align: right;\n",
       "    }\n",
       "</style>\n",
       "<table border=\"1\" class=\"dataframe\">\n",
       "  <thead>\n",
       "    <tr style=\"text-align: right;\">\n",
       "      <th></th>\n",
       "      <th>Id</th>\n",
       "      <th>SepalLengthCm</th>\n",
       "      <th>PetalLengthCm</th>\n",
       "      <th>PetalWidthCm</th>\n",
       "      <th>Species</th>\n",
       "    </tr>\n",
       "  </thead>\n",
       "  <tbody>\n",
       "    <tr>\n",
       "      <th>155</th>\n",
       "      <td>False</td>\n",
       "      <td>False</td>\n",
       "      <td>False</td>\n",
       "      <td>False</td>\n",
       "      <td>False</td>\n",
       "    </tr>\n",
       "    <tr>\n",
       "      <th>156</th>\n",
       "      <td>False</td>\n",
       "      <td>False</td>\n",
       "      <td>False</td>\n",
       "      <td>False</td>\n",
       "      <td>False</td>\n",
       "    </tr>\n",
       "    <tr>\n",
       "      <th>157</th>\n",
       "      <td>False</td>\n",
       "      <td>False</td>\n",
       "      <td>False</td>\n",
       "      <td>False</td>\n",
       "      <td>False</td>\n",
       "    </tr>\n",
       "    <tr>\n",
       "      <th>158</th>\n",
       "      <td>False</td>\n",
       "      <td>False</td>\n",
       "      <td>False</td>\n",
       "      <td>False</td>\n",
       "      <td>False</td>\n",
       "    </tr>\n",
       "    <tr>\n",
       "      <th>159</th>\n",
       "      <td>False</td>\n",
       "      <td>False</td>\n",
       "      <td>False</td>\n",
       "      <td>False</td>\n",
       "      <td>False</td>\n",
       "    </tr>\n",
       "    <tr>\n",
       "      <th>160</th>\n",
       "      <td>False</td>\n",
       "      <td>False</td>\n",
       "      <td>False</td>\n",
       "      <td>False</td>\n",
       "      <td>True</td>\n",
       "    </tr>\n",
       "    <tr>\n",
       "      <th>161</th>\n",
       "      <td>False</td>\n",
       "      <td>False</td>\n",
       "      <td>False</td>\n",
       "      <td>False</td>\n",
       "      <td>False</td>\n",
       "    </tr>\n",
       "    <tr>\n",
       "      <th>162</th>\n",
       "      <td>False</td>\n",
       "      <td>False</td>\n",
       "      <td>False</td>\n",
       "      <td>False</td>\n",
       "      <td>False</td>\n",
       "    </tr>\n",
       "    <tr>\n",
       "      <th>163</th>\n",
       "      <td>False</td>\n",
       "      <td>False</td>\n",
       "      <td>False</td>\n",
       "      <td>False</td>\n",
       "      <td>False</td>\n",
       "    </tr>\n",
       "    <tr>\n",
       "      <th>164</th>\n",
       "      <td>False</td>\n",
       "      <td>False</td>\n",
       "      <td>False</td>\n",
       "      <td>False</td>\n",
       "      <td>False</td>\n",
       "    </tr>\n",
       "  </tbody>\n",
       "</table>\n",
       "</div>"
      ],
      "text/plain": [
       "        Id  SepalLengthCm  PetalLengthCm  PetalWidthCm  Species\n",
       "155  False          False          False         False    False\n",
       "156  False          False          False         False    False\n",
       "157  False          False          False         False    False\n",
       "158  False          False          False         False    False\n",
       "159  False          False          False         False    False\n",
       "160  False          False          False         False     True\n",
       "161  False          False          False         False    False\n",
       "162  False          False          False         False    False\n",
       "163  False          False          False         False    False\n",
       "164  False          False          False         False    False"
      ]
     },
     "execution_count": 50,
     "metadata": {},
     "output_type": "execute_result"
    }
   ],
   "source": [
    "missing_values.tail(10)  # True ---> indicate missing values"
   ]
  },
  {
   "cell_type": "markdown",
   "id": "02de5c32",
   "metadata": {},
   "source": [
    "### 8.Extract the Species column using loc and iloc method"
   ]
  },
  {
   "cell_type": "code",
   "execution_count": 4,
   "id": "8e5fa106",
   "metadata": {},
   "outputs": [
    {
     "data": {
      "text/plain": [
       "0         Iris-setosa\n",
       "1         Iris-setosa\n",
       "2         Iris-setosa\n",
       "3         Iris-setosa\n",
       "4         Iris-setosa\n",
       "            ...      \n",
       "160               NaN\n",
       "161    Iris-virginica\n",
       "162    Iris-virginica\n",
       "163    Iris-virginica\n",
       "164    Iris-virginica\n",
       "Name: Species, Length: 165, dtype: object"
      ]
     },
     "execution_count": 4,
     "metadata": {},
     "output_type": "execute_result"
    }
   ],
   "source": [
    "df.loc[:,\"Species\"]"
   ]
  },
  {
   "cell_type": "code",
   "execution_count": 5,
   "id": "6d6687e5",
   "metadata": {},
   "outputs": [
    {
     "data": {
      "text/html": [
       "<div>\n",
       "<style scoped>\n",
       "    .dataframe tbody tr th:only-of-type {\n",
       "        vertical-align: middle;\n",
       "    }\n",
       "\n",
       "    .dataframe tbody tr th {\n",
       "        vertical-align: top;\n",
       "    }\n",
       "\n",
       "    .dataframe thead th {\n",
       "        text-align: right;\n",
       "    }\n",
       "</style>\n",
       "<table border=\"1\" class=\"dataframe\">\n",
       "  <thead>\n",
       "    <tr style=\"text-align: right;\">\n",
       "      <th></th>\n",
       "      <th>Id</th>\n",
       "      <th>PetalWidthCm</th>\n",
       "    </tr>\n",
       "  </thead>\n",
       "  <tbody>\n",
       "    <tr>\n",
       "      <th>0</th>\n",
       "      <td>1</td>\n",
       "      <td>0.2</td>\n",
       "    </tr>\n",
       "    <tr>\n",
       "      <th>1</th>\n",
       "      <td>2</td>\n",
       "      <td>0.2</td>\n",
       "    </tr>\n",
       "    <tr>\n",
       "      <th>2</th>\n",
       "      <td>3</td>\n",
       "      <td>0.2</td>\n",
       "    </tr>\n",
       "    <tr>\n",
       "      <th>3</th>\n",
       "      <td>4</td>\n",
       "      <td>10.2</td>\n",
       "    </tr>\n",
       "    <tr>\n",
       "      <th>4</th>\n",
       "      <td>5</td>\n",
       "      <td>0.2</td>\n",
       "    </tr>\n",
       "    <tr>\n",
       "      <th>...</th>\n",
       "      <td>...</td>\n",
       "      <td>...</td>\n",
       "    </tr>\n",
       "    <tr>\n",
       "      <th>160</th>\n",
       "      <td>161</td>\n",
       "      <td>2.0</td>\n",
       "    </tr>\n",
       "    <tr>\n",
       "      <th>161</th>\n",
       "      <td>162</td>\n",
       "      <td>1.8</td>\n",
       "    </tr>\n",
       "    <tr>\n",
       "      <th>162</th>\n",
       "      <td>163</td>\n",
       "      <td>2.5</td>\n",
       "    </tr>\n",
       "    <tr>\n",
       "      <th>163</th>\n",
       "      <td>164</td>\n",
       "      <td>2.0</td>\n",
       "    </tr>\n",
       "    <tr>\n",
       "      <th>164</th>\n",
       "      <td>165</td>\n",
       "      <td>1.9</td>\n",
       "    </tr>\n",
       "  </tbody>\n",
       "</table>\n",
       "<p>165 rows × 2 columns</p>\n",
       "</div>"
      ],
      "text/plain": [
       "      Id  PetalWidthCm\n",
       "0      1           0.2\n",
       "1      2           0.2\n",
       "2      3           0.2\n",
       "3      4          10.2\n",
       "4      5           0.2\n",
       "..   ...           ...\n",
       "160  161           2.0\n",
       "161  162           1.8\n",
       "162  163           2.5\n",
       "163  164           2.0\n",
       "164  165           1.9\n",
       "\n",
       "[165 rows x 2 columns]"
      ]
     },
     "execution_count": 5,
     "metadata": {},
     "output_type": "execute_result"
    }
   ],
   "source": [
    "df.iloc[:,0::4]"
   ]
  },
  {
   "cell_type": "markdown",
   "id": "1d43eb78",
   "metadata": {},
   "source": [
    "### 9.Drop sepal Width column"
   ]
  },
  {
   "cell_type": "code",
   "execution_count": 82,
   "id": "dbdc5da4",
   "metadata": {},
   "outputs": [],
   "source": [
    "df.drop(\"SepalWidthCm\",axis = 1,inplace = True )"
   ]
  },
  {
   "cell_type": "code",
   "execution_count": 83,
   "id": "f1ea8318",
   "metadata": {},
   "outputs": [
    {
     "data": {
      "text/html": [
       "<div>\n",
       "<style scoped>\n",
       "    .dataframe tbody tr th:only-of-type {\n",
       "        vertical-align: middle;\n",
       "    }\n",
       "\n",
       "    .dataframe tbody tr th {\n",
       "        vertical-align: top;\n",
       "    }\n",
       "\n",
       "    .dataframe thead th {\n",
       "        text-align: right;\n",
       "    }\n",
       "</style>\n",
       "<table border=\"1\" class=\"dataframe\">\n",
       "  <thead>\n",
       "    <tr style=\"text-align: right;\">\n",
       "      <th></th>\n",
       "      <th>Id</th>\n",
       "      <th>SepalLengthCm</th>\n",
       "      <th>PetalLengthCm</th>\n",
       "      <th>PetalWidthCm</th>\n",
       "      <th>Species</th>\n",
       "    </tr>\n",
       "  </thead>\n",
       "  <tbody>\n",
       "    <tr>\n",
       "      <th>0</th>\n",
       "      <td>1</td>\n",
       "      <td>5.1</td>\n",
       "      <td>1.4</td>\n",
       "      <td>0.2</td>\n",
       "      <td>Iris-setosa</td>\n",
       "    </tr>\n",
       "    <tr>\n",
       "      <th>1</th>\n",
       "      <td>2</td>\n",
       "      <td>4.9</td>\n",
       "      <td>1.4</td>\n",
       "      <td>0.2</td>\n",
       "      <td>Iris-setosa</td>\n",
       "    </tr>\n",
       "    <tr>\n",
       "      <th>2</th>\n",
       "      <td>3</td>\n",
       "      <td>4.7</td>\n",
       "      <td>1.3</td>\n",
       "      <td>0.2</td>\n",
       "      <td>Iris-setosa</td>\n",
       "    </tr>\n",
       "    <tr>\n",
       "      <th>3</th>\n",
       "      <td>4</td>\n",
       "      <td>4.6</td>\n",
       "      <td>1.5</td>\n",
       "      <td>10.2</td>\n",
       "      <td>Iris-setosa</td>\n",
       "    </tr>\n",
       "    <tr>\n",
       "      <th>4</th>\n",
       "      <td>5</td>\n",
       "      <td>50.0</td>\n",
       "      <td>1.4</td>\n",
       "      <td>0.2</td>\n",
       "      <td>Iris-setosa</td>\n",
       "    </tr>\n",
       "    <tr>\n",
       "      <th>...</th>\n",
       "      <td>...</td>\n",
       "      <td>...</td>\n",
       "      <td>...</td>\n",
       "      <td>...</td>\n",
       "      <td>...</td>\n",
       "    </tr>\n",
       "    <tr>\n",
       "      <th>160</th>\n",
       "      <td>161</td>\n",
       "      <td>7.7</td>\n",
       "      <td>6.7</td>\n",
       "      <td>2.0</td>\n",
       "      <td>NaN</td>\n",
       "    </tr>\n",
       "    <tr>\n",
       "      <th>161</th>\n",
       "      <td>162</td>\n",
       "      <td>6.3</td>\n",
       "      <td>4.9</td>\n",
       "      <td>1.8</td>\n",
       "      <td>Iris-virginica</td>\n",
       "    </tr>\n",
       "    <tr>\n",
       "      <th>162</th>\n",
       "      <td>163</td>\n",
       "      <td>7.2</td>\n",
       "      <td>6.1</td>\n",
       "      <td>2.5</td>\n",
       "      <td>Iris-virginica</td>\n",
       "    </tr>\n",
       "    <tr>\n",
       "      <th>163</th>\n",
       "      <td>164</td>\n",
       "      <td>6.5</td>\n",
       "      <td>5.1</td>\n",
       "      <td>2.0</td>\n",
       "      <td>Iris-virginica</td>\n",
       "    </tr>\n",
       "    <tr>\n",
       "      <th>164</th>\n",
       "      <td>165</td>\n",
       "      <td>6.4</td>\n",
       "      <td>5.3</td>\n",
       "      <td>1.9</td>\n",
       "      <td>Iris-virginica</td>\n",
       "    </tr>\n",
       "  </tbody>\n",
       "</table>\n",
       "<p>165 rows × 5 columns</p>\n",
       "</div>"
      ],
      "text/plain": [
       "      Id  SepalLengthCm  PetalLengthCm  PetalWidthCm         Species\n",
       "0      1            5.1            1.4           0.2     Iris-setosa\n",
       "1      2            4.9            1.4           0.2     Iris-setosa\n",
       "2      3            4.7            1.3           0.2     Iris-setosa\n",
       "3      4            4.6            1.5          10.2     Iris-setosa\n",
       "4      5           50.0            1.4           0.2     Iris-setosa\n",
       "..   ...            ...            ...           ...             ...\n",
       "160  161            7.7            6.7           2.0             NaN\n",
       "161  162            6.3            4.9           1.8  Iris-virginica\n",
       "162  163            7.2            6.1           2.5  Iris-virginica\n",
       "163  164            6.5            5.1           2.0  Iris-virginica\n",
       "164  165            6.4            5.3           1.9  Iris-virginica\n",
       "\n",
       "[165 rows x 5 columns]"
      ]
     },
     "execution_count": 83,
     "metadata": {},
     "output_type": "execute_result"
    }
   ],
   "source": [
    "df"
   ]
  },
  {
   "cell_type": "markdown",
   "id": "d9dd724a",
   "metadata": {},
   "source": [
    "### 10.Get petalwidth 10th value using at and iat"
   ]
  },
  {
   "cell_type": "code",
   "execution_count": 8,
   "id": "3402c82f",
   "metadata": {},
   "outputs": [
    {
     "data": {
      "text/plain": [
       "0.2"
      ]
     },
     "execution_count": 8,
     "metadata": {},
     "output_type": "execute_result"
    }
   ],
   "source": [
    "df.at[10,\"PetalWidthCm\"]"
   ]
  },
  {
   "cell_type": "code",
   "execution_count": 21,
   "id": "f6eb54d3",
   "metadata": {},
   "outputs": [
    {
     "data": {
      "text/plain": [
       "0.2"
      ]
     },
     "execution_count": 21,
     "metadata": {},
     "output_type": "execute_result"
    }
   ],
   "source": [
    "df.iat[10,4]"
   ]
  },
  {
   "cell_type": "code",
   "execution_count": null,
   "id": "606ba52d",
   "metadata": {},
   "outputs": [],
   "source": []
  }
 ],
 "metadata": {
  "kernelspec": {
   "display_name": "Python 3 (ipykernel)",
   "language": "python",
   "name": "python3"
  },
  "language_info": {
   "codemirror_mode": {
    "name": "ipython",
    "version": 3
   },
   "file_extension": ".py",
   "mimetype": "text/x-python",
   "name": "python",
   "nbconvert_exporter": "python",
   "pygments_lexer": "ipython3",
   "version": "3.11.4"
  }
 },
 "nbformat": 4,
 "nbformat_minor": 5
}
